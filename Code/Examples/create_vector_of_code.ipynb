{
 "cells": [
  {
   "attachments": {},
   "cell_type": "markdown",
   "metadata": {},
   "source": [
    "# Import"
   ]
  },
  {
   "cell_type": "code",
   "execution_count": 88,
   "metadata": {},
   "outputs": [],
   "source": [
    "import spacy\n",
    "import en_core_web_sm\n",
    "import os\n",
    "from itertools import chain\n",
    "import pandas as pd"
   ]
  },
  {
   "cell_type": "code",
   "execution_count": 79,
   "metadata": {},
   "outputs": [],
   "source": [
    "nlp = en_core_web_sm.load()\n"
   ]
  },
  {
   "attachments": {},
   "cell_type": "markdown",
   "metadata": {},
   "source": [
    "# Wayes"
   ]
  },
  {
   "cell_type": "code",
   "execution_count": 70,
   "metadata": {},
   "outputs": [],
   "source": [
    "def formater_for_way_by_os_walk(x):\n",
    "    x = list(x)\n",
    "    k = x.pop(0)\n",
    "    return list(map(lambda a: k + '/'+ a, max(x, key=len)))\n",
    "\n"
   ]
  },
  {
   "cell_type": "code",
   "execution_count": 71,
   "metadata": {},
   "outputs": [
    {
     "data": {
      "text/plain": [
       "['../../Data/Cpp/1.cpp',\n",
       " '../../Data/Cpp/2.cpp',\n",
       " '../../Data/Python/Menu.py',\n",
       " '../../Data/Python/Menu_of_map_input.py',\n",
       " '../../Data/Python/Min_weight_ostov_tree.py',\n",
       " '../../Data/Python/Pract_zd_1_12_02_2022.py']"
      ]
     },
     "execution_count": 71,
     "metadata": {},
     "output_type": "execute_result"
    }
   ],
   "source": [
    "way_for_data = '../../Data/'\n",
    "wayes_to_files = list(chain(*map(formater_for_way_by_os_walk, list(os.walk(way_for_data))[1:])))\n",
    "wayes_to_files\n"
   ]
  },
  {
   "attachments": {},
   "cell_type": "markdown",
   "metadata": {},
   "source": [
    "# To DataFrame"
   ]
  },
  {
   "cell_type": "code",
   "execution_count": 85,
   "metadata": {},
   "outputs": [],
   "source": [
    "def read_from_file(x):\n",
    "    with open(x, 'r') as text:\n",
    "        rt =  text.read()\n",
    "    return (x, nlp(rt).vector)\n"
   ]
  },
  {
   "cell_type": "code",
   "execution_count": 86,
   "metadata": {},
   "outputs": [],
   "source": [
    "texts_of_programs = dict(map(read_from_file, wayes_to_files))\n"
   ]
  },
  {
   "cell_type": "code",
   "execution_count": 89,
   "metadata": {},
   "outputs": [
    {
     "data": {
      "text/html": [
       "<div>\n",
       "<style scoped>\n",
       "    .dataframe tbody tr th:only-of-type {\n",
       "        vertical-align: middle;\n",
       "    }\n",
       "\n",
       "    .dataframe tbody tr th {\n",
       "        vertical-align: top;\n",
       "    }\n",
       "\n",
       "    .dataframe thead th {\n",
       "        text-align: right;\n",
       "    }\n",
       "</style>\n",
       "<table border=\"1\" class=\"dataframe\">\n",
       "  <thead>\n",
       "    <tr style=\"text-align: right;\">\n",
       "      <th></th>\n",
       "      <th>0</th>\n",
       "      <th>1</th>\n",
       "      <th>2</th>\n",
       "      <th>3</th>\n",
       "      <th>4</th>\n",
       "      <th>5</th>\n",
       "      <th>6</th>\n",
       "      <th>7</th>\n",
       "      <th>8</th>\n",
       "      <th>9</th>\n",
       "      <th>...</th>\n",
       "      <th>86</th>\n",
       "      <th>87</th>\n",
       "      <th>88</th>\n",
       "      <th>89</th>\n",
       "      <th>90</th>\n",
       "      <th>91</th>\n",
       "      <th>92</th>\n",
       "      <th>93</th>\n",
       "      <th>94</th>\n",
       "      <th>95</th>\n",
       "    </tr>\n",
       "  </thead>\n",
       "  <tbody>\n",
       "    <tr>\n",
       "      <th>../../Data/Cpp/1.cpp</th>\n",
       "      <td>-0.234108</td>\n",
       "      <td>-0.158266</td>\n",
       "      <td>-0.204011</td>\n",
       "      <td>-0.370631</td>\n",
       "      <td>0.527034</td>\n",
       "      <td>0.767083</td>\n",
       "      <td>-0.154947</td>\n",
       "      <td>0.485308</td>\n",
       "      <td>0.227585</td>\n",
       "      <td>-0.133460</td>\n",
       "      <td>...</td>\n",
       "      <td>-0.457549</td>\n",
       "      <td>0.313396</td>\n",
       "      <td>-0.170943</td>\n",
       "      <td>0.569975</td>\n",
       "      <td>-0.011838</td>\n",
       "      <td>0.524374</td>\n",
       "      <td>0.421674</td>\n",
       "      <td>-0.109463</td>\n",
       "      <td>-0.110258</td>\n",
       "      <td>0.113427</td>\n",
       "    </tr>\n",
       "    <tr>\n",
       "      <th>../../Data/Cpp/2.cpp</th>\n",
       "      <td>-0.185316</td>\n",
       "      <td>-0.243936</td>\n",
       "      <td>-0.098385</td>\n",
       "      <td>-0.351541</td>\n",
       "      <td>0.514432</td>\n",
       "      <td>0.899801</td>\n",
       "      <td>-0.213984</td>\n",
       "      <td>0.354295</td>\n",
       "      <td>0.126001</td>\n",
       "      <td>-0.147552</td>\n",
       "      <td>...</td>\n",
       "      <td>-0.363735</td>\n",
       "      <td>0.421546</td>\n",
       "      <td>-0.228834</td>\n",
       "      <td>0.544621</td>\n",
       "      <td>0.004349</td>\n",
       "      <td>0.615756</td>\n",
       "      <td>0.507131</td>\n",
       "      <td>-0.113849</td>\n",
       "      <td>0.015103</td>\n",
       "      <td>0.161888</td>\n",
       "    </tr>\n",
       "    <tr>\n",
       "      <th>../../Data/Python/Menu.py</th>\n",
       "      <td>-0.278993</td>\n",
       "      <td>-0.315665</td>\n",
       "      <td>-0.038535</td>\n",
       "      <td>-0.404287</td>\n",
       "      <td>0.586396</td>\n",
       "      <td>1.232201</td>\n",
       "      <td>-0.244682</td>\n",
       "      <td>0.979983</td>\n",
       "      <td>0.433186</td>\n",
       "      <td>-0.250949</td>\n",
       "      <td>...</td>\n",
       "      <td>-0.334240</td>\n",
       "      <td>0.188687</td>\n",
       "      <td>-0.339506</td>\n",
       "      <td>0.754480</td>\n",
       "      <td>-0.039200</td>\n",
       "      <td>0.672547</td>\n",
       "      <td>0.294854</td>\n",
       "      <td>-0.254661</td>\n",
       "      <td>-0.021988</td>\n",
       "      <td>0.332442</td>\n",
       "    </tr>\n",
       "    <tr>\n",
       "      <th>../../Data/Python/Menu_of_map_input.py</th>\n",
       "      <td>-0.291939</td>\n",
       "      <td>-0.219594</td>\n",
       "      <td>0.004116</td>\n",
       "      <td>-0.489212</td>\n",
       "      <td>0.579532</td>\n",
       "      <td>0.936634</td>\n",
       "      <td>-0.139053</td>\n",
       "      <td>0.733874</td>\n",
       "      <td>0.376615</td>\n",
       "      <td>-0.214232</td>\n",
       "      <td>...</td>\n",
       "      <td>-0.195131</td>\n",
       "      <td>0.278475</td>\n",
       "      <td>-0.217584</td>\n",
       "      <td>0.802541</td>\n",
       "      <td>-0.006498</td>\n",
       "      <td>0.768612</td>\n",
       "      <td>0.381988</td>\n",
       "      <td>-0.213903</td>\n",
       "      <td>0.006013</td>\n",
       "      <td>0.251152</td>\n",
       "    </tr>\n",
       "    <tr>\n",
       "      <th>../../Data/Python/Min_weight_ostov_tree.py</th>\n",
       "      <td>-0.391692</td>\n",
       "      <td>-0.334989</td>\n",
       "      <td>0.212472</td>\n",
       "      <td>-0.556161</td>\n",
       "      <td>0.442272</td>\n",
       "      <td>0.760827</td>\n",
       "      <td>-0.187808</td>\n",
       "      <td>0.759116</td>\n",
       "      <td>0.227606</td>\n",
       "      <td>-0.131693</td>\n",
       "      <td>...</td>\n",
       "      <td>-0.189700</td>\n",
       "      <td>0.144257</td>\n",
       "      <td>-0.406020</td>\n",
       "      <td>0.612757</td>\n",
       "      <td>-0.010755</td>\n",
       "      <td>0.840126</td>\n",
       "      <td>0.425273</td>\n",
       "      <td>-0.183118</td>\n",
       "      <td>0.206572</td>\n",
       "      <td>0.424066</td>\n",
       "    </tr>\n",
       "    <tr>\n",
       "      <th>../../Data/Python/Pract_zd_1_12_02_2022.py</th>\n",
       "      <td>-0.548089</td>\n",
       "      <td>-0.057801</td>\n",
       "      <td>0.053178</td>\n",
       "      <td>-0.365056</td>\n",
       "      <td>0.850460</td>\n",
       "      <td>0.313595</td>\n",
       "      <td>-0.180855</td>\n",
       "      <td>0.860350</td>\n",
       "      <td>0.585903</td>\n",
       "      <td>-0.239925</td>\n",
       "      <td>...</td>\n",
       "      <td>-0.226448</td>\n",
       "      <td>0.431555</td>\n",
       "      <td>-0.547430</td>\n",
       "      <td>0.561507</td>\n",
       "      <td>-0.221511</td>\n",
       "      <td>0.448408</td>\n",
       "      <td>0.284249</td>\n",
       "      <td>-0.013621</td>\n",
       "      <td>0.071580</td>\n",
       "      <td>0.462864</td>\n",
       "    </tr>\n",
       "  </tbody>\n",
       "</table>\n",
       "<p>6 rows × 96 columns</p>\n",
       "</div>"
      ],
      "text/plain": [
       "                                                  0         1         2   \\\n",
       "../../Data/Cpp/1.cpp                       -0.234108 -0.158266 -0.204011   \n",
       "../../Data/Cpp/2.cpp                       -0.185316 -0.243936 -0.098385   \n",
       "../../Data/Python/Menu.py                  -0.278993 -0.315665 -0.038535   \n",
       "../../Data/Python/Menu_of_map_input.py     -0.291939 -0.219594  0.004116   \n",
       "../../Data/Python/Min_weight_ostov_tree.py -0.391692 -0.334989  0.212472   \n",
       "../../Data/Python/Pract_zd_1_12_02_2022.py -0.548089 -0.057801  0.053178   \n",
       "\n",
       "                                                  3         4         5   \\\n",
       "../../Data/Cpp/1.cpp                       -0.370631  0.527034  0.767083   \n",
       "../../Data/Cpp/2.cpp                       -0.351541  0.514432  0.899801   \n",
       "../../Data/Python/Menu.py                  -0.404287  0.586396  1.232201   \n",
       "../../Data/Python/Menu_of_map_input.py     -0.489212  0.579532  0.936634   \n",
       "../../Data/Python/Min_weight_ostov_tree.py -0.556161  0.442272  0.760827   \n",
       "../../Data/Python/Pract_zd_1_12_02_2022.py -0.365056  0.850460  0.313595   \n",
       "\n",
       "                                                  6         7         8   \\\n",
       "../../Data/Cpp/1.cpp                       -0.154947  0.485308  0.227585   \n",
       "../../Data/Cpp/2.cpp                       -0.213984  0.354295  0.126001   \n",
       "../../Data/Python/Menu.py                  -0.244682  0.979983  0.433186   \n",
       "../../Data/Python/Menu_of_map_input.py     -0.139053  0.733874  0.376615   \n",
       "../../Data/Python/Min_weight_ostov_tree.py -0.187808  0.759116  0.227606   \n",
       "../../Data/Python/Pract_zd_1_12_02_2022.py -0.180855  0.860350  0.585903   \n",
       "\n",
       "                                                  9   ...        86        87  \\\n",
       "../../Data/Cpp/1.cpp                       -0.133460  ... -0.457549  0.313396   \n",
       "../../Data/Cpp/2.cpp                       -0.147552  ... -0.363735  0.421546   \n",
       "../../Data/Python/Menu.py                  -0.250949  ... -0.334240  0.188687   \n",
       "../../Data/Python/Menu_of_map_input.py     -0.214232  ... -0.195131  0.278475   \n",
       "../../Data/Python/Min_weight_ostov_tree.py -0.131693  ... -0.189700  0.144257   \n",
       "../../Data/Python/Pract_zd_1_12_02_2022.py -0.239925  ... -0.226448  0.431555   \n",
       "\n",
       "                                                  88        89        90  \\\n",
       "../../Data/Cpp/1.cpp                       -0.170943  0.569975 -0.011838   \n",
       "../../Data/Cpp/2.cpp                       -0.228834  0.544621  0.004349   \n",
       "../../Data/Python/Menu.py                  -0.339506  0.754480 -0.039200   \n",
       "../../Data/Python/Menu_of_map_input.py     -0.217584  0.802541 -0.006498   \n",
       "../../Data/Python/Min_weight_ostov_tree.py -0.406020  0.612757 -0.010755   \n",
       "../../Data/Python/Pract_zd_1_12_02_2022.py -0.547430  0.561507 -0.221511   \n",
       "\n",
       "                                                  91        92        93  \\\n",
       "../../Data/Cpp/1.cpp                        0.524374  0.421674 -0.109463   \n",
       "../../Data/Cpp/2.cpp                        0.615756  0.507131 -0.113849   \n",
       "../../Data/Python/Menu.py                   0.672547  0.294854 -0.254661   \n",
       "../../Data/Python/Menu_of_map_input.py      0.768612  0.381988 -0.213903   \n",
       "../../Data/Python/Min_weight_ostov_tree.py  0.840126  0.425273 -0.183118   \n",
       "../../Data/Python/Pract_zd_1_12_02_2022.py  0.448408  0.284249 -0.013621   \n",
       "\n",
       "                                                  94        95  \n",
       "../../Data/Cpp/1.cpp                       -0.110258  0.113427  \n",
       "../../Data/Cpp/2.cpp                        0.015103  0.161888  \n",
       "../../Data/Python/Menu.py                  -0.021988  0.332442  \n",
       "../../Data/Python/Menu_of_map_input.py      0.006013  0.251152  \n",
       "../../Data/Python/Min_weight_ostov_tree.py  0.206572  0.424066  \n",
       "../../Data/Python/Pract_zd_1_12_02_2022.py  0.071580  0.462864  \n",
       "\n",
       "[6 rows x 96 columns]"
      ]
     },
     "execution_count": 89,
     "metadata": {},
     "output_type": "execute_result"
    }
   ],
   "source": [
    "pd.DataFrame(texts_of_programs).transpose()"
   ]
  },
  {
   "attachments": {},
   "cell_type": "markdown",
   "metadata": {},
   "source": [
    "## Demonstration"
   ]
  },
  {
   "cell_type": "code",
   "execution_count": 84,
   "metadata": {},
   "outputs": [
    {
     "data": {
      "text/plain": [
       "array([-0.23410845, -0.15826637, -0.20401144, -0.37063086,  0.5270337 ,\n",
       "        0.76708287, -0.15494698,  0.48530796,  0.22758484, -0.13346042,\n",
       "        0.10424009,  0.47440925, -0.48724648, -0.18066786, -0.10100764,\n",
       "        0.3609225 ,  0.2544776 , -0.21186163, -0.04288651, -0.250547  ,\n",
       "       -0.21520898,  0.18393813,  0.31879407,  0.24150752, -0.15460934,\n",
       "       -0.03395987,  0.25896376,  0.59823984,  0.40331912, -0.12101032,\n",
       "        0.34009573, -0.0789018 ,  0.6017157 ,  0.39816785,  0.59619766,\n",
       "       -0.5338339 ,  0.9608807 ,  0.17391056, -0.5761611 , -0.4388149 ,\n",
       "       -0.13523963, -0.239731  ,  0.28724915, -0.61275536, -0.2389423 ,\n",
       "       -0.30170432,  0.18050727, -0.07121544, -0.1348004 ,  0.18530138,\n",
       "       -0.32763627, -0.30905154, -0.01395729,  0.52181065,  0.11172357,\n",
       "       -0.35037962, -0.35672778, -0.5427447 ,  0.3622509 ,  0.02585862,\n",
       "        0.0986085 ,  0.12599824,  0.4814979 , -0.5029068 , -0.1697886 ,\n",
       "        0.1765031 , -0.9062508 , -0.45924604,  0.02318132,  0.25412238,\n",
       "       -0.2643339 ,  0.23647237,  0.17833348, -0.27721074,  1.3189027 ,\n",
       "       -0.06481979,  0.14060989, -0.14970408,  0.3490631 , -0.03415312,\n",
       "        0.16957223, -0.42239714, -0.30392802, -0.2501426 , -0.3236227 ,\n",
       "        0.17221126, -0.45754886,  0.31339577, -0.17094274,  0.569975  ,\n",
       "       -0.01183837,  0.5243744 ,  0.4216743 , -0.10946256, -0.11025833,\n",
       "        0.11342697], dtype=float32)"
      ]
     },
     "execution_count": 84,
     "metadata": {},
     "output_type": "execute_result"
    }
   ],
   "source": [
    "nlp(texts_of_programs['../../Data/Cpp/1.cpp']).vector\n"
   ]
  },
  {
   "cell_type": "code",
   "execution_count": 83,
   "metadata": {},
   "outputs": [
    {
     "data": {
      "text/plain": [
       "True"
      ]
     },
     "execution_count": 83,
     "metadata": {},
     "output_type": "execute_result"
    }
   ],
   "source": [
    "nlp(texts_of_programs['../../Data/Cpp/1.cpp']).vector.shape == nlp(\n",
    "    texts_of_programs['../../Data/Python/Menu_of_map_input.py']).vector.shape\n"
   ]
  }
 ],
 "metadata": {
  "kernelspec": {
   "display_name": "ITS_project",
   "language": "python",
   "name": "python3"
  },
  "language_info": {
   "codemirror_mode": {
    "name": "ipython",
    "version": 3
   },
   "file_extension": ".py",
   "mimetype": "text/x-python",
   "name": "python",
   "nbconvert_exporter": "python",
   "pygments_lexer": "ipython3",
   "version": "3.9.2"
  },
  "orig_nbformat": 4,
  "vscode": {
   "interpreter": {
    "hash": "328d409118a792ed51c88188014777b2a49b57255476441afa452500ebf54218"
   }
  }
 },
 "nbformat": 4,
 "nbformat_minor": 2
}
