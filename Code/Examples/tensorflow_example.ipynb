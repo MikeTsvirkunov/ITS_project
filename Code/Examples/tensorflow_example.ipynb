{
 "cells": [
  {
   "cell_type": "code",
   "execution_count": 7,
   "metadata": {},
   "outputs": [
    {
     "name": "stdout",
     "output_type": "stream",
     "text": [
      "Model: \"sequential\"\n",
      "_________________________________________________________________\n",
      " Layer (type)                Output Shape              Param #   \n",
      "=================================================================\n",
      " hidden_layer_1 (Dense)      (None, 32)                352       \n",
      "                                                                 \n",
      " dropout (Dropout)           (None, 32)                0         \n",
      "                                                                 \n",
      " hidden_layer_2 (Dense)      (None, 10)                330       \n",
      "                                                                 \n",
      "=================================================================\n",
      "Total params: 682\n",
      "Trainable params: 682\n",
      "Non-trainable params: 0\n",
      "_________________________________________________________________\n"
     ]
    }
   ],
   "source": [
    "import tensorflow as tf\n",
    "\n",
    "model = tf.keras.models.Sequential([\n",
    "    tf.keras.layers.Dense(32, activation='relu',\n",
    "                          input_shape=(10,), name='hidden_layer_1'),\n",
    "    tf.keras.layers.Dropout(0.2, name='dropout'),\n",
    "    tf.keras.layers.Dense(10, name='hidden_layer_2')\n",
    "])\n",
    "model.summary()\n"
   ]
  },
  {
   "cell_type": "code",
   "execution_count": 8,
   "metadata": {},
   "outputs": [
    {
     "name": "stdout",
     "output_type": "stream",
     "text": [
      "Model: \"sequential\"\n",
      "_________________________________________________________________\n",
      " Layer (type)                Output Shape              Param #   \n",
      "=================================================================\n",
      " hidden_layer_1 (Dense)      (None, 32)                352       \n",
      "                                                                 \n",
      " dropout (Dropout)           (None, 32)                0         \n",
      "                                                                 \n",
      " hidden_layer_2 (Dense)      (None, 10)                330       \n",
      "                                                                 \n",
      " hidden_layer_3 (Dense)      (None, 5)                 55        \n",
      "                                                                 \n",
      " output (Dense)              (None, 2)                 12        \n",
      "                                                                 \n",
      "=================================================================\n",
      "Total params: 749\n",
      "Trainable params: 749\n",
      "Non-trainable params: 0\n",
      "_________________________________________________________________\n"
     ]
    }
   ],
   "source": [
    "model.add(tf.keras.layers.Dense(5, activation='relu', name='hidden_layer_3'))\n",
    "model.add(tf.keras.layers.Dense(2, name='output'))\n",
    "model.summary()\n"
   ]
  },
  {
   "cell_type": "code",
   "execution_count": 12,
   "metadata": {},
   "outputs": [
    {
     "name": "stdout",
     "output_type": "stream",
     "text": [
      "You must install pydot (`pip install pydot`) and install graphviz (see instructions at https://graphviz.gitlab.io/download/) for plot_model to work.\n"
     ]
    }
   ],
   "source": [
    "tf.keras.utils.plot_model(model, show_shapes=True)\n"
   ]
  },
  {
   "cell_type": "code",
   "execution_count": 13,
   "metadata": {},
   "outputs": [],
   "source": [
    "model = tf.keras.models.Sequential([\n",
    "    tf.keras.layers.Dense(5, input_shape=(10,), name='hidden_layer_1'),\n",
    "    tf.keras.layers.Dense(2, name='output')\n",
    "])\n",
    "\n",
    "model.compile(\n",
    "    loss=tf.keras.losses.SparseCategoricalCrossentropy(\n",
    "        from_logits=True),  # Функция потерь\n",
    "    optimizer='Adam',  # Оптимизатор\n",
    "    metrics=[  # Метрики\n",
    "        'accuracy',  # Если у объекта назначено имя, то можно вызвать объект с его помощью\n",
    "        tf.keras.metrics.Precision()\n",
    "    ]\n",
    ")\n"
   ]
  },
  {
   "cell_type": "code",
   "execution_count": 14,
   "metadata": {},
   "outputs": [
    {
     "name": "stdout",
     "output_type": "stream",
     "text": [
      "Epoch 1/10\n",
      "10/10 [==============================] - 1s 18ms/step - loss: 1.1563 - mean_absolute_error: 0.9362 - val_loss: 0.8767 - val_mean_absolute_error: 0.7899\n",
      "Epoch 2/10\n",
      "10/10 [==============================] - 0s 4ms/step - loss: 0.9516 - mean_absolute_error: 0.8346 - val_loss: 0.7207 - val_mean_absolute_error: 0.7056\n",
      "Epoch 3/10\n",
      "10/10 [==============================] - 0s 4ms/step - loss: 0.7937 - mean_absolute_error: 0.7485 - val_loss: 0.5898 - val_mean_absolute_error: 0.6243\n",
      "Epoch 4/10\n",
      "10/10 [==============================] - 0s 4ms/step - loss: 0.6583 - mean_absolute_error: 0.6770 - val_loss: 0.4871 - val_mean_absolute_error: 0.5573\n",
      "Epoch 5/10\n",
      "10/10 [==============================] - 0s 4ms/step - loss: 0.5418 - mean_absolute_error: 0.6079 - val_loss: 0.4116 - val_mean_absolute_error: 0.5119\n",
      "Epoch 6/10\n",
      "10/10 [==============================] - 0s 4ms/step - loss: 0.4591 - mean_absolute_error: 0.5543 - val_loss: 0.3513 - val_mean_absolute_error: 0.4701\n",
      "Epoch 7/10\n",
      "10/10 [==============================] - 0s 4ms/step - loss: 0.3926 - mean_absolute_error: 0.5072 - val_loss: 0.3055 - val_mean_absolute_error: 0.4397\n",
      "Epoch 8/10\n",
      "10/10 [==============================] - 0s 4ms/step - loss: 0.3418 - mean_absolute_error: 0.4751 - val_loss: 0.2712 - val_mean_absolute_error: 0.4252\n",
      "Epoch 9/10\n",
      "10/10 [==============================] - 0s 4ms/step - loss: 0.3015 - mean_absolute_error: 0.4475 - val_loss: 0.2466 - val_mean_absolute_error: 0.4139\n",
      "Epoch 10/10\n",
      "10/10 [==============================] - 0s 4ms/step - loss: 0.2682 - mean_absolute_error: 0.4250 - val_loss: 0.2304 - val_mean_absolute_error: 0.4045\n"
     ]
    },
    {
     "data": {
      "text/plain": [
       "<keras.callbacks.History at 0x215a92d3760>"
      ]
     },
     "execution_count": 14,
     "metadata": {},
     "output_type": "execute_result"
    }
   ],
   "source": [
    "import numpy as np\n",
    "\n",
    "# Инициализируем набор данных случайными цифрами.\n",
    "# Матрица 100 на 10 с диапазоном значений [0;1]\n",
    "X = np.array(np.random.random((100, 5)))\n",
    "# Вектор длины 100 с диапазоном значений [0;1]\n",
    "Y = np.array(np.random.random((100)))\n",
    "\n",
    "# Создадим модель\n",
    "model = tf.keras.models.Sequential([\n",
    "    tf.keras.layers.Dense(3, input_shape=(5,)),\n",
    "    tf.keras.layers.Dense(1)\n",
    "])\n",
    "\n",
    "# Скомпилируем\n",
    "model.compile(\n",
    "    optimizer='Adam',\n",
    "    loss='mse',\n",
    "    metrics=['mean_absolute_error']\n",
    ")\n",
    "\n",
    "# Обучим\n",
    "model.fit(\n",
    "    X,  # Набор входных данных\n",
    "    Y,  # Набор правильных ответов\n",
    "    validation_split=0.2,  # Этот параметр автоматически выделит часть обучающего набора на валидационные данные. В данном случа 20%\n",
    "    epochs=10,  # Процесс обучения завершится после 10 эпох\n",
    "    # Набор данных будет разбит на пакеты (батчи) по 8 элементов набора в каждом.\n",
    "    batch_size=8\n",
    ")\n"
   ]
  },
  {
   "cell_type": "code",
   "execution_count": 15,
   "metadata": {},
   "outputs": [
    {
     "name": "stdout",
     "output_type": "stream",
     "text": [
      "1/1 [==============================] - 0s 62ms/step\n"
     ]
    },
    {
     "data": {
      "text/plain": [
       "array([[0.6808528 ],\n",
       "       [1.021966  ],\n",
       "       [0.94392824],\n",
       "       [0.64398706],\n",
       "       [0.3601853 ],\n",
       "       [0.5701721 ],\n",
       "       [0.55390906],\n",
       "       [0.36208752],\n",
       "       [0.30451295],\n",
       "       [1.1093382 ]], dtype=float32)"
      ]
     },
     "execution_count": 15,
     "metadata": {},
     "output_type": "execute_result"
    }
   ],
   "source": [
    "X_test = np.array(np.random.random((10, 5)))\n",
    "Y_test = np.array(np.random.random((10)))\n",
    "model.predict(X_test)\n"
   ]
  }
 ],
 "metadata": {
  "kernelspec": {
   "display_name": "ITS_project",
   "language": "python",
   "name": "python3"
  },
  "language_info": {
   "codemirror_mode": {
    "name": "ipython",
    "version": 3
   },
   "file_extension": ".py",
   "mimetype": "text/x-python",
   "name": "python",
   "nbconvert_exporter": "python",
   "pygments_lexer": "ipython3",
   "version": "3.9.2"
  },
  "orig_nbformat": 4
 },
 "nbformat": 4,
 "nbformat_minor": 2
}
