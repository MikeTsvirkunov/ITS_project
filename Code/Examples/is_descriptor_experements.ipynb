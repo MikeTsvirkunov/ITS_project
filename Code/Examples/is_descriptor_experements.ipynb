{
 "cells": [
  {
   "attachments": {},
   "cell_type": "markdown",
   "metadata": {},
   "source": [
    "# Импорт"
   ]
  },
  {
   "cell_type": "code",
   "execution_count": 1,
   "metadata": {},
   "outputs": [],
   "source": [
    "%load_ext tensorboard"
   ]
  },
  {
   "cell_type": "code",
   "execution_count": 2,
   "metadata": {},
   "outputs": [
    {
     "name": "stderr",
     "output_type": "stream",
     "text": [
      "c:\\Users\\Mike\\Desktop\\ITS_project\\ITS_project\\lib\\site-packages\\tensorflow_addons\\utils\\tfa_eol_msg.py:23: UserWarning: \n",
      "\n",
      "TensorFlow Addons (TFA) has ended development and introduction of new features.\n",
      "TFA has entered a minimal maintenance and release mode until a planned end of life in May 2024.\n",
      "Please modify downstream libraries to take dependencies from other repositories in our TensorFlow community (e.g. Keras, Keras-CV, and Keras-NLP). \n",
      "\n",
      "For more information see: https://github.com/tensorflow/addons/issues/2807 \n",
      "\n",
      "  warnings.warn(\n"
     ]
    }
   ],
   "source": [
    "import tensorflow_addons as tfa\n",
    "from datetime import datetime\n",
    "import numpy as np\n",
    "import pandas as pd\n",
    "import spacy\n",
    "nlp = spacy.load(\"ru_core_news_sm\")\n",
    "import tensorflow as tf\n",
    "from sklearn.model_selection import cross_val_score\n",
    "from sklearn.metrics import accuracy_score, confusion_matrix, classification_report, roc_curve, RocCurveDisplay, auc, mean_squared_error\n",
    "from sklearn.model_selection import train_test_split\n",
    "import tensorflow as tf\n",
    "from json import load\n"
   ]
  },
  {
   "attachments": {},
   "cell_type": "markdown",
   "metadata": {},
   "source": [
    "# Формирование выборки"
   ]
  },
  {
   "cell_type": "code",
   "execution_count": 3,
   "metadata": {},
   "outputs": [],
   "source": [
    "not_discriptors = list()\n",
    "with open('../../Data/Words/word_pairs_not_disc.txt', 'r', encoding='utf-8') as txt:\n",
    "    for i in txt:\n",
    "        not_discriptors.append(i.replace('\\n', ''))\n",
    "\n",
    "with open('../../Data/Events/type_of_events.json', 'r', encoding='utf-8') as js:\n",
    "    events = load(js)\n",
    "\n",
    "with open('../../Data/Datasets/data.json', 'r', encoding='utf-8') as js:\n",
    "    discriptors = load(js)\n"
   ]
  },
  {
   "cell_type": "code",
   "execution_count": 4,
   "metadata": {},
   "outputs": [],
   "source": [
    "dict_of_disc = {'expession': [], 'is_discr': []}\n",
    "for subject in discriptors.values():\n",
    "    for d in sum(subject.values(), []):\n",
    "        dict_of_disc['expession'].append(nlp(d).vector)\n",
    "        dict_of_disc['is_discr'].append(True)\n",
    "\n",
    "for subject in not_discriptors:\n",
    "    dict_of_disc['expession'].append(nlp(subject).vector)\n",
    "    dict_of_disc['is_discr'].append(False)\n",
    "\n"
   ]
  },
  {
   "cell_type": "code",
   "execution_count": 5,
   "metadata": {},
   "outputs": [],
   "source": [
    "features = np.array(dict_of_disc['expession'])\n",
    "labels = np.array(list(map(int, dict_of_disc['is_discr'])))\n"
   ]
  },
  {
   "cell_type": "code",
   "execution_count": 6,
   "metadata": {},
   "outputs": [],
   "source": [
    "X_train, X_test, y_train, y_test = train_test_split(features, labels, random_state=71)\n"
   ]
  },
  {
   "attachments": {},
   "cell_type": "markdown",
   "metadata": {},
   "source": [
    "# Создание модели 1"
   ]
  },
  {
   "cell_type": "code",
   "execution_count": 10,
   "metadata": {},
   "outputs": [
    {
     "name": "stdout",
     "output_type": "stream",
     "text": [
      "Model: \"sequential_1\"\n",
      "_________________________________________________________________\n",
      " Layer (type)                Output Shape              Param #   \n",
      "=================================================================\n",
      " input (Dense)               (None, 144)               13968     \n",
      "                                                                 \n",
      " hidden_layer_2 (Dense)      (None, 192)               27840     \n",
      "                                                                 \n",
      " output (Dense)              (None, 1)                 193       \n",
      "                                                                 \n"
     ]
    },
    {
     "name": "stdout",
     "output_type": "stream",
     "text": [
      "=================================================================\n",
      "Total params: 42,001\n",
      "Trainable params: 42,001\n",
      "Non-trainable params: 0\n",
      "_________________________________________________________________\n"
     ]
    }
   ],
   "source": [
    "model_class1 = tf.keras.models.Sequential()\n",
    "model_class1.add(tf.keras.layers.Dense(int(X_train[0].shape[0]*1.5), activation='relu',input_shape=(X_train[0].shape[0],), name='input'))\n",
    "model_class1.add(tf.keras.layers.Dense(int(X_train[0].shape[0]*2), activation='relu', name='hidden_layer_2'))\n",
    "# model_class1.add(tf.keras.layers.Dense(int(X_train[0].shape[0]*3), activation='sigmoid', name='hidden_layer_3'))\n",
    "# model_class1.add(tf.keras.layers.Dense(int(X_train[0].shape[0]*2), activation='sigmoid', name='hidden_layer_4', use_bias=True))\n",
    "# model_class1.add(tf.keras.layers.Dense(int(X_train[0].shape[0]*1.5), activation='sigmoid', name='hidden_layer_5', use_bias=True))\n",
    "# model_class1.add(tf.keras.layers.Dense(int(X_train[0].shape[0]*0.5), activation='sigmoid', name='hidden_layer_6', use_bias=True))\n",
    "model_class1.add(tf.keras.layers.Dense(1, name='output', activation='sigmoid'))\n",
    "model_class1.summary()\n"
   ]
  },
  {
   "attachments": {},
   "cell_type": "markdown",
   "metadata": {},
   "source": [
    "# Обучение MSE"
   ]
  },
  {
   "cell_type": "code",
   "execution_count": 7,
   "metadata": {},
   "outputs": [],
   "source": [
    "model_class1.compile(\n",
    "    loss='mse',\n",
    "    optimizer='Adam',\n",
    "    metrics=[\n",
    "        'mse',\n",
    "    ]\n",
    ")\n"
   ]
  },
  {
   "cell_type": "code",
   "execution_count": 8,
   "metadata": {},
   "outputs": [
    {
     "name": "stdout",
     "output_type": "stream",
     "text": [
      "Epoch 1/20\n",
      "319/319 [==============================] - 2s 3ms/step - loss: 0.1296 - mse: 0.1296 - val_loss: 0.0869 - val_mse: 0.0869\n",
      "Epoch 2/20\n",
      "319/319 [==============================] - 1s 2ms/step - loss: 0.0758 - mse: 0.0758 - val_loss: 0.0575 - val_mse: 0.0575\n",
      "Epoch 3/20\n",
      "319/319 [==============================] - 1s 2ms/step - loss: 0.0575 - mse: 0.0575 - val_loss: 0.0716 - val_mse: 0.0716\n",
      "Epoch 4/20\n",
      "319/319 [==============================] - 1s 2ms/step - loss: 0.0553 - mse: 0.0553 - val_loss: 0.0675 - val_mse: 0.0675\n",
      "Epoch 5/20\n",
      "319/319 [==============================] - 1s 2ms/step - loss: 0.0490 - mse: 0.0490 - val_loss: 0.0826 - val_mse: 0.0826\n",
      "Epoch 6/20\n",
      "319/319 [==============================] - 1s 2ms/step - loss: 0.0644 - mse: 0.0644 - val_loss: 0.0555 - val_mse: 0.0555\n",
      "Epoch 7/20\n",
      "319/319 [==============================] - 1s 2ms/step - loss: 0.0351 - mse: 0.0351 - val_loss: 0.0647 - val_mse: 0.0647\n",
      "Epoch 8/20\n",
      "319/319 [==============================] - 1s 2ms/step - loss: 0.0334 - mse: 0.0334 - val_loss: 0.0420 - val_mse: 0.0420\n",
      "Epoch 9/20\n",
      "319/319 [==============================] - 1s 2ms/step - loss: 0.0359 - mse: 0.0359 - val_loss: 0.0572 - val_mse: 0.0572\n",
      "Epoch 10/20\n",
      "319/319 [==============================] - 1s 2ms/step - loss: 0.0374 - mse: 0.0374 - val_loss: 0.0431 - val_mse: 0.0431\n",
      "Epoch 11/20\n",
      "319/319 [==============================] - 1s 2ms/step - loss: 0.0287 - mse: 0.0287 - val_loss: 0.0380 - val_mse: 0.0380\n",
      "Epoch 12/20\n",
      "319/319 [==============================] - 1s 2ms/step - loss: 0.0349 - mse: 0.0349 - val_loss: 0.0398 - val_mse: 0.0398\n",
      "Epoch 13/20\n",
      "319/319 [==============================] - 1s 2ms/step - loss: 0.0312 - mse: 0.0312 - val_loss: 0.0459 - val_mse: 0.0459\n",
      "Epoch 14/20\n",
      "319/319 [==============================] - 1s 2ms/step - loss: 0.0387 - mse: 0.0387 - val_loss: 0.0418 - val_mse: 0.0418\n",
      "Epoch 15/20\n",
      "319/319 [==============================] - 1s 2ms/step - loss: 0.0331 - mse: 0.0331 - val_loss: 0.0513 - val_mse: 0.0513\n",
      "Epoch 16/20\n",
      "319/319 [==============================] - 1s 2ms/step - loss: 0.0367 - mse: 0.0367 - val_loss: 0.0601 - val_mse: 0.0601\n",
      "Epoch 17/20\n",
      "319/319 [==============================] - 1s 2ms/step - loss: 0.0313 - mse: 0.0313 - val_loss: 0.0546 - val_mse: 0.0546\n",
      "Epoch 18/20\n",
      "319/319 [==============================] - 1s 2ms/step - loss: 0.0326 - mse: 0.0326 - val_loss: 0.0520 - val_mse: 0.0520\n",
      "Epoch 19/20\n",
      "319/319 [==============================] - 1s 2ms/step - loss: 0.0261 - mse: 0.0261 - val_loss: 0.0460 - val_mse: 0.0460\n",
      "Epoch 20/20\n",
      "319/319 [==============================] - 1s 2ms/step - loss: 0.0197 - mse: 0.0197 - val_loss: 0.0347 - val_mse: 0.0347\n"
     ]
    },
    {
     "data": {
      "text/plain": [
       "<keras.callbacks.History at 0x179061c8b80>"
      ]
     },
     "execution_count": 8,
     "metadata": {},
     "output_type": "execute_result"
    }
   ],
   "source": [
    "model_class1.fit(\n",
    "    X_train, \n",
    "    y_train, \n",
    "    validation_split=0.2, \n",
    "    epochs=20,\n",
    "    batch_size=2\n",
    ")\n"
   ]
  },
  {
   "cell_type": "code",
   "execution_count": 9,
   "metadata": {},
   "outputs": [
    {
     "name": "stdout",
     "output_type": "stream",
     "text": [
      "9/9 [==============================] - 0s 2ms/step\n"
     ]
    }
   ],
   "source": [
    "predict = model_class1.predict(X_test)\n"
   ]
  },
  {
   "cell_type": "code",
   "execution_count": 10,
   "metadata": {},
   "outputs": [
    {
     "data": {
      "text/plain": [
       "0.046677894006748974"
      ]
     },
     "execution_count": 10,
     "metadata": {},
     "output_type": "execute_result"
    }
   ],
   "source": [
    "mean_squared_error(predict, y_test)\n"
   ]
  },
  {
   "cell_type": "code",
   "execution_count": 11,
   "metadata": {},
   "outputs": [
    {
     "name": "stdout",
     "output_type": "stream",
     "text": [
      "34/34 [==============================] - 0s 1ms/step\n",
      "Accuracy\n",
      "0.9699530516431925\n",
      "Confusion matrix\n",
      "[[334  24]\n",
      " [  8 699]]\n",
      "Precision, Recall, F\n",
      "               precision    recall  f1-score   support\n",
      "\n",
      "           0       0.98      0.93      0.95       358\n",
      "           1       0.97      0.99      0.98       707\n",
      "\n",
      "    accuracy                           0.97      1065\n",
      "   macro avg       0.97      0.96      0.97      1065\n",
      "weighted avg       0.97      0.97      0.97      1065\n",
      "\n"
     ]
    }
   ],
   "source": [
    "predictA = model_class1.predict(features)\n",
    "print('Accuracy')\n",
    "print(accuracy_score(labels, predictA > 0.5))\n",
    "print('Confusion matrix')\n",
    "print(confusion_matrix(labels, predictA > 0.5))\n",
    "print('Precision, Recall, F\\n', classification_report(\n",
    "    labels, predictA > 0.5))\n"
   ]
  },
  {
   "cell_type": "code",
   "execution_count": 12,
   "metadata": {},
   "outputs": [
    {
     "name": "stdout",
     "output_type": "stream",
     "text": [
      "Accuracy\n",
      "0.3595505617977528\n",
      "Confusion matrix\n",
      "[[ 96   0]\n",
      " [171   0]]\n",
      "Precision, Recall, F\n",
      "               precision    recall  f1-score   support\n",
      "\n",
      "           0       0.36      1.00      0.53        96\n",
      "           1       0.00      0.00      0.00       171\n",
      "\n",
      "    accuracy                           0.36       267\n",
      "   macro avg       0.18      0.50      0.26       267\n",
      "weighted avg       0.13      0.36      0.19       267\n",
      "\n"
     ]
    },
    {
     "name": "stderr",
     "output_type": "stream",
     "text": [
      "c:\\Users\\Mike\\Desktop\\ITS_project\\ITS_project\\lib\\site-packages\\sklearn\\metrics\\_classification.py:1344: UndefinedMetricWarning: Precision and F-score are ill-defined and being set to 0.0 in labels with no predicted samples. Use `zero_division` parameter to control this behavior.\n",
      "  _warn_prf(average, modifier, msg_start, len(result))\n",
      "c:\\Users\\Mike\\Desktop\\ITS_project\\ITS_project\\lib\\site-packages\\sklearn\\metrics\\_classification.py:1344: UndefinedMetricWarning: Precision and F-score are ill-defined and being set to 0.0 in labels with no predicted samples. Use `zero_division` parameter to control this behavior.\n",
      "  _warn_prf(average, modifier, msg_start, len(result))\n",
      "c:\\Users\\Mike\\Desktop\\ITS_project\\ITS_project\\lib\\site-packages\\sklearn\\metrics\\_classification.py:1344: UndefinedMetricWarning: Precision and F-score are ill-defined and being set to 0.0 in labels with no predicted samples. Use `zero_division` parameter to control this behavior.\n",
      "  _warn_prf(average, modifier, msg_start, len(result))\n"
     ]
    }
   ],
   "source": [
    "print('Accuracy')\n",
    "print(accuracy_score(y_test, predict > 0.98))\n",
    "print('Confusion matrix')\n",
    "print(confusion_matrix(y_test, predict > 0.98))\n",
    "print('Precision, Recall, F\\n', classification_report(\n",
    "    y_test, predict > 0.98))\n"
   ]
  },
  {
   "cell_type": "code",
   "execution_count": 13,
   "metadata": {},
   "outputs": [
    {
     "data": {
      "text/plain": [
       "(90, 6, 6, 165)"
      ]
     },
     "execution_count": 13,
     "metadata": {},
     "output_type": "execute_result"
    }
   ],
   "source": [
    "tn, fp, fn, tp = confusion_matrix(y_test, predict > 0.9).ravel()\n",
    "(tn, fp, fn, tp)\n"
   ]
  },
  {
   "cell_type": "code",
   "execution_count": 14,
   "metadata": {},
   "outputs": [
    {
     "name": "stdout",
     "output_type": "stream",
     "text": [
      "1/1 [==============================] - 0s 20ms/step\n",
      "1/1 [==============================] - 0s 20ms/step\n",
      "1/1 [==============================] - 0s 18ms/step\n"
     ]
    },
    {
     "data": {
      "text/plain": [
       "(array([[0.97134674]], dtype=float32),\n",
       " array([[0.02014221]], dtype=float32),\n",
       " array([[0.97330844]], dtype=float32))"
      ]
     },
     "execution_count": 14,
     "metadata": {},
     "output_type": "execute_result"
    }
   ],
   "source": [
    "model_class1.predict(np.array([nlp('рекомендации, чтобы поддерживать внутреннюю').vector])), model_class1.predict(np.array([nlp('чтобы поддерживать внутреннюю').vector])), model_class1.predict(np.array([nlp('поддерживать внутреннюю структуру').vector]))\n",
    "\n"
   ]
  },
  {
   "attachments": {},
   "cell_type": "markdown",
   "metadata": {},
   "source": [
    "# Обучение на Binary Crossentropy"
   ]
  },
  {
   "cell_type": "code",
   "execution_count": 7,
   "metadata": {},
   "outputs": [],
   "source": [
    "logdir = \"logs/scalars/\" + datetime.now().strftime(\"%Y%m%d-%H%M%S\") + '_BC'\n",
    "tensorboard_callback_BC = tf.keras.callbacks.TensorBoard(log_dir=logdir)\n"
   ]
  },
  {
   "cell_type": "code",
   "execution_count": 11,
   "metadata": {},
   "outputs": [],
   "source": [
    "model_class1.compile(\n",
    "    loss=tf.keras.losses.binary_crossentropy,\n",
    "    optimizer='Adam',\n",
    "    metrics=[\n",
    "        'categorical_crossentropy',\n",
    "        tf.keras.metrics.FalsePositives(thresholds=0.5)\n",
    "        # tfa.metrics.F1Score(num_classes=1, threshold=0.5)\n",
    "    ]\n",
    ")\n"
   ]
  },
  {
   "cell_type": "code",
   "execution_count": 12,
   "metadata": {},
   "outputs": [
    {
     "name": "stdout",
     "output_type": "stream",
     "text": [
      "Epoch 1/26\n",
      "359/359 [==============================] - 4s 5ms/step - loss: 0.2750 - categorical_crossentropy: 0.0000e+00 - false_positives: 62.0000 - val_loss: 0.3197 - val_categorical_crossentropy: 0.0000e+00 - val_false_positives: 9.0000\n",
      "Epoch 2/26\n",
      "359/359 [==============================] - 1s 4ms/step - loss: 0.1310 - categorical_crossentropy: 0.0000e+00 - false_positives: 24.0000 - val_loss: 0.2759 - val_categorical_crossentropy: 0.0000e+00 - val_false_positives: 5.0000\n",
      "Epoch 3/26\n",
      "359/359 [==============================] - 1s 4ms/step - loss: 0.0745 - categorical_crossentropy: 0.0000e+00 - false_positives: 12.0000 - val_loss: 0.2252 - val_categorical_crossentropy: 0.0000e+00 - val_false_positives: 4.0000\n",
      "Epoch 4/26\n",
      "359/359 [==============================] - 1s 4ms/step - loss: 0.0212 - categorical_crossentropy: 0.0000e+00 - false_positives: 3.0000 - val_loss: 0.0955 - val_categorical_crossentropy: 0.0000e+00 - val_false_positives: 3.0000\n",
      "Epoch 5/26\n",
      "359/359 [==============================] - 1s 4ms/step - loss: 0.0362 - categorical_crossentropy: 0.0000e+00 - false_positives: 6.0000 - val_loss: 0.2911 - val_categorical_crossentropy: 0.0000e+00 - val_false_positives: 4.0000\n",
      "Epoch 6/26\n",
      "359/359 [==============================] - 1s 4ms/step - loss: 0.0200 - categorical_crossentropy: 0.0000e+00 - false_positives: 4.0000 - val_loss: 0.2126 - val_categorical_crossentropy: 0.0000e+00 - val_false_positives: 4.0000\n",
      "Epoch 7/26\n",
      "359/359 [==============================] - 1s 4ms/step - loss: 0.0091 - categorical_crossentropy: 0.0000e+00 - false_positives: 1.0000 - val_loss: 0.2362 - val_categorical_crossentropy: 0.0000e+00 - val_false_positives: 4.0000\n",
      "Epoch 8/26\n",
      "359/359 [==============================] - 1s 4ms/step - loss: 0.0016 - categorical_crossentropy: 0.0000e+00 - false_positives: 0.0000e+00 - val_loss: 0.1879 - val_categorical_crossentropy: 0.0000e+00 - val_false_positives: 4.0000\n",
      "Epoch 9/26\n",
      "359/359 [==============================] - 1s 4ms/step - loss: 4.6373e-04 - categorical_crossentropy: 0.0000e+00 - false_positives: 0.0000e+00 - val_loss: 0.1929 - val_categorical_crossentropy: 0.0000e+00 - val_false_positives: 4.0000\n",
      "Epoch 10/26\n",
      "359/359 [==============================] - 1s 4ms/step - loss: 2.7424e-04 - categorical_crossentropy: 0.0000e+00 - false_positives: 0.0000e+00 - val_loss: 0.2158 - val_categorical_crossentropy: 0.0000e+00 - val_false_positives: 4.0000\n",
      "Epoch 11/26\n",
      "359/359 [==============================] - 1s 4ms/step - loss: 1.9544e-04 - categorical_crossentropy: 0.0000e+00 - false_positives: 0.0000e+00 - val_loss: 0.2153 - val_categorical_crossentropy: 0.0000e+00 - val_false_positives: 4.0000\n",
      "Epoch 12/26\n",
      "359/359 [==============================] - 1s 4ms/step - loss: 1.4866e-04 - categorical_crossentropy: 0.0000e+00 - false_positives: 0.0000e+00 - val_loss: 0.2295 - val_categorical_crossentropy: 0.0000e+00 - val_false_positives: 4.0000\n",
      "Epoch 13/26\n",
      "359/359 [==============================] - 1s 4ms/step - loss: 1.1269e-04 - categorical_crossentropy: 0.0000e+00 - false_positives: 0.0000e+00 - val_loss: 0.2451 - val_categorical_crossentropy: 0.0000e+00 - val_false_positives: 4.0000\n",
      "Epoch 14/26\n",
      "359/359 [==============================] - 1s 4ms/step - loss: 8.8214e-05 - categorical_crossentropy: 0.0000e+00 - false_positives: 0.0000e+00 - val_loss: 0.2466 - val_categorical_crossentropy: 0.0000e+00 - val_false_positives: 4.0000\n",
      "Epoch 15/26\n",
      "359/359 [==============================] - 1s 4ms/step - loss: 6.8447e-05 - categorical_crossentropy: 0.0000e+00 - false_positives: 0.0000e+00 - val_loss: 0.2289 - val_categorical_crossentropy: 0.0000e+00 - val_false_positives: 4.0000\n",
      "Epoch 16/26\n",
      "359/359 [==============================] - 1s 4ms/step - loss: 5.4930e-05 - categorical_crossentropy: 0.0000e+00 - false_positives: 0.0000e+00 - val_loss: 0.2389 - val_categorical_crossentropy: 0.0000e+00 - val_false_positives: 4.0000\n",
      "Epoch 17/26\n",
      "359/359 [==============================] - 1s 4ms/step - loss: 4.3166e-05 - categorical_crossentropy: 0.0000e+00 - false_positives: 0.0000e+00 - val_loss: 0.2596 - val_categorical_crossentropy: 0.0000e+00 - val_false_positives: 4.0000\n",
      "Epoch 18/26\n",
      "359/359 [==============================] - 1s 4ms/step - loss: 3.4058e-05 - categorical_crossentropy: 0.0000e+00 - false_positives: 0.0000e+00 - val_loss: 0.2712 - val_categorical_crossentropy: 0.0000e+00 - val_false_positives: 4.0000\n",
      "Epoch 19/26\n",
      "359/359 [==============================] - 1s 4ms/step - loss: 2.6677e-05 - categorical_crossentropy: 0.0000e+00 - false_positives: 0.0000e+00 - val_loss: 0.2728 - val_categorical_crossentropy: 0.0000e+00 - val_false_positives: 4.0000\n",
      "Epoch 20/26\n",
      "359/359 [==============================] - 1s 4ms/step - loss: 2.1455e-05 - categorical_crossentropy: 0.0000e+00 - false_positives: 0.0000e+00 - val_loss: 0.2791 - val_categorical_crossentropy: 0.0000e+00 - val_false_positives: 4.0000\n",
      "Epoch 21/26\n",
      "359/359 [==============================] - 1s 4ms/step - loss: 1.6883e-05 - categorical_crossentropy: 0.0000e+00 - false_positives: 0.0000e+00 - val_loss: 0.2841 - val_categorical_crossentropy: 0.0000e+00 - val_false_positives: 4.0000\n",
      "Epoch 22/26\n",
      "359/359 [==============================] - 1s 4ms/step - loss: 1.3537e-05 - categorical_crossentropy: 0.0000e+00 - false_positives: 0.0000e+00 - val_loss: 0.2853 - val_categorical_crossentropy: 0.0000e+00 - val_false_positives: 4.0000\n",
      "Epoch 23/26\n",
      "359/359 [==============================] - 1s 4ms/step - loss: 1.0827e-05 - categorical_crossentropy: 0.0000e+00 - false_positives: 0.0000e+00 - val_loss: 0.2831 - val_categorical_crossentropy: 0.0000e+00 - val_false_positives: 4.0000\n",
      "Epoch 24/26\n",
      "359/359 [==============================] - 1s 4ms/step - loss: 8.5998e-06 - categorical_crossentropy: 0.0000e+00 - false_positives: 0.0000e+00 - val_loss: 0.3043 - val_categorical_crossentropy: 0.0000e+00 - val_false_positives: 5.0000\n",
      "Epoch 25/26\n",
      "359/359 [==============================] - 1s 4ms/step - loss: 6.9735e-06 - categorical_crossentropy: 0.0000e+00 - false_positives: 0.0000e+00 - val_loss: 0.3038 - val_categorical_crossentropy: 0.0000e+00 - val_false_positives: 4.0000\n",
      "Epoch 26/26\n",
      "359/359 [==============================] - 1s 4ms/step - loss: 5.6270e-06 - categorical_crossentropy: 0.0000e+00 - false_positives: 0.0000e+00 - val_loss: 0.3147 - val_categorical_crossentropy: 0.0000e+00 - val_false_positives: 5.0000\n"
     ]
    },
    {
     "data": {
      "text/plain": [
       "<keras.callbacks.History at 0x2064ffb4160>"
      ]
     },
     "execution_count": 12,
     "metadata": {},
     "output_type": "execute_result"
    }
   ],
   "source": [
    "model_class1.fit(\n",
    "    X_train, \n",
    "    y_train, \n",
    "    validation_split=0.1, \n",
    "    epochs=26,\n",
    "    batch_size=2,\n",
    "    callbacks=[tensorboard_callback_BC],\n",
    ")\n"
   ]
  },
  {
   "cell_type": "code",
   "execution_count": 13,
   "metadata": {},
   "outputs": [
    {
     "data": {
      "text/html": [
       "\n",
       "      <iframe id=\"tensorboard-frame-12cbca617c83109\" width=\"100%\" height=\"800\" frameborder=\"0\">\n",
       "      </iframe>\n",
       "      <script>\n",
       "        (function() {\n",
       "          const frame = document.getElementById(\"tensorboard-frame-12cbca617c83109\");\n",
       "          const url = new URL(\"/\", window.location);\n",
       "          const port = 6006;\n",
       "          if (port) {\n",
       "            url.port = port;\n",
       "          }\n",
       "          frame.src = url;\n",
       "        })();\n",
       "      </script>\n",
       "    "
      ],
      "text/plain": [
       "<IPython.core.display.HTML object>"
      ]
     },
     "metadata": {},
     "output_type": "display_data"
    }
   ],
   "source": [
    "%tensorboard --logdir logs/scalars/"
   ]
  },
  {
   "cell_type": "code",
   "execution_count": 14,
   "metadata": {},
   "outputs": [
    {
     "name": "stdout",
     "output_type": "stream",
     "text": [
      "9/9 [==============================] - 0s 3ms/step\n"
     ]
    }
   ],
   "source": [
    "predict = model_class1.predict(X_test)\n"
   ]
  },
  {
   "cell_type": "code",
   "execution_count": 15,
   "metadata": {},
   "outputs": [
    {
     "data": {
      "text/plain": [
       "0.03322374526140336"
      ]
     },
     "execution_count": 15,
     "metadata": {},
     "output_type": "execute_result"
    }
   ],
   "source": [
    "mean_squared_error(predict, y_test)\n"
   ]
  },
  {
   "cell_type": "code",
   "execution_count": 16,
   "metadata": {},
   "outputs": [
    {
     "name": "stdout",
     "output_type": "stream",
     "text": [
      "34/34 [==============================] - 0s 4ms/step\n",
      "Accuracy\n",
      "0.9859154929577465\n",
      "Confusion matrix\n",
      "[[348  10]\n",
      " [  5 702]]\n",
      "Precision, Recall, F\n",
      "               precision    recall  f1-score   support\n",
      "\n",
      "           0       0.99      0.97      0.98       358\n",
      "           1       0.99      0.99      0.99       707\n",
      "\n",
      "    accuracy                           0.99      1065\n",
      "   macro avg       0.99      0.98      0.98      1065\n",
      "weighted avg       0.99      0.99      0.99      1065\n",
      "\n"
     ]
    }
   ],
   "source": [
    "predictA = model_class1.predict(features)\n",
    "print('Accuracy')\n",
    "print(accuracy_score(labels, predictA > 0.5))\n",
    "print('Confusion matrix')\n",
    "print(confusion_matrix(labels, predictA > 0.5))\n",
    "print('Precision, Recall, F\\n', classification_report(\n",
    "    labels, predictA > 0.5))\n"
   ]
  },
  {
   "cell_type": "code",
   "execution_count": 18,
   "metadata": {},
   "outputs": [
    {
     "name": "stdout",
     "output_type": "stream",
     "text": [
      "Accuracy\n",
      "0.9625468164794008\n",
      "Confusion matrix\n",
      "[[ 95   1]\n",
      " [ 40 131]]\n",
      "Precision, Recall, F\n",
      "               precision    recall  f1-score   support\n",
      "\n",
      "           0       0.95      0.95      0.95        96\n",
      "           1       0.97      0.97      0.97       171\n",
      "\n",
      "    accuracy                           0.96       267\n",
      "   macro avg       0.96      0.96      0.96       267\n",
      "weighted avg       0.96      0.96      0.96       267\n",
      "\n"
     ]
    }
   ],
   "source": [
    "print('Accuracy')\n",
    "print(accuracy_score(y_test, predict > 0.98))\n",
    "print('Confusion matrix')\n",
    "print(confusion_matrix(y_test, predict > 0.98))\n",
    "print('Precision, Recall, F\\n', classification_report(\n",
    "    y_test, predict > 0.98))\n"
   ]
  },
  {
   "cell_type": "code",
   "execution_count": 21,
   "metadata": {},
   "outputs": [
    {
     "data": {
      "text/plain": [
       "(91, 5, 6, 165)"
      ]
     },
     "execution_count": 21,
     "metadata": {},
     "output_type": "execute_result"
    }
   ],
   "source": [
    "tn, fp, fn, tp = confusion_matrix(y_test, predict > 0.9).ravel()\n",
    "(tn, fp, fn, tp)\n"
   ]
  },
  {
   "attachments": {},
   "cell_type": "markdown",
   "metadata": {},
   "source": [
    "## All"
   ]
  },
  {
   "cell_type": "code",
   "execution_count": 22,
   "metadata": {},
   "outputs": [],
   "source": [
    "r = np.append(X_train, X_test, axis=0)\n",
    "rr = np.append(y_train, y_test)"
   ]
  },
  {
   "cell_type": "code",
   "execution_count": 29,
   "metadata": {},
   "outputs": [
    {
     "name": "stdout",
     "output_type": "stream",
     "text": [
      "34/34 [==============================] - 0s 1ms/step\n"
     ]
    }
   ],
   "source": [
    "pred = model_class1.predict(r) > 0.5"
   ]
  },
  {
   "cell_type": "code",
   "execution_count": 30,
   "metadata": {},
   "outputs": [
    {
     "name": "stdout",
     "output_type": "stream",
     "text": [
      "Accuracy\n",
      "0.9802816901408451\n",
      "Confusion matrix\n",
      "[[346  12]\n",
      " [  9 698]]\n",
      "Precision, Recall, F\n",
      "               precision    recall  f1-score   support\n",
      "\n",
      "           0       0.97      0.97      0.97       358\n",
      "           1       0.98      0.99      0.99       707\n",
      "\n",
      "    accuracy                           0.98      1065\n",
      "   macro avg       0.98      0.98      0.98      1065\n",
      "weighted avg       0.98      0.98      0.98      1065\n",
      "\n"
     ]
    }
   ],
   "source": [
    "print('Accuracy')\n",
    "print(accuracy_score(rr, pred.T[0]))\n",
    "print('Confusion matrix')\n",
    "print(confusion_matrix(rr, pred.T[0]))\n",
    "print('Precision, Recall, F\\n', classification_report(\n",
    "    rr, pred.T[0]))\n",
    "\n"
   ]
  },
  {
   "attachments": {},
   "cell_type": "markdown",
   "metadata": {},
   "source": [
    "## Example"
   ]
  },
  {
   "cell_type": "code",
   "execution_count": null,
   "metadata": {},
   "outputs": [
    {
     "name": "stdout",
     "output_type": "stream",
     "text": [
      "1/1 [==============================] - 0s 18ms/step\n",
      "1/1 [==============================] - 0s 20ms/step\n",
      "1/1 [==============================] - 0s 18ms/step\n"
     ]
    },
    {
     "data": {
      "text/plain": [
       "(array([[0.9891076]], dtype=float32),\n",
       " array([[0.9891076]], dtype=float32),\n",
       " array([[0.9891076]], dtype=float32))"
      ]
     },
     "metadata": {},
     "output_type": "display_data"
    }
   ],
   "source": [
    "model_class1.predict(np.array([nlp('рекомендации, чтобы поддерживать внутреннюю').vector])), model_class1.predict(np.array([nlp('чтобы поддерживать внутреннюю').vector])), model_class1.predict(np.array([nlp('поддерживать внутреннюю структуру').vector]))\n",
    "\n"
   ]
  },
  {
   "cell_type": "code",
   "execution_count": null,
   "metadata": {},
   "outputs": [],
   "source": []
  },
  {
   "attachments": {},
   "cell_type": "markdown",
   "metadata": {},
   "source": [
    "# Обучение на Poison"
   ]
  },
  {
   "cell_type": "code",
   "execution_count": null,
   "metadata": {},
   "outputs": [],
   "source": [
    "model_class1.compile(\n",
    "    loss=tf.keras.losses.poisson,\n",
    "    optimizer='Adam',\n",
    "    metrics=[\n",
    "        'mse',\n",
    "    ]\n",
    ")\n"
   ]
  },
  {
   "cell_type": "code",
   "execution_count": null,
   "metadata": {},
   "outputs": [
    {
     "name": "stdout",
     "output_type": "stream",
     "text": [
      "Epoch 1/20\n",
      "319/319 [==============================] - 2s 3ms/step - loss: 0.6954 - mse: 0.0111 - val_loss: 0.7846 - val_mse: 0.0504\n",
      "Epoch 2/20\n",
      "319/319 [==============================] - 1s 2ms/step - loss: 0.6922 - mse: 0.0078 - val_loss: 0.8116 - val_mse: 0.0556\n",
      "Epoch 3/20\n",
      "319/319 [==============================] - 1s 2ms/step - loss: 0.6905 - mse: 0.0062 - val_loss: 0.8132 - val_mse: 0.0556\n",
      "Epoch 4/20\n",
      "319/319 [==============================] - 1s 2ms/step - loss: 0.6904 - mse: 0.0062 - val_loss: 0.8174 - val_mse: 0.0557\n",
      "Epoch 5/20\n",
      "319/319 [==============================] - 1s 2ms/step - loss: 0.6905 - mse: 0.0062 - val_loss: 0.8150 - val_mse: 0.0557\n",
      "Epoch 6/20\n",
      "319/319 [==============================] - 1s 2ms/step - loss: 0.6905 - mse: 0.0062 - val_loss: 0.8143 - val_mse: 0.0557\n",
      "Epoch 7/20\n",
      "319/319 [==============================] - 1s 2ms/step - loss: 0.6905 - mse: 0.0062 - val_loss: 0.8141 - val_mse: 0.0557\n",
      "Epoch 8/20\n",
      "319/319 [==============================] - 1s 2ms/step - loss: 0.6905 - mse: 0.0062 - val_loss: 0.8122 - val_mse: 0.0556\n",
      "Epoch 9/20\n",
      "319/319 [==============================] - 1s 2ms/step - loss: 0.6905 - mse: 0.0062 - val_loss: 0.8142 - val_mse: 0.0557\n",
      "Epoch 10/20\n",
      "319/319 [==============================] - 1s 2ms/step - loss: 0.6905 - mse: 0.0062 - val_loss: 0.8123 - val_mse: 0.0556\n",
      "Epoch 11/20\n",
      "319/319 [==============================] - 1s 2ms/step - loss: 0.6905 - mse: 0.0062 - val_loss: 0.8134 - val_mse: 0.0557\n",
      "Epoch 12/20\n",
      "319/319 [==============================] - 1s 2ms/step - loss: 0.6904 - mse: 0.0062 - val_loss: 0.8153 - val_mse: 0.0557\n",
      "Epoch 13/20\n",
      "319/319 [==============================] - 1s 2ms/step - loss: 0.6904 - mse: 0.0062 - val_loss: 0.8167 - val_mse: 0.0557\n",
      "Epoch 14/20\n",
      "319/319 [==============================] - 1s 2ms/step - loss: 0.6905 - mse: 0.0062 - val_loss: 0.8148 - val_mse: 0.0557\n",
      "Epoch 15/20\n",
      "319/319 [==============================] - 1s 2ms/step - loss: 0.6905 - mse: 0.0062 - val_loss: 0.8147 - val_mse: 0.0557\n",
      "Epoch 16/20\n",
      "319/319 [==============================] - 1s 2ms/step - loss: 0.6905 - mse: 0.0062 - val_loss: 0.8145 - val_mse: 0.0557\n",
      "Epoch 17/20\n",
      "319/319 [==============================] - 1s 2ms/step - loss: 0.6904 - mse: 0.0062 - val_loss: 0.8150 - val_mse: 0.0557\n",
      "Epoch 18/20\n",
      "319/319 [==============================] - 1s 2ms/step - loss: 0.6905 - mse: 0.0062 - val_loss: 0.8130 - val_mse: 0.0557\n",
      "Epoch 19/20\n",
      "319/319 [==============================] - 1s 2ms/step - loss: 0.6905 - mse: 0.0062 - val_loss: 0.8203 - val_mse: 0.0557\n",
      "Epoch 20/20\n",
      "319/319 [==============================] - 1s 2ms/step - loss: 0.6905 - mse: 0.0062 - val_loss: 0.8110 - val_mse: 0.0556\n"
     ]
    },
    {
     "data": {
      "text/plain": [
       "<keras.callbacks.History at 0x1e102556d30>"
      ]
     },
     "execution_count": 41,
     "metadata": {},
     "output_type": "execute_result"
    }
   ],
   "source": [
    "model_class1.fit(\n",
    "    X_train, \n",
    "    y_train, \n",
    "    validation_split=0.2, \n",
    "    epochs=20,\n",
    "    batch_size=2\n",
    ")\n"
   ]
  },
  {
   "cell_type": "code",
   "execution_count": null,
   "metadata": {},
   "outputs": [
    {
     "name": "stdout",
     "output_type": "stream",
     "text": [
      "9/9 [==============================] - 0s 2ms/step\n"
     ]
    }
   ],
   "source": [
    "predict = model_class1.predict(X_test)\n"
   ]
  },
  {
   "cell_type": "code",
   "execution_count": null,
   "metadata": {},
   "outputs": [
    {
     "data": {
      "text/plain": [
       "0.0524771339190995"
      ]
     },
     "execution_count": 43,
     "metadata": {},
     "output_type": "execute_result"
    }
   ],
   "source": [
    "mean_squared_error(predict, y_test)\n"
   ]
  },
  {
   "cell_type": "code",
   "execution_count": null,
   "metadata": {},
   "outputs": [
    {
     "name": "stdout",
     "output_type": "stream",
     "text": [
      "34/34 [==============================] - 0s 2ms/step\n",
      "Accuracy\n",
      "0.9746478873239437\n",
      "Confusion matrix\n",
      "[[344  14]\n",
      " [ 13 694]]\n",
      "Precision, Recall, F\n",
      "               precision    recall  f1-score   support\n",
      "\n",
      "           0       0.96      0.96      0.96       358\n",
      "           1       0.98      0.98      0.98       707\n",
      "\n",
      "    accuracy                           0.97      1065\n",
      "   macro avg       0.97      0.97      0.97      1065\n",
      "weighted avg       0.97      0.97      0.97      1065\n",
      "\n"
     ]
    }
   ],
   "source": [
    "predictA = model_class1.predict(features)\n",
    "print('Accuracy')\n",
    "print(accuracy_score(labels, predictA > 0.5))\n",
    "print('Confusion matrix')\n",
    "print(confusion_matrix(labels, predictA > 0.5))\n",
    "print('Precision, Recall, F\\n', classification_report(\n",
    "    labels, predictA > 0.5))\n"
   ]
  },
  {
   "cell_type": "code",
   "execution_count": null,
   "metadata": {},
   "outputs": [
    {
     "name": "stdout",
     "output_type": "stream",
     "text": [
      "Accuracy\n",
      "0.951310861423221\n",
      "Confusion matrix\n",
      "[[ 90   6]\n",
      " [  7 164]]\n",
      "Precision, Recall, F\n",
      "               precision    recall  f1-score   support\n",
      "\n",
      "           0       0.93      0.94      0.93        96\n",
      "           1       0.96      0.96      0.96       171\n",
      "\n",
      "    accuracy                           0.95       267\n",
      "   macro avg       0.95      0.95      0.95       267\n",
      "weighted avg       0.95      0.95      0.95       267\n",
      "\n"
     ]
    }
   ],
   "source": [
    "print('Accuracy')\n",
    "print(accuracy_score(y_test, predict > 0.98))\n",
    "print('Confusion matrix')\n",
    "print(confusion_matrix(y_test, predict > 0.98))\n",
    "print('Precision, Recall, F\\n', classification_report(\n",
    "    y_test, predict > 0.98))\n"
   ]
  },
  {
   "cell_type": "code",
   "execution_count": null,
   "metadata": {},
   "outputs": [
    {
     "data": {
      "text/plain": [
       "(89, 7, 7, 164)"
      ]
     },
     "execution_count": 46,
     "metadata": {},
     "output_type": "execute_result"
    }
   ],
   "source": [
    "tn, fp, fn, tp = confusion_matrix(y_test, predict > 0.9).ravel()\n",
    "(tn, fp, fn, tp)\n"
   ]
  },
  {
   "cell_type": "code",
   "execution_count": null,
   "metadata": {},
   "outputs": [
    {
     "name": "stdout",
     "output_type": "stream",
     "text": [
      "1/1 [==============================] - 0s 18ms/step\n",
      "1/1 [==============================] - 0s 18ms/step\n",
      "1/1 [==============================] - 0s 18ms/step\n"
     ]
    },
    {
     "data": {
      "text/plain": [
       "(array([[0.99341315]], dtype=float32),\n",
       " array([[0.9934132]], dtype=float32),\n",
       " array([[0.99341327]], dtype=float32))"
      ]
     },
     "execution_count": 47,
     "metadata": {},
     "output_type": "execute_result"
    }
   ],
   "source": [
    "model_class1.predict(np.array([nlp('рекомендации, чтобы поддерживать внутреннюю').vector])), model_class1.predict(np.array([nlp('чтобы поддерживать внутреннюю').vector])), model_class1.predict(np.array([nlp('поддерживать внутреннюю структуру').vector]))\n",
    "\n"
   ]
  }
 ],
 "metadata": {
  "kernelspec": {
   "display_name": "ITS_project",
   "language": "python",
   "name": "python3"
  },
  "language_info": {
   "codemirror_mode": {
    "name": "ipython",
    "version": 3
   },
   "file_extension": ".py",
   "mimetype": "text/x-python",
   "name": "python",
   "nbconvert_exporter": "python",
   "pygments_lexer": "ipython3",
   "version": "3.9.2"
  },
  "orig_nbformat": 4
 },
 "nbformat": 4,
 "nbformat_minor": 2
}
