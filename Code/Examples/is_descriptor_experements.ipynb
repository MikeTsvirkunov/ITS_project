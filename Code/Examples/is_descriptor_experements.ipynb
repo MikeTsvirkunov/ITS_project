{
 "cells": [
  {
   "attachments": {},
   "cell_type": "markdown",
   "metadata": {},
   "source": [
    "# Импорт"
   ]
  },
  {
   "cell_type": "code",
   "execution_count": 9,
   "metadata": {},
   "outputs": [],
   "source": [
    "import numpy as np\n",
    "import pandas as pd\n",
    "import spacy\n",
    "nlp = spacy.load(\"ru_core_news_sm\")\n",
    "import tensorflow as tf\n",
    "from sklearn.model_selection import cross_val_score\n",
    "from sklearn.metrics import accuracy_score, confusion_matrix, classification_report, roc_curve, RocCurveDisplay, auc, mean_squared_error\n",
    "from sklearn.model_selection import train_test_split\n",
    "import tensorflow as tf\n",
    "from json import load\n"
   ]
  },
  {
   "attachments": {},
   "cell_type": "markdown",
   "metadata": {},
   "source": [
    "# Формирование выборки"
   ]
  },
  {
   "cell_type": "code",
   "execution_count": 10,
   "metadata": {},
   "outputs": [],
   "source": [
    "not_discriptors = list()\n",
    "with open('../../Data/Words/word_pairs_not_disc.txt', 'r', encoding='utf-8') as txt:\n",
    "    for i in txt:\n",
    "        not_discriptors.append(i.replace('\\n', ''))\n",
    "\n",
    "with open('../../Data/Events/type_of_events.json', 'r', encoding='utf-8') as js:\n",
    "    events = load(js)\n",
    "\n",
    "with open('../../Data/Datasets/data.json', 'r', encoding='utf-8') as js:\n",
    "    discriptors = load(js)\n"
   ]
  },
  {
   "cell_type": "code",
   "execution_count": 11,
   "metadata": {},
   "outputs": [],
   "source": [
    "dict_of_disc = {'expession': [], 'is_discr': []}\n",
    "for subject in discriptors.values():\n",
    "    for d in sum(subject.values(), []):\n",
    "        dict_of_disc['expession'].append(nlp(d).vector)\n",
    "        dict_of_disc['is_discr'].append(True)\n",
    "\n",
    "for subject in not_discriptors:\n",
    "    dict_of_disc['expession'].append(nlp(subject).vector)\n",
    "    dict_of_disc['is_discr'].append(False)\n",
    "\n"
   ]
  },
  {
   "cell_type": "code",
   "execution_count": 12,
   "metadata": {},
   "outputs": [],
   "source": [
    "features = np.array(dict_of_disc['expession'])\n",
    "labels = np.array(list(map(int, dict_of_disc['is_discr'])))\n"
   ]
  },
  {
   "cell_type": "code",
   "execution_count": 13,
   "metadata": {},
   "outputs": [],
   "source": [
    "X_train, X_test, y_train, y_test = train_test_split(features, labels, random_state=71)\n"
   ]
  },
  {
   "attachments": {},
   "cell_type": "markdown",
   "metadata": {},
   "source": [
    "# Создание модели 1"
   ]
  },
  {
   "cell_type": "code",
   "execution_count": 48,
   "metadata": {},
   "outputs": [
    {
     "name": "stdout",
     "output_type": "stream",
     "text": [
      "Model: \"sequential_4\"\n",
      "_________________________________________________________________\n",
      " Layer (type)                Output Shape              Param #   \n",
      "=================================================================\n",
      " input (Dense)               (None, 144)               13968     \n",
      "                                                                 \n",
      " hidden_layer_2 (Dense)      (None, 192)               27840     \n",
      "                                                                 \n",
      " hidden_layer_3 (Dense)      (None, 288)               55584     \n",
      "                                                                 \n",
      " hidden_layer_4 (Dense)      (None, 192)               55488     \n",
      "                                                                 \n",
      " hidden_layer_5 (Dense)      (None, 144)               27792     \n",
      "                                                                 \n",
      " hidden_layer_6 (Dense)      (None, 48)                6960      \n",
      "                                                                 \n",
      " output (Dense)              (None, 1)                 49        \n",
      "                                                                 \n",
      "=================================================================\n",
      "Total params: 187,681\n",
      "Trainable params: 187,681\n",
      "Non-trainable params: 0\n",
      "_________________________________________________________________\n"
     ]
    }
   ],
   "source": [
    "model_class1 = tf.keras.models.Sequential()\n",
    "model_class1.add(tf.keras.layers.Dense(int(X_train[0].shape[0]*1.5), activation='relu',input_shape=(X_train[0].shape[0],), name='input'))\n",
    "model_class1.add(tf.keras.layers.Dense(int(X_train[0].shape[0]*2), activation='relu', name='hidden_layer_2'))\n",
    "model_class1.add(tf.keras.layers.Dense(int(X_train[0].shape[0]*3), activation='relu', name='hidden_layer_3'))\n",
    "model_class1.add(tf.keras.layers.Dense(int(X_train[0].shape[0]*2), activation='sigmoid', name='hidden_layer_4', use_bias=True))\n",
    "model_class1.add(tf.keras.layers.Dense(int(X_train[0].shape[0]*1.5), activation='sigmoid', name='hidden_layer_5', use_bias=True))\n",
    "model_class1.add(tf.keras.layers.Dense(int(X_train[0].shape[0]*0.5), activation='sigmoid', name='hidden_layer_6', use_bias=True))\n",
    "model_class1.add(tf.keras.layers.Dense(1, name='output', activation='sigmoid'))\n",
    "model_class1.summary()\n"
   ]
  },
  {
   "attachments": {},
   "cell_type": "markdown",
   "metadata": {},
   "source": [
    "# Обучение MSE"
   ]
  },
  {
   "cell_type": "code",
   "execution_count": 15,
   "metadata": {},
   "outputs": [],
   "source": [
    "model_class1.compile(\n",
    "    loss='mse',\n",
    "    optimizer='Adam',\n",
    "    metrics=[\n",
    "        'mse',\n",
    "    ]\n",
    ")\n"
   ]
  },
  {
   "cell_type": "code",
   "execution_count": 16,
   "metadata": {},
   "outputs": [
    {
     "name": "stdout",
     "output_type": "stream",
     "text": [
      "Epoch 1/20\n",
      "319/319 [==============================] - 2s 3ms/step - loss: 0.1315 - mse: 0.1315 - val_loss: 0.0812 - val_mse: 0.0812\n",
      "Epoch 2/20\n",
      "319/319 [==============================] - 1s 2ms/step - loss: 0.0709 - mse: 0.0709 - val_loss: 0.1100 - val_mse: 0.1100\n",
      "Epoch 3/20\n",
      "319/319 [==============================] - 1s 2ms/step - loss: 0.0625 - mse: 0.0625 - val_loss: 0.0682 - val_mse: 0.0682\n",
      "Epoch 4/20\n",
      "319/319 [==============================] - 1s 2ms/step - loss: 0.0543 - mse: 0.0543 - val_loss: 0.0562 - val_mse: 0.0562\n",
      "Epoch 5/20\n",
      "319/319 [==============================] - 1s 2ms/step - loss: 0.0599 - mse: 0.0599 - val_loss: 0.0993 - val_mse: 0.0993\n",
      "Epoch 6/20\n",
      "319/319 [==============================] - 1s 2ms/step - loss: 0.0714 - mse: 0.0714 - val_loss: 0.0894 - val_mse: 0.0894\n",
      "Epoch 7/20\n",
      "319/319 [==============================] - 1s 2ms/step - loss: 0.0605 - mse: 0.0605 - val_loss: 0.0859 - val_mse: 0.0859\n",
      "Epoch 8/20\n",
      "319/319 [==============================] - 1s 2ms/step - loss: 0.0549 - mse: 0.0549 - val_loss: 0.0716 - val_mse: 0.0716\n",
      "Epoch 9/20\n",
      "319/319 [==============================] - 1s 2ms/step - loss: 0.0375 - mse: 0.0375 - val_loss: 0.0684 - val_mse: 0.0684\n",
      "Epoch 10/20\n",
      "319/319 [==============================] - 1s 2ms/step - loss: 0.0450 - mse: 0.0450 - val_loss: 0.0770 - val_mse: 0.0770\n",
      "Epoch 11/20\n",
      "319/319 [==============================] - 1s 2ms/step - loss: 0.0390 - mse: 0.0390 - val_loss: 0.0743 - val_mse: 0.0743\n",
      "Epoch 12/20\n",
      "319/319 [==============================] - 1s 2ms/step - loss: 0.0306 - mse: 0.0306 - val_loss: 0.0503 - val_mse: 0.0503\n",
      "Epoch 13/20\n",
      "319/319 [==============================] - 1s 2ms/step - loss: 0.0265 - mse: 0.0265 - val_loss: 0.0551 - val_mse: 0.0551\n",
      "Epoch 14/20\n",
      "319/319 [==============================] - 1s 2ms/step - loss: 0.0188 - mse: 0.0188 - val_loss: 0.0631 - val_mse: 0.0631\n",
      "Epoch 15/20\n",
      "319/319 [==============================] - 1s 2ms/step - loss: 0.0385 - mse: 0.0385 - val_loss: 0.0606 - val_mse: 0.0606\n",
      "Epoch 16/20\n",
      "319/319 [==============================] - 1s 2ms/step - loss: 0.0187 - mse: 0.0187 - val_loss: 0.0592 - val_mse: 0.0592\n",
      "Epoch 17/20\n",
      "319/319 [==============================] - 1s 2ms/step - loss: 0.0265 - mse: 0.0265 - val_loss: 0.0741 - val_mse: 0.0741\n",
      "Epoch 18/20\n",
      "319/319 [==============================] - 1s 2ms/step - loss: 0.0238 - mse: 0.0238 - val_loss: 0.0508 - val_mse: 0.0508\n",
      "Epoch 19/20\n",
      "319/319 [==============================] - 1s 2ms/step - loss: 0.0169 - mse: 0.0169 - val_loss: 0.0625 - val_mse: 0.0625\n",
      "Epoch 20/20\n",
      "319/319 [==============================] - 1s 2ms/step - loss: 0.0205 - mse: 0.0205 - val_loss: 0.0816 - val_mse: 0.0816\n"
     ]
    },
    {
     "data": {
      "text/plain": [
       "<keras.callbacks.History at 0x1e106ea9d00>"
      ]
     },
     "execution_count": 16,
     "metadata": {},
     "output_type": "execute_result"
    }
   ],
   "source": [
    "model_class1.fit(\n",
    "    X_train, \n",
    "    y_train, \n",
    "    validation_split=0.2, \n",
    "    epochs=20,\n",
    "    batch_size=2\n",
    ")\n"
   ]
  },
  {
   "cell_type": "code",
   "execution_count": 17,
   "metadata": {},
   "outputs": [
    {
     "name": "stdout",
     "output_type": "stream",
     "text": [
      "9/9 [==============================] - 0s 1ms/step\n"
     ]
    }
   ],
   "source": [
    "predict = model_class1.predict(X_test)\n"
   ]
  },
  {
   "cell_type": "code",
   "execution_count": 18,
   "metadata": {},
   "outputs": [
    {
     "data": {
      "text/plain": [
       "0.057596620252465286"
      ]
     },
     "execution_count": 18,
     "metadata": {},
     "output_type": "execute_result"
    }
   ],
   "source": [
    "mean_squared_error(predict, y_test)\n"
   ]
  },
  {
   "cell_type": "code",
   "execution_count": 19,
   "metadata": {},
   "outputs": [
    {
     "name": "stdout",
     "output_type": "stream",
     "text": [
      "34/34 [==============================] - 0s 1ms/step\n",
      "Accuracy\n",
      "0.9577464788732394\n",
      "Confusion matrix\n",
      "[[320  38]\n",
      " [  7 700]]\n",
      "Precision, Recall, F\n",
      "               precision    recall  f1-score   support\n",
      "\n",
      "           0       0.98      0.89      0.93       358\n",
      "           1       0.95      0.99      0.97       707\n",
      "\n",
      "    accuracy                           0.96      1065\n",
      "   macro avg       0.96      0.94      0.95      1065\n",
      "weighted avg       0.96      0.96      0.96      1065\n",
      "\n"
     ]
    }
   ],
   "source": [
    "predictA = model_class1.predict(features)\n",
    "print('Accuracy')\n",
    "print(accuracy_score(labels, predictA > 0.5))\n",
    "print('Confusion matrix')\n",
    "print(confusion_matrix(labels, predictA > 0.5))\n",
    "print('Precision, Recall, F\\n', classification_report(\n",
    "    labels, predictA > 0.5))\n"
   ]
  },
  {
   "cell_type": "code",
   "execution_count": 20,
   "metadata": {},
   "outputs": [
    {
     "name": "stdout",
     "output_type": "stream",
     "text": [
      "Accuracy\n",
      "0.947565543071161\n",
      "Confusion matrix\n",
      "[[ 85  11]\n",
      " [  3 168]]\n",
      "Precision, Recall, F\n",
      "               precision    recall  f1-score   support\n",
      "\n",
      "           0       0.97      0.89      0.92        96\n",
      "           1       0.94      0.98      0.96       171\n",
      "\n",
      "    accuracy                           0.95       267\n",
      "   macro avg       0.95      0.93      0.94       267\n",
      "weighted avg       0.95      0.95      0.95       267\n",
      "\n"
     ]
    }
   ],
   "source": [
    "print('Accuracy')\n",
    "print(accuracy_score(y_test, predict > 0.98))\n",
    "print('Confusion matrix')\n",
    "print(confusion_matrix(y_test, predict > 0.98))\n",
    "print('Precision, Recall, F\\n', classification_report(\n",
    "    y_test, predict > 0.98))\n"
   ]
  },
  {
   "cell_type": "code",
   "execution_count": 21,
   "metadata": {},
   "outputs": [
    {
     "data": {
      "text/plain": [
       "(84, 12, 3, 168)"
      ]
     },
     "execution_count": 21,
     "metadata": {},
     "output_type": "execute_result"
    }
   ],
   "source": [
    "tn, fp, fn, tp = confusion_matrix(y_test, predict > 0.9).ravel()\n",
    "(tn, fp, fn, tp)\n"
   ]
  },
  {
   "cell_type": "code",
   "execution_count": 25,
   "metadata": {},
   "outputs": [
    {
     "name": "stdout",
     "output_type": "stream",
     "text": [
      "1/1 [==============================] - 0s 18ms/step\n",
      "1/1 [==============================] - 0s 20ms/step\n",
      "1/1 [==============================] - 0s 18ms/step\n"
     ]
    },
    {
     "data": {
      "text/plain": [
       "(array([[0.9891076]], dtype=float32),\n",
       " array([[0.9891076]], dtype=float32),\n",
       " array([[0.9891076]], dtype=float32))"
      ]
     },
     "execution_count": 25,
     "metadata": {},
     "output_type": "execute_result"
    }
   ],
   "source": [
    "model_class1.predict(np.array([nlp('рекомендации, чтобы поддерживать внутреннюю').vector])), model_class1.predict(np.array([nlp('чтобы поддерживать внутреннюю').vector])), model_class1.predict(np.array([nlp('поддерживать внутреннюю структуру').vector]))\n",
    "\n"
   ]
  },
  {
   "attachments": {},
   "cell_type": "markdown",
   "metadata": {},
   "source": [
    "# Обучение на Binary Crossentropy"
   ]
  },
  {
   "cell_type": "code",
   "execution_count": 34,
   "metadata": {},
   "outputs": [],
   "source": [
    "model_class1.compile(\n",
    "    loss=tf.keras.losses.binary_crossentropy,\n",
    "    optimizer='Adam',\n",
    "    metrics=[\n",
    "        'mse',\n",
    "    ]\n",
    ")\n"
   ]
  },
  {
   "cell_type": "code",
   "execution_count": 35,
   "metadata": {},
   "outputs": [
    {
     "name": "stdout",
     "output_type": "stream",
     "text": [
      "Epoch 1/20\n",
      "319/319 [==============================] - 2s 3ms/step - loss: 0.4278 - mse: 0.1344 - val_loss: 0.2895 - val_mse: 0.0800\n",
      "Epoch 2/20\n",
      "319/319 [==============================] - 1s 2ms/step - loss: 0.2407 - mse: 0.0654 - val_loss: 0.2314 - val_mse: 0.0639\n",
      "Epoch 3/20\n",
      "319/319 [==============================] - 1s 2ms/step - loss: 0.1735 - mse: 0.0445 - val_loss: 0.2047 - val_mse: 0.0570\n",
      "Epoch 4/20\n",
      "319/319 [==============================] - 1s 2ms/step - loss: 0.1303 - mse: 0.0302 - val_loss: 0.2428 - val_mse: 0.0673\n",
      "Epoch 5/20\n",
      "319/319 [==============================] - 1s 2ms/step - loss: 0.1246 - mse: 0.0268 - val_loss: 0.2023 - val_mse: 0.0442\n",
      "Epoch 6/20\n",
      "319/319 [==============================] - 1s 2ms/step - loss: 0.1277 - mse: 0.0276 - val_loss: 0.1529 - val_mse: 0.0349\n",
      "Epoch 7/20\n",
      "319/319 [==============================] - 1s 2ms/step - loss: 0.0912 - mse: 0.0182 - val_loss: 0.1672 - val_mse: 0.0372\n",
      "Epoch 8/20\n",
      "319/319 [==============================] - 1s 2ms/step - loss: 0.0949 - mse: 0.0187 - val_loss: 0.1583 - val_mse: 0.0370\n",
      "Epoch 9/20\n",
      "319/319 [==============================] - 1s 2ms/step - loss: 0.1049 - mse: 0.0247 - val_loss: 0.2041 - val_mse: 0.0506\n",
      "Epoch 10/20\n",
      "319/319 [==============================] - 1s 2ms/step - loss: 0.0636 - mse: 0.0114 - val_loss: 0.2006 - val_mse: 0.0428\n",
      "Epoch 11/20\n",
      "319/319 [==============================] - 1s 2ms/step - loss: 0.0665 - mse: 0.0128 - val_loss: 0.2563 - val_mse: 0.0551\n",
      "Epoch 12/20\n",
      "319/319 [==============================] - 1s 2ms/step - loss: 0.1507 - mse: 0.0332 - val_loss: 0.3224 - val_mse: 0.0850\n",
      "Epoch 13/20\n",
      "319/319 [==============================] - 1s 2ms/step - loss: 0.1070 - mse: 0.0239 - val_loss: 0.3089 - val_mse: 0.0737\n",
      "Epoch 14/20\n",
      "319/319 [==============================] - 1s 2ms/step - loss: 0.0946 - mse: 0.0206 - val_loss: 0.2531 - val_mse: 0.0597\n",
      "Epoch 15/20\n",
      "319/319 [==============================] - 1s 2ms/step - loss: 0.0979 - mse: 0.0214 - val_loss: 0.2214 - val_mse: 0.0525\n",
      "Epoch 16/20\n",
      "319/319 [==============================] - 1s 2ms/step - loss: 0.0557 - mse: 0.0102 - val_loss: 0.2072 - val_mse: 0.0471\n",
      "Epoch 17/20\n",
      "319/319 [==============================] - 1s 2ms/step - loss: 0.0750 - mse: 0.0165 - val_loss: 0.2374 - val_mse: 0.0552\n",
      "Epoch 18/20\n",
      "319/319 [==============================] - 1s 2ms/step - loss: 0.0733 - mse: 0.0146 - val_loss: 0.2385 - val_mse: 0.0512\n",
      "Epoch 19/20\n",
      "319/319 [==============================] - 1s 2ms/step - loss: 0.0467 - mse: 0.0089 - val_loss: 0.2119 - val_mse: 0.0449\n",
      "Epoch 20/20\n",
      "319/319 [==============================] - 1s 2ms/step - loss: 0.0426 - mse: 0.0076 - val_loss: 0.2435 - val_mse: 0.0518\n"
     ]
    },
    {
     "data": {
      "text/plain": [
       "<keras.callbacks.History at 0x1e100d28a00>"
      ]
     },
     "execution_count": 35,
     "metadata": {},
     "output_type": "execute_result"
    }
   ],
   "source": [
    "model_class1.fit(\n",
    "    X_train, \n",
    "    y_train, \n",
    "    validation_split=0.2, \n",
    "    epochs=20,\n",
    "    batch_size=2\n",
    ")\n"
   ]
  },
  {
   "cell_type": "code",
   "execution_count": 36,
   "metadata": {},
   "outputs": [
    {
     "name": "stdout",
     "output_type": "stream",
     "text": [
      "9/9 [==============================] - 0s 2ms/step\n"
     ]
    }
   ],
   "source": [
    "predict = model_class1.predict(X_test)\n"
   ]
  },
  {
   "cell_type": "code",
   "execution_count": 37,
   "metadata": {},
   "outputs": [
    {
     "data": {
      "text/plain": [
       "0.044182525926360405"
      ]
     },
     "execution_count": 37,
     "metadata": {},
     "output_type": "execute_result"
    }
   ],
   "source": [
    "mean_squared_error(predict, y_test)\n"
   ]
  },
  {
   "cell_type": "code",
   "execution_count": 38,
   "metadata": {},
   "outputs": [
    {
     "name": "stdout",
     "output_type": "stream",
     "text": [
      "34/34 [==============================] - 0s 1ms/step\n",
      "Accuracy\n",
      "0.9755868544600939\n",
      "Confusion matrix\n",
      "[[339  19]\n",
      " [  7 700]]\n",
      "Precision, Recall, F\n",
      "               precision    recall  f1-score   support\n",
      "\n",
      "           0       0.98      0.95      0.96       358\n",
      "           1       0.97      0.99      0.98       707\n",
      "\n",
      "    accuracy                           0.98      1065\n",
      "   macro avg       0.98      0.97      0.97      1065\n",
      "weighted avg       0.98      0.98      0.98      1065\n",
      "\n"
     ]
    }
   ],
   "source": [
    "predictA = model_class1.predict(features)\n",
    "print('Accuracy')\n",
    "print(accuracy_score(labels, predictA > 0.5))\n",
    "print('Confusion matrix')\n",
    "print(confusion_matrix(labels, predictA > 0.5))\n",
    "print('Precision, Recall, F\\n', classification_report(\n",
    "    labels, predictA > 0.5))\n"
   ]
  },
  {
   "cell_type": "code",
   "execution_count": 39,
   "metadata": {},
   "outputs": [
    {
     "name": "stdout",
     "output_type": "stream",
     "text": [
      "Accuracy\n",
      "0.9550561797752809\n",
      "Confusion matrix\n",
      "[[ 88   8]\n",
      " [  4 167]]\n",
      "Precision, Recall, F\n",
      "               precision    recall  f1-score   support\n",
      "\n",
      "           0       0.96      0.92      0.94        96\n",
      "           1       0.95      0.98      0.97       171\n",
      "\n",
      "    accuracy                           0.96       267\n",
      "   macro avg       0.96      0.95      0.95       267\n",
      "weighted avg       0.96      0.96      0.95       267\n",
      "\n"
     ]
    }
   ],
   "source": [
    "print('Accuracy')\n",
    "print(accuracy_score(y_test, predict > 0.98))\n",
    "print('Confusion matrix')\n",
    "print(confusion_matrix(y_test, predict > 0.98))\n",
    "print('Precision, Recall, F\\n', classification_report(\n",
    "    y_test, predict > 0.98))\n"
   ]
  },
  {
   "cell_type": "code",
   "execution_count": null,
   "metadata": {},
   "outputs": [
    {
     "data": {
      "text/plain": [
       "(84, 12, 3, 168)"
      ]
     },
     "metadata": {},
     "output_type": "display_data"
    }
   ],
   "source": [
    "tn, fp, fn, tp = confusion_matrix(y_test, predict > 0.9).ravel()\n",
    "(tn, fp, fn, tp)\n"
   ]
  },
  {
   "cell_type": "code",
   "execution_count": null,
   "metadata": {},
   "outputs": [
    {
     "name": "stdout",
     "output_type": "stream",
     "text": [
      "1/1 [==============================] - 0s 18ms/step\n",
      "1/1 [==============================] - 0s 20ms/step\n",
      "1/1 [==============================] - 0s 18ms/step\n"
     ]
    },
    {
     "data": {
      "text/plain": [
       "(array([[0.9891076]], dtype=float32),\n",
       " array([[0.9891076]], dtype=float32),\n",
       " array([[0.9891076]], dtype=float32))"
      ]
     },
     "metadata": {},
     "output_type": "display_data"
    }
   ],
   "source": [
    "model_class1.predict(np.array([nlp('рекомендации, чтобы поддерживать внутреннюю').vector])), model_class1.predict(np.array([nlp('чтобы поддерживать внутреннюю').vector])), model_class1.predict(np.array([nlp('поддерживать внутреннюю структуру').vector]))\n",
    "\n"
   ]
  },
  {
   "attachments": {},
   "cell_type": "markdown",
   "metadata": {},
   "source": [
    "# Обучение на Poison"
   ]
  },
  {
   "cell_type": "code",
   "execution_count": 40,
   "metadata": {},
   "outputs": [],
   "source": [
    "model_class1.compile(\n",
    "    loss=tf.keras.losses.poisson,\n",
    "    optimizer='Adam',\n",
    "    metrics=[\n",
    "        'mse',\n",
    "    ]\n",
    ")\n"
   ]
  },
  {
   "cell_type": "code",
   "execution_count": 41,
   "metadata": {},
   "outputs": [
    {
     "name": "stdout",
     "output_type": "stream",
     "text": [
      "Epoch 1/20\n",
      "319/319 [==============================] - 2s 3ms/step - loss: 0.6954 - mse: 0.0111 - val_loss: 0.7846 - val_mse: 0.0504\n",
      "Epoch 2/20\n",
      "319/319 [==============================] - 1s 2ms/step - loss: 0.6922 - mse: 0.0078 - val_loss: 0.8116 - val_mse: 0.0556\n",
      "Epoch 3/20\n",
      "319/319 [==============================] - 1s 2ms/step - loss: 0.6905 - mse: 0.0062 - val_loss: 0.8132 - val_mse: 0.0556\n",
      "Epoch 4/20\n",
      "319/319 [==============================] - 1s 2ms/step - loss: 0.6904 - mse: 0.0062 - val_loss: 0.8174 - val_mse: 0.0557\n",
      "Epoch 5/20\n",
      "319/319 [==============================] - 1s 2ms/step - loss: 0.6905 - mse: 0.0062 - val_loss: 0.8150 - val_mse: 0.0557\n",
      "Epoch 6/20\n",
      "319/319 [==============================] - 1s 2ms/step - loss: 0.6905 - mse: 0.0062 - val_loss: 0.8143 - val_mse: 0.0557\n",
      "Epoch 7/20\n",
      "319/319 [==============================] - 1s 2ms/step - loss: 0.6905 - mse: 0.0062 - val_loss: 0.8141 - val_mse: 0.0557\n",
      "Epoch 8/20\n",
      "319/319 [==============================] - 1s 2ms/step - loss: 0.6905 - mse: 0.0062 - val_loss: 0.8122 - val_mse: 0.0556\n",
      "Epoch 9/20\n",
      "319/319 [==============================] - 1s 2ms/step - loss: 0.6905 - mse: 0.0062 - val_loss: 0.8142 - val_mse: 0.0557\n",
      "Epoch 10/20\n",
      "319/319 [==============================] - 1s 2ms/step - loss: 0.6905 - mse: 0.0062 - val_loss: 0.8123 - val_mse: 0.0556\n",
      "Epoch 11/20\n",
      "319/319 [==============================] - 1s 2ms/step - loss: 0.6905 - mse: 0.0062 - val_loss: 0.8134 - val_mse: 0.0557\n",
      "Epoch 12/20\n",
      "319/319 [==============================] - 1s 2ms/step - loss: 0.6904 - mse: 0.0062 - val_loss: 0.8153 - val_mse: 0.0557\n",
      "Epoch 13/20\n",
      "319/319 [==============================] - 1s 2ms/step - loss: 0.6904 - mse: 0.0062 - val_loss: 0.8167 - val_mse: 0.0557\n",
      "Epoch 14/20\n",
      "319/319 [==============================] - 1s 2ms/step - loss: 0.6905 - mse: 0.0062 - val_loss: 0.8148 - val_mse: 0.0557\n",
      "Epoch 15/20\n",
      "319/319 [==============================] - 1s 2ms/step - loss: 0.6905 - mse: 0.0062 - val_loss: 0.8147 - val_mse: 0.0557\n",
      "Epoch 16/20\n",
      "319/319 [==============================] - 1s 2ms/step - loss: 0.6905 - mse: 0.0062 - val_loss: 0.8145 - val_mse: 0.0557\n",
      "Epoch 17/20\n",
      "319/319 [==============================] - 1s 2ms/step - loss: 0.6904 - mse: 0.0062 - val_loss: 0.8150 - val_mse: 0.0557\n",
      "Epoch 18/20\n",
      "319/319 [==============================] - 1s 2ms/step - loss: 0.6905 - mse: 0.0062 - val_loss: 0.8130 - val_mse: 0.0557\n",
      "Epoch 19/20\n",
      "319/319 [==============================] - 1s 2ms/step - loss: 0.6905 - mse: 0.0062 - val_loss: 0.8203 - val_mse: 0.0557\n",
      "Epoch 20/20\n",
      "319/319 [==============================] - 1s 2ms/step - loss: 0.6905 - mse: 0.0062 - val_loss: 0.8110 - val_mse: 0.0556\n"
     ]
    },
    {
     "data": {
      "text/plain": [
       "<keras.callbacks.History at 0x1e102556d30>"
      ]
     },
     "execution_count": 41,
     "metadata": {},
     "output_type": "execute_result"
    }
   ],
   "source": [
    "model_class1.fit(\n",
    "    X_train, \n",
    "    y_train, \n",
    "    validation_split=0.2, \n",
    "    epochs=20,\n",
    "    batch_size=2\n",
    ")\n"
   ]
  },
  {
   "cell_type": "code",
   "execution_count": 42,
   "metadata": {},
   "outputs": [
    {
     "name": "stdout",
     "output_type": "stream",
     "text": [
      "9/9 [==============================] - 0s 2ms/step\n"
     ]
    }
   ],
   "source": [
    "predict = model_class1.predict(X_test)\n"
   ]
  },
  {
   "cell_type": "code",
   "execution_count": 43,
   "metadata": {},
   "outputs": [
    {
     "data": {
      "text/plain": [
       "0.0524771339190995"
      ]
     },
     "execution_count": 43,
     "metadata": {},
     "output_type": "execute_result"
    }
   ],
   "source": [
    "mean_squared_error(predict, y_test)\n"
   ]
  },
  {
   "cell_type": "code",
   "execution_count": 44,
   "metadata": {},
   "outputs": [
    {
     "name": "stdout",
     "output_type": "stream",
     "text": [
      "34/34 [==============================] - 0s 2ms/step\n",
      "Accuracy\n",
      "0.9746478873239437\n",
      "Confusion matrix\n",
      "[[344  14]\n",
      " [ 13 694]]\n",
      "Precision, Recall, F\n",
      "               precision    recall  f1-score   support\n",
      "\n",
      "           0       0.96      0.96      0.96       358\n",
      "           1       0.98      0.98      0.98       707\n",
      "\n",
      "    accuracy                           0.97      1065\n",
      "   macro avg       0.97      0.97      0.97      1065\n",
      "weighted avg       0.97      0.97      0.97      1065\n",
      "\n"
     ]
    }
   ],
   "source": [
    "predictA = model_class1.predict(features)\n",
    "print('Accuracy')\n",
    "print(accuracy_score(labels, predictA > 0.5))\n",
    "print('Confusion matrix')\n",
    "print(confusion_matrix(labels, predictA > 0.5))\n",
    "print('Precision, Recall, F\\n', classification_report(\n",
    "    labels, predictA > 0.5))\n"
   ]
  },
  {
   "cell_type": "code",
   "execution_count": 45,
   "metadata": {},
   "outputs": [
    {
     "name": "stdout",
     "output_type": "stream",
     "text": [
      "Accuracy\n",
      "0.951310861423221\n",
      "Confusion matrix\n",
      "[[ 90   6]\n",
      " [  7 164]]\n",
      "Precision, Recall, F\n",
      "               precision    recall  f1-score   support\n",
      "\n",
      "           0       0.93      0.94      0.93        96\n",
      "           1       0.96      0.96      0.96       171\n",
      "\n",
      "    accuracy                           0.95       267\n",
      "   macro avg       0.95      0.95      0.95       267\n",
      "weighted avg       0.95      0.95      0.95       267\n",
      "\n"
     ]
    }
   ],
   "source": [
    "print('Accuracy')\n",
    "print(accuracy_score(y_test, predict > 0.98))\n",
    "print('Confusion matrix')\n",
    "print(confusion_matrix(y_test, predict > 0.98))\n",
    "print('Precision, Recall, F\\n', classification_report(\n",
    "    y_test, predict > 0.98))\n"
   ]
  },
  {
   "cell_type": "code",
   "execution_count": 46,
   "metadata": {},
   "outputs": [
    {
     "data": {
      "text/plain": [
       "(89, 7, 7, 164)"
      ]
     },
     "execution_count": 46,
     "metadata": {},
     "output_type": "execute_result"
    }
   ],
   "source": [
    "tn, fp, fn, tp = confusion_matrix(y_test, predict > 0.9).ravel()\n",
    "(tn, fp, fn, tp)\n"
   ]
  },
  {
   "cell_type": "code",
   "execution_count": 47,
   "metadata": {},
   "outputs": [
    {
     "name": "stdout",
     "output_type": "stream",
     "text": [
      "1/1 [==============================] - 0s 18ms/step\n",
      "1/1 [==============================] - 0s 18ms/step\n",
      "1/1 [==============================] - 0s 18ms/step\n"
     ]
    },
    {
     "data": {
      "text/plain": [
       "(array([[0.99341315]], dtype=float32),\n",
       " array([[0.9934132]], dtype=float32),\n",
       " array([[0.99341327]], dtype=float32))"
      ]
     },
     "execution_count": 47,
     "metadata": {},
     "output_type": "execute_result"
    }
   ],
   "source": [
    "model_class1.predict(np.array([nlp('рекомендации, чтобы поддерживать внутреннюю').vector])), model_class1.predict(np.array([nlp('чтобы поддерживать внутреннюю').vector])), model_class1.predict(np.array([nlp('поддерживать внутреннюю структуру').vector]))\n",
    "\n"
   ]
  }
 ],
 "metadata": {
  "kernelspec": {
   "display_name": "ITS_project",
   "language": "python",
   "name": "python3"
  },
  "language_info": {
   "codemirror_mode": {
    "name": "ipython",
    "version": 3
   },
   "file_extension": ".py",
   "mimetype": "text/x-python",
   "name": "python",
   "nbconvert_exporter": "python",
   "pygments_lexer": "ipython3",
   "version": "3.9.2"
  },
  "orig_nbformat": 4
 },
 "nbformat": 4,
 "nbformat_minor": 2
}
