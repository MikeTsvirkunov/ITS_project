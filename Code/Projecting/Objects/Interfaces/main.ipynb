{
 "cells": [
  {
   "cell_type": "code",
   "execution_count": 2,
   "metadata": {},
   "outputs": [],
   "source": [
    "from keras.models import load_model\n",
    "import tensorflow as tf\n",
    "from fastapi import FastAPI, Body\n",
    "from fastapi.middleware.cors import CORSMiddleware\n",
    "\n",
    "from pydantic import BaseModel\n",
    "\n",
    "from json import loads\n",
    "\n",
    "from keras.models import load_model\n",
    "\n",
    "import tensorflow as tf\n",
    "import numpy as np\n",
    "import spacy\n",
    "\n",
    "from Objects.Functions.get_word_pairs import get_wp_in_line_hard\n",
    "import pandas as pd"
   ]
  },
  {
   "cell_type": "markdown",
   "metadata": {},
   "source": [
    "Neural Web"
   ]
  },
  {
   "cell_type": "code",
   "execution_count": 2,
   "metadata": {},
   "outputs": [],
   "source": [
    "nlp_type_of_event_extraction = spacy.load('../../PipeLines/WordsExtraction/words_extract/')\n",
    "nlp_classic = spacy.load('ru_core_news_sm')\n",
    "kcm_extraction_model = tf.keras.models.load_model(\n",
    "    '../../PipeLines/Coder/coder_from_spacy_to_kcm_onh5.h5')\n",
    "# kcm_extraction_model.evaluate\n",
    "is_description_model = load_model('../../PipeLines/Classifications/checker_is_discriptor_spacy_vectorize.h5')"
   ]
  },
  {
   "cell_type": "markdown",
   "metadata": {},
   "source": [
    "Pairs"
   ]
  },
  {
   "cell_type": "code",
   "execution_count": 3,
   "metadata": {},
   "outputs": [],
   "source": [
    "def get_vectorized_wp_and_wp(text, vectorizer):\n",
    "    list_of_wp = list()\n",
    "    list_of_vectors = list()\n",
    "    for sentence in text.split('.'):\n",
    "        for wp in get_wp_in_line_hard(sentence):\n",
    "            list_of_vectors.append(vectorizer(wp))\n",
    "            list_of_wp.append(wp)\n",
    "    return np.array(list_of_wp), np.array(list_of_vectors)"
   ]
  },
  {
   "cell_type": "code",
   "execution_count": 4,
   "metadata": {},
   "outputs": [
    {
     "data": {
      "text/plain": [
       "['Мы-некоммерческий проект',\n",
       " 'Мы-некоммерческий проект \"Наставник',\n",
       " 'Мы-некоммерческий проект \"Наставник будущего\"',\n",
       " 'Мы-некоммерческий проект \"Наставник будущего\" при',\n",
       " 'Мы-некоммерческий проект \"Наставник будущего\" при поддержке',\n",
       " 'Мы-некоммерческий проект \"Наставник будущего\" при поддержке школ',\n",
       " 'проект \"Наставник',\n",
       " 'проект \"Наставник будущего\"',\n",
       " 'проект \"Наставник будущего\" при',\n",
       " 'проект \"Наставник будущего\" при поддержке',\n",
       " 'проект \"Наставник будущего\" при поддержке школ',\n",
       " '\"Наставник будущего\"',\n",
       " '\"Наставник будущего\" при',\n",
       " '\"Наставник будущего\" при поддержке',\n",
       " '\"Наставник будущего\" при поддержке школ',\n",
       " 'будущего\" при',\n",
       " 'будущего\" при поддержке',\n",
       " 'будущего\" при поддержке школ',\n",
       " 'при поддержке',\n",
       " 'при поддержке школ',\n",
       " 'поддержке школ']"
      ]
     },
     "execution_count": 4,
     "metadata": {},
     "output_type": "execute_result"
    }
   ],
   "source": [
    "get_wp_in_line_hard(\"Мы-некоммерческий проект \\\"Наставник будущего\\\" при поддержке школ Москвы.\")"
   ]
  },
  {
   "cell_type": "code",
   "execution_count": 5,
   "metadata": {},
   "outputs": [],
   "source": [
    "def sendStudentJson(description=Body()):\n",
    "    results = dict()\n",
    "    results['id'] = description['id']\n",
    "    types_of_events = list(map(str, nlp_type_of_event_extraction(description['name_of_event']).ents))\n",
    "    results['types_of_events'] = types_of_events\n",
    "    wp_of_event, wp_of_event_vectorized = get_vectorized_wp_and_wp(description['event_description'], lambda text: nlp_classic(text).vector)\n",
    "    is_wp_descriptor = is_description_model.predict(wp_of_event_vectorized) > 0.992\n",
    "    # print(is_wp_descriptor)\n",
    "    descriptors_vectorized = wp_of_event_vectorized[is_wp_descriptor.T[0]]\n",
    "    descriptors_name = wp_of_event[is_wp_descriptor.T[0]]\n",
    "    # print(descriptors_name)\n",
    "    predict = kcm_extraction_model.predict(descriptors_vectorized) \n",
    "    skills = dict()\n",
    "    for name, kcm in zip(descriptors_name, predict):\n",
    "        skills[name] = {'know': float((kcm[1]+1)/2), 'can': float((kcm[2]+1)/2), 'master': float((kcm[0]+1)/2)}\n",
    "    \n",
    "    results['skills'] = skills\n",
    "\n",
    "\n",
    "    # mod_descr = np.array([nlp_classic(description['descriptor']).vector])\n",
    "    \n",
    "    # predicted = list(kcm_extraction_model.predict(mod_descr)[0])\n",
    "    # print(predicted[1])\n",
    "    # results['skills'] = {description['descriptor']: {'know': float(\n",
    "    #     predicted[1]), 'can': float(predicted[2]), 'master': float(predicted[0])}}\n",
    "\n",
    "    return results"
   ]
  },
  {
   "cell_type": "code",
   "execution_count": 6,
   "metadata": {},
   "outputs": [],
   "source": [
    "abc = 'В форме представлений типов мышления, обсуждение их особенностей, применительности к реальным задачам, сравнительные характеристики.'"
   ]
  },
  {
   "cell_type": "code",
   "execution_count": 7,
   "metadata": {},
   "outputs": [],
   "source": [
    "wp_of_event, wp_of_event_vectorized = get_vectorized_wp_and_wp(abc, lambda text: nlp_classic(text).vector)\n"
   ]
  },
  {
   "cell_type": "code",
   "execution_count": 8,
   "metadata": {},
   "outputs": [
    {
     "data": {
      "text/plain": [
       "array(['В форме', 'В форме представлений', 'В форме представлений типов',\n",
       "       'В форме представлений типов мышления,',\n",
       "       'В форме представлений типов мышления, обсуждение',\n",
       "       'В форме представлений типов мышления, обсуждение их',\n",
       "       'В форме представлений типов мышления, обсуждение их особенностей,',\n",
       "       'В форме представлений типов мышления, обсуждение их особенностей, применительности',\n",
       "       'В форме представлений типов мышления, обсуждение их особенностей, применительности к',\n",
       "       'В форме представлений типов мышления, обсуждение их особенностей, применительности к реальным',\n",
       "       'В форме представлений типов мышления, обсуждение их особенностей, применительности к реальным задачам,',\n",
       "       'В форме представлений типов мышления, обсуждение их особенностей, применительности к реальным задачам, сравнительные',\n",
       "       'форме представлений', 'форме представлений типов',\n",
       "       'форме представлений типов мышления,',\n",
       "       'форме представлений типов мышления, обсуждение',\n",
       "       'форме представлений типов мышления, обсуждение их',\n",
       "       'форме представлений типов мышления, обсуждение их особенностей,',\n",
       "       'форме представлений типов мышления, обсуждение их особенностей, применительности',\n",
       "       'форме представлений типов мышления, обсуждение их особенностей, применительности к',\n",
       "       'форме представлений типов мышления, обсуждение их особенностей, применительности к реальным',\n",
       "       'форме представлений типов мышления, обсуждение их особенностей, применительности к реальным задачам,',\n",
       "       'форме представлений типов мышления, обсуждение их особенностей, применительности к реальным задачам, сравнительные',\n",
       "       'представлений типов', 'представлений типов мышления,',\n",
       "       'представлений типов мышления, обсуждение',\n",
       "       'представлений типов мышления, обсуждение их',\n",
       "       'представлений типов мышления, обсуждение их особенностей,',\n",
       "       'представлений типов мышления, обсуждение их особенностей, применительности',\n",
       "       'представлений типов мышления, обсуждение их особенностей, применительности к',\n",
       "       'представлений типов мышления, обсуждение их особенностей, применительности к реальным',\n",
       "       'представлений типов мышления, обсуждение их особенностей, применительности к реальным задачам,',\n",
       "       'представлений типов мышления, обсуждение их особенностей, применительности к реальным задачам, сравнительные',\n",
       "       'типов мышления,', 'типов мышления, обсуждение',\n",
       "       'типов мышления, обсуждение их',\n",
       "       'типов мышления, обсуждение их особенностей,',\n",
       "       'типов мышления, обсуждение их особенностей, применительности',\n",
       "       'типов мышления, обсуждение их особенностей, применительности к',\n",
       "       'типов мышления, обсуждение их особенностей, применительности к реальным',\n",
       "       'типов мышления, обсуждение их особенностей, применительности к реальным задачам,',\n",
       "       'типов мышления, обсуждение их особенностей, применительности к реальным задачам, сравнительные',\n",
       "       'мышления, обсуждение', 'мышления, обсуждение их',\n",
       "       'мышления, обсуждение их особенностей,',\n",
       "       'мышления, обсуждение их особенностей, применительности',\n",
       "       'мышления, обсуждение их особенностей, применительности к',\n",
       "       'мышления, обсуждение их особенностей, применительности к реальным',\n",
       "       'мышления, обсуждение их особенностей, применительности к реальным задачам,',\n",
       "       'мышления, обсуждение их особенностей, применительности к реальным задачам, сравнительные',\n",
       "       'обсуждение их', 'обсуждение их особенностей,',\n",
       "       'обсуждение их особенностей, применительности',\n",
       "       'обсуждение их особенностей, применительности к',\n",
       "       'обсуждение их особенностей, применительности к реальным',\n",
       "       'обсуждение их особенностей, применительности к реальным задачам,',\n",
       "       'обсуждение их особенностей, применительности к реальным задачам, сравнительные',\n",
       "       'их особенностей,', 'их особенностей, применительности',\n",
       "       'их особенностей, применительности к',\n",
       "       'их особенностей, применительности к реальным',\n",
       "       'их особенностей, применительности к реальным задачам,',\n",
       "       'их особенностей, применительности к реальным задачам, сравнительные',\n",
       "       'особенностей, применительности',\n",
       "       'особенностей, применительности к',\n",
       "       'особенностей, применительности к реальным',\n",
       "       'особенностей, применительности к реальным задачам,',\n",
       "       'особенностей, применительности к реальным задачам, сравнительные',\n",
       "       'применительности к', 'применительности к реальным',\n",
       "       'применительности к реальным задачам,',\n",
       "       'применительности к реальным задачам, сравнительные', 'к реальным',\n",
       "       'к реальным задачам,', 'к реальным задачам, сравнительные',\n",
       "       'реальным задачам,', 'реальным задачам, сравнительные',\n",
       "       'задачам, сравнительные'], dtype='<U116')"
      ]
     },
     "execution_count": 8,
     "metadata": {},
     "output_type": "execute_result"
    }
   ],
   "source": [
    "wp_of_event"
   ]
  },
  {
   "cell_type": "code",
   "execution_count": 9,
   "metadata": {},
   "outputs": [
    {
     "data": {
      "text/plain": [
       "array([[ 0.14884901,  1.0217887 ,  1.1495686 , ...,  0.49929726,\n",
       "        -1.3243097 , -0.8006755 ],\n",
       "       [-0.3089898 ,  0.18650205,  0.44115317, ...,  0.20928188,\n",
       "        -1.2772053 , -0.2967298 ],\n",
       "       [-0.29398203, -0.20824577,  0.32792857, ...,  0.80966175,\n",
       "        -1.2947845 , -0.5294124 ],\n",
       "       ...,\n",
       "       [ 0.00530585,  0.79299146, -1.3366222 , ..., -0.71472806,\n",
       "         0.75286573,  0.85845184],\n",
       "       [ 0.92110515,  0.45895028, -1.1853316 , ..., -0.33587068,\n",
       "         0.53593826,  0.39650992],\n",
       "       [ 1.3056835 ,  0.00824932, -0.7193653 , ..., -0.42750835,\n",
       "         0.7859115 ,  0.26308134]], dtype=float32)"
      ]
     },
     "execution_count": 9,
     "metadata": {},
     "output_type": "execute_result"
    }
   ],
   "source": [
    "wp_of_event_vectorized"
   ]
  },
  {
   "cell_type": "markdown",
   "metadata": {},
   "source": [
    "# Predict\n"
   ]
  },
  {
   "cell_type": "code",
   "execution_count": 10,
   "metadata": {},
   "outputs": [
    {
     "name": "stdout",
     "output_type": "stream",
     "text": [
      "3/3 [==============================] - 0s 2ms/step\n"
     ]
    }
   ],
   "source": [
    "is_wp_descriptor = is_description_model.predict(wp_of_event_vectorized) > 0.992"
   ]
  },
  {
   "cell_type": "code",
   "execution_count": null,
   "metadata": {},
   "outputs": [],
   "source": []
  },
  {
   "cell_type": "code",
   "execution_count": 11,
   "metadata": {},
   "outputs": [
    {
     "data": {
      "text/plain": [
       "array([[False],\n",
       "       [False],\n",
       "       [False],\n",
       "       [False],\n",
       "       [False],\n",
       "       [False],\n",
       "       [False],\n",
       "       [False],\n",
       "       [False],\n",
       "       [False],\n",
       "       [False],\n",
       "       [False],\n",
       "       [False],\n",
       "       [ True],\n",
       "       [ True],\n",
       "       [ True],\n",
       "       [ True],\n",
       "       [False],\n",
       "       [False],\n",
       "       [False],\n",
       "       [False],\n",
       "       [False],\n",
       "       [False],\n",
       "       [ True],\n",
       "       [ True],\n",
       "       [ True],\n",
       "       [ True],\n",
       "       [False],\n",
       "       [False],\n",
       "       [False],\n",
       "       [False],\n",
       "       [False],\n",
       "       [False],\n",
       "       [ True],\n",
       "       [ True],\n",
       "       [False],\n",
       "       [False],\n",
       "       [False],\n",
       "       [False],\n",
       "       [False],\n",
       "       [False],\n",
       "       [False],\n",
       "       [False],\n",
       "       [False],\n",
       "       [False],\n",
       "       [False],\n",
       "       [False],\n",
       "       [False],\n",
       "       [False],\n",
       "       [False],\n",
       "       [False],\n",
       "       [False],\n",
       "       [False],\n",
       "       [False],\n",
       "       [False],\n",
       "       [False],\n",
       "       [False],\n",
       "       [False],\n",
       "       [False],\n",
       "       [False],\n",
       "       [False],\n",
       "       [False],\n",
       "       [False],\n",
       "       [False],\n",
       "       [False],\n",
       "       [False],\n",
       "       [False],\n",
       "       [False],\n",
       "       [False],\n",
       "       [False],\n",
       "       [False],\n",
       "       [False],\n",
       "       [False],\n",
       "       [False],\n",
       "       [False],\n",
       "       [False],\n",
       "       [False],\n",
       "       [False]])"
      ]
     },
     "execution_count": 11,
     "metadata": {},
     "output_type": "execute_result"
    }
   ],
   "source": [
    "is_wp_descriptor"
   ]
  },
  {
   "cell_type": "code",
   "execution_count": 12,
   "metadata": {},
   "outputs": [
    {
     "data": {
      "text/plain": [
       "array([-0.59135526, -0.18395996,  0.17253928, -0.04396268,  0.9353698 ,\n",
       "        0.18774764,  1.2401947 ,  0.4095701 ,  0.21220809, -0.9230838 ,\n",
       "       -0.15536904, -1.2114451 , -1.3029203 ,  1.4868159 , -0.28237996,\n",
       "       -0.1745209 , -0.43754986, -0.73927516, -1.568915  ,  1.3296856 ,\n",
       "        0.5218561 , -0.6542479 ,  0.6036532 ,  1.0517882 , -0.8474532 ,\n",
       "       -0.20859516,  0.22622108, -0.43271026,  0.29257143, -0.5356993 ,\n",
       "        0.34807053, -0.7714756 , -0.8102071 ,  0.6690045 , -0.3225636 ,\n",
       "        0.3268718 , -2.135021  , -0.49551725,  0.2524806 , -0.8629706 ,\n",
       "       -0.41905904,  0.43737972,  0.2783629 , -0.8816537 , -0.44250044,\n",
       "       -1.4522643 , -0.2226783 , -1.0433569 , -0.5548043 ,  0.9303481 ,\n",
       "       -0.2740887 ,  0.09103168, -0.06262046, -0.5992047 ,  1.4300972 ,\n",
       "        0.28260157, -0.5352357 ,  0.55341023, -0.694973  ,  1.1642292 ,\n",
       "       -0.20101662, -0.21450822,  0.11587569,  0.22602427,  1.0045058 ,\n",
       "        0.16885489, -0.24806218,  0.30139938,  0.1086941 , -0.003311  ,\n",
       "       -0.60837454,  0.17822857,  0.50341004,  0.62655836,  0.20223416,\n",
       "        2.1116016 ,  0.15058823, -0.5062631 ,  0.01930841, -1.0561038 ,\n",
       "       -0.5502931 , -1.4180857 , -0.21031593,  2.0067136 , -0.12910545,\n",
       "        1.4675007 , -0.35708177,  0.7506433 ,  0.6736774 ,  0.5717664 ,\n",
       "        1.8520722 ,  0.5713634 ,  0.26083001,  1.1242689 , -1.0912629 ,\n",
       "       -0.5671498 ], dtype=float32)"
      ]
     },
     "execution_count": 12,
     "metadata": {},
     "output_type": "execute_result"
    }
   ],
   "source": [
    "descriptors_vectorized = wp_of_event_vectorized[is_wp_descriptor.T[0]]\n",
    "descriptors_vectorized[0]"
   ]
  },
  {
   "cell_type": "code",
   "execution_count": 13,
   "metadata": {},
   "outputs": [
    {
     "data": {
      "text/plain": [
       "array([-0.24248755,  0.14670034, -0.1305572 , -0.32413998,  1.2429131 ,\n",
       "       -0.28657526,  1.2498873 ,  0.4367144 ,  0.18884082, -0.18016525,\n",
       "        0.06810894, -0.7797362 , -0.9757614 ,  1.1603906 , -0.5705279 ,\n",
       "        0.3956014 , -0.3727056 , -0.68488693, -1.335954  ,  1.1360757 ,\n",
       "       -0.07043591, -0.7658009 ,  1.2543192 ,  0.7053085 , -0.9290271 ,\n",
       "        0.41812205,  0.21950833, -1.1359097 ,  0.43440977, -0.35469288,\n",
       "       -0.0896173 , -0.470287  , -0.7303042 ,  0.5891822 , -0.39858955,\n",
       "       -0.07399984, -1.527461  ,  0.06778898,  0.07911275, -0.5422751 ,\n",
       "       -0.6002258 ,  0.83571273, -0.10585116, -0.76372564,  0.01860676,\n",
       "       -0.59096795,  0.19528525, -0.51249826, -0.40612116,  0.42418775,\n",
       "       -0.1997738 ,  0.05652312, -0.38685614, -0.44971043,  1.8951824 ,\n",
       "       -0.10483863,  0.26736927,  0.25721738, -0.77405584,  0.5931255 ,\n",
       "       -0.21919087, -0.6393356 ,  0.08338185,  0.00899181,  0.85175544,\n",
       "       -0.04897703,  0.16323695, -0.4722249 ,  0.5420947 , -0.03064988,\n",
       "       -0.24372952,  0.27374583,  0.65537184, -0.20017476, -0.23453698,\n",
       "        1.2846895 , -0.26032838, -0.64514166, -0.04944894, -1.127415  ,\n",
       "       -0.9276835 , -1.4983096 , -0.46844882,  1.7540439 , -0.11757181,\n",
       "        0.8005347 , -0.31894922,  0.76107925,  0.3514663 ,  0.84677917,\n",
       "        1.254173  ,  1.0720888 ,  0.5665681 ,  0.5301498 , -0.63012934,\n",
       "        0.11176703], dtype=float32)"
      ]
     },
     "execution_count": 13,
     "metadata": {},
     "output_type": "execute_result"
    }
   ],
   "source": [
    "descriptors_vectorized[1]"
   ]
  },
  {
   "cell_type": "code",
   "execution_count": null,
   "metadata": {},
   "outputs": [],
   "source": []
  },
  {
   "cell_type": "code",
   "execution_count": 14,
   "metadata": {},
   "outputs": [
    {
     "name": "stdout",
     "output_type": "stream",
     "text": [
      "1/1 [==============================] - 0s 55ms/step\n"
     ]
    },
    {
     "data": {
      "text/plain": [
       "array([[ 0.10309447,  0.9162789 ,  0.05999305],\n",
       "       [ 0.44654724,  0.8315545 , -0.03878129],\n",
       "       [-0.04274354,  1.1837949 ,  0.03735846],\n",
       "       [-0.08032931,  1.152187  ,  0.17248598],\n",
       "       [ 0.08650857,  0.79043174,  0.11069547],\n",
       "       [ 0.395946  ,  0.7961303 , -0.05059106],\n",
       "       [-0.13199744,  1.2420903 ,  0.0695568 ],\n",
       "       [-0.14997078,  1.2672441 ,  0.23412174],\n",
       "       [ 0.08551542,  1.0018843 ,  0.2685242 ],\n",
       "       [-0.20891142,  1.3898848 ,  0.21903911]], dtype=float32)"
      ]
     },
     "execution_count": 14,
     "metadata": {},
     "output_type": "execute_result"
    }
   ],
   "source": [
    "predict = kcm_extraction_model.predict(descriptors_vectorized)\n",
    "predict"
   ]
  },
  {
   "cell_type": "code",
   "execution_count": 15,
   "metadata": {},
   "outputs": [
    {
     "data": {
      "text/plain": [
       "array(['форме представлений типов', 'форме представлений типов мышления,',\n",
       "       'форме представлений типов мышления, обсуждение',\n",
       "       'форме представлений типов мышления, обсуждение их',\n",
       "       'представлений типов', 'представлений типов мышления,',\n",
       "       'представлений типов мышления, обсуждение',\n",
       "       'представлений типов мышления, обсуждение их', 'типов мышления,',\n",
       "       'типов мышления, обсуждение'], dtype='<U116')"
      ]
     },
     "execution_count": 15,
     "metadata": {},
     "output_type": "execute_result"
    }
   ],
   "source": [
    "descriptors_name = wp_of_event[is_wp_descriptor.T[0]]\n",
    "descriptors_name"
   ]
  },
  {
   "cell_type": "code",
   "execution_count": 16,
   "metadata": {},
   "outputs": [
    {
     "data": {
      "text/plain": [
       "numpy.ndarray"
      ]
     },
     "execution_count": 16,
     "metadata": {},
     "output_type": "execute_result"
    }
   ],
   "source": [
    "type(descriptors_name)"
   ]
  },
  {
   "cell_type": "markdown",
   "metadata": {},
   "source": [
    "## Distance"
   ]
  },
  {
   "cell_type": "code",
   "execution_count": 17,
   "metadata": {},
   "outputs": [],
   "source": [
    "from string import punctuation"
   ]
  },
  {
   "cell_type": "code",
   "execution_count": 18,
   "metadata": {},
   "outputs": [],
   "source": [
    "import re\n",
    "import string"
   ]
  },
  {
   "cell_type": "code",
   "execution_count": 19,
   "metadata": {},
   "outputs": [],
   "source": [
    "def desc_without_punct(descriptors_name):\n",
    "    desc = list()\n",
    "    for i in descriptors_name:\n",
    "        desc.append(i.translate(str.maketrans('','', string.punctuation)))\n",
    "    return desc"
   ]
  },
  {
   "cell_type": "code",
   "execution_count": 20,
   "metadata": {},
   "outputs": [
    {
     "data": {
      "text/plain": [
       "['форме представлений типов',\n",
       " 'форме представлений типов мышления',\n",
       " 'форме представлений типов мышления обсуждение',\n",
       " 'форме представлений типов мышления обсуждение их',\n",
       " 'представлений типов',\n",
       " 'представлений типов мышления',\n",
       " 'представлений типов мышления обсуждение',\n",
       " 'представлений типов мышления обсуждение их',\n",
       " 'типов мышления',\n",
       " 'типов мышления обсуждение']"
      ]
     },
     "execution_count": 20,
     "metadata": {},
     "output_type": "execute_result"
    }
   ],
   "source": [
    "description_name_without_punct = desc_without_punct(descriptors_name)\n",
    "description_name_without_punct"
   ]
  },
  {
   "cell_type": "code",
   "execution_count": 21,
   "metadata": {},
   "outputs": [],
   "source": [
    "def vectorized_description_name_without_punct(description_name_without_punct):\n",
    "    disc = list()\n",
    "    for i in description_name_without_punct:\n",
    "        disc.append(nlp_classic(i).vector)\n",
    "    return disc"
   ]
  },
  {
   "cell_type": "code",
   "execution_count": 22,
   "metadata": {},
   "outputs": [],
   "source": [
    "vectorized_description_name_without_punctuation = vectorized_description_name_without_punct(description_name_without_punct)"
   ]
  },
  {
   "cell_type": "code",
   "execution_count": 23,
   "metadata": {},
   "outputs": [],
   "source": [
    "from scipy.spatial.distance import cosine"
   ]
  },
  {
   "cell_type": "code",
   "execution_count": 24,
   "metadata": {},
   "outputs": [
    {
     "data": {
      "text/plain": [
       "0.12873321771621704"
      ]
     },
     "execution_count": 24,
     "metadata": {},
     "output_type": "execute_result"
    }
   ],
   "source": [
    "cosine(descriptors_vectorized[0], descriptors_vectorized[1])"
   ]
  },
  {
   "cell_type": "code",
   "execution_count": 25,
   "metadata": {},
   "outputs": [],
   "source": [
    "import itertools"
   ]
  },
  {
   "cell_type": "code",
   "execution_count": 26,
   "metadata": {},
   "outputs": [
    {
     "name": "stdout",
     "output_type": "stream",
     "text": [
      "[[0.07023108005523682, 0.1311246156692505, 0.2123168706893921, 0.17148226499557495, 0.2044416069984436, 0.2588135004043579, 0.3516587018966675, 0.23743152618408203, 0.3146370053291321], [0.07023108005523682, 0.05568045377731323, 0.1347089409828186, 0.20592910051345825, 0.08426719903945923, 0.14111000299453735, 0.23759084939956665, 0.11784225702285767, 0.1976313591003418], [0.1311246156692505, 0.05568045377731323, 0.0668189525604248, 0.2502344846725464, 0.1273554563522339, 0.059721291065216064, 0.14673733711242676, 0.16643977165222168, 0.08255219459533691], [0.2123168706893921, 0.1347089409828186, 0.0668189525604248, 0.313079833984375, 0.1905800700187683, 0.11203783750534058, 0.05058562755584717, 0.21841096878051758, 0.11687034368515015], [0.17148226499557495, 0.20592910051345825, 0.2502344846725464, 0.313079833984375, 0.10663294792175293, 0.18293797969818115, 0.2752116918563843, 0.20180588960647583, 0.29433900117874146], [0.2044416069984436, 0.08426719903945923, 0.1273554563522339, 0.1905800700187683, 0.10663294792175293, 0.07263100147247314, 0.16624462604522705, 0.07185870409011841, 0.1628962755203247], [0.2588135004043579, 0.14111000299453735, 0.059721291065216064, 0.11203783750534058, 0.18293797969818115, 0.07263100147247314, 0.08334189653396606, 0.1451900601387024, 0.04657870531082153], [0.3516587018966675, 0.23759084939956665, 0.14673733711242676, 0.05058562755584717, 0.2752116918563843, 0.16624462604522705, 0.08334189653396606, 0.22186952829360962, 0.10703408718109131], [0.23743152618408203, 0.11784225702285767, 0.16643977165222168, 0.21841096878051758, 0.20180588960647583, 0.07185870409011841, 0.1451900601387024, 0.22186952829360962, 0.13193154335021973], [0.3146370053291321, 0.1976313591003418, 0.08255219459533691, 0.11687034368515015, 0.29433900117874146, 0.1628962755203247, 0.04657870531082153, 0.10703408718109131, 0.13193154335021973]]\n"
     ]
    }
   ],
   "source": [
    "n = 0\n",
    "final_summ = [list() for i in vectorized_description_name_without_punctuation]\n",
    "\n",
    "for i in range(len(vectorized_description_name_without_punctuation)):\n",
    "    for j in range(i + 1, len(vectorized_description_name_without_punctuation)):\n",
    "        cos = cosine(vectorized_description_name_without_punctuation[i], vectorized_description_name_without_punctuation[j])\n",
    "        final_summ[i].append(cos)\n",
    "        final_summ[j].append(cos)\n",
    "    # final_summ.append(summator)\n",
    "    # print(\"FN_inside\", final_summ)\n",
    "\n",
    "# print(\"FN\", min(final_summ[0: -1]))\n",
    "# res = np.where(final_summ[0: -1] == np.min(final_summ[0: -1]))[0]\n",
    "# print(int(res))\n",
    "\n",
    "print(final_summ )"
   ]
  },
  {
   "cell_type": "code",
   "execution_count": 27,
   "metadata": {},
   "outputs": [],
   "source": [
    "def stdotkl(final_summ):\n",
    "    final_list = list()\n",
    "    for i in final_summ:\n",
    "        final_list.append(np.std(i))\n",
    "    return final_list"
   ]
  },
  {
   "cell_type": "code",
   "execution_count": 28,
   "metadata": {},
   "outputs": [
    {
     "data": {
      "text/plain": [
       "[0.08232651172542393,\n",
       " 0.06034234802660114,\n",
       " 0.05963460215067571,\n",
       " 0.07881389511237764,\n",
       " 0.06254702252910689,\n",
       " 0.04817985473765189,\n",
       " 0.06405746458673661,\n",
       " 0.09205467920032423,\n",
       " 0.05269335653147445,\n",
       " 0.08671585664138665]"
      ]
     },
     "execution_count": 28,
     "metadata": {},
     "output_type": "execute_result"
    }
   ],
   "source": [
    "vectorize_end = stdotkl(final_summ)\n",
    "vectorize_end"
   ]
  },
  {
   "cell_type": "code",
   "execution_count": 29,
   "metadata": {},
   "outputs": [],
   "source": [
    "res = np.where(vectorize_end == np.min(vectorize_end))[0]"
   ]
  },
  {
   "cell_type": "code",
   "execution_count": 30,
   "metadata": {},
   "outputs": [
    {
     "data": {
      "text/plain": [
       "'представлений типов мышления'"
      ]
     },
     "execution_count": 30,
     "metadata": {},
     "output_type": "execute_result"
    }
   ],
   "source": [
    "description_name_without_punct[int(res)]"
   ]
  },
  {
   "cell_type": "markdown",
   "metadata": {},
   "source": []
  },
  {
   "cell_type": "code",
   "execution_count": 31,
   "metadata": {},
   "outputs": [
    {
     "name": "stdout",
     "output_type": "stream",
     "text": [
      "1/1 [==============================] - 0s 33ms/step\n"
     ]
    },
    {
     "data": {
      "text/plain": [
       "('представлений типов мышления',\n",
       " array([[ 0.3524445 ,  0.82012445, -0.16171165]], dtype=float32))"
      ]
     },
     "execution_count": 31,
     "metadata": {},
     "output_type": "execute_result"
    }
   ],
   "source": [
    "# skills = dict()\n",
    "# for name, kcm in zip(descriptors_name, predict):\n",
    "#         skills[name] = {'know': float((kcm[1]+1)/2), 'can': float((kcm[2]+1)/2), 'master': float((kcm[0]+1)/2)}\n",
    "#         print(name, skills[name])\n",
    "\n",
    "description_name_without_punct[int(res)], kcm_extraction_model.predict(np.array([nlp_classic(description_name_without_punct[int(res)]).vector]))\n",
    "\n"
   ]
  },
  {
   "cell_type": "code",
   "execution_count": null,
   "metadata": {},
   "outputs": [],
   "source": []
  }
 ],
 "metadata": {
  "kernelspec": {
   "display_name": "Python 3.10.4 ('nlp_venv': venv)",
   "language": "python",
   "name": "python3"
  },
  "language_info": {
   "codemirror_mode": {
    "name": "ipython",
    "version": 3
   },
   "file_extension": ".py",
   "mimetype": "text/x-python",
   "name": "python",
   "nbconvert_exporter": "python",
   "pygments_lexer": "ipython3",
   "version": "3.9.2"
  },
  "orig_nbformat": 4,
  "vscode": {
   "interpreter": {
    "hash": "451f605c58fa7f82d1d484da5a7eef3d214b63567dc0911e0bf409faa3ae9cbb"
   }
  }
 },
 "nbformat": 4,
 "nbformat_minor": 2
}
