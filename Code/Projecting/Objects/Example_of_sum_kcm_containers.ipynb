{
 "cells": [
  {
   "cell_type": "code",
   "execution_count": 1,
   "metadata": {},
   "outputs": [],
   "source": [
    "import sys\n",
    "sys.path.append(\"../Objects\")\n",
    "from Containers.KCMContainer import KCMContainer\n",
    "from Commands.SumOfKCMContainersCommand import SumOfKCMContainersCommand"
   ]
  },
  {
   "cell_type": "code",
   "execution_count": 2,
   "metadata": {},
   "outputs": [],
   "source": [
    "kcm_container1 = KCMContainer('программировать на Python', 3, 2, 2)\n",
    "kcm_container2 = KCMContainer('программировать на Python', 1, 2, 3)\n",
    "kcm_container3 = KCMContainer('программировать на C#', 1, 2, 3)\n",
    "sum1 = SumOfKCMContainersCommand(kcm_container1, kcm_container2)\n",
    "sum2 = SumOfKCMContainersCommand(kcm_container1, kcm_container3)\n"
   ]
  },
  {
   "cell_type": "code",
   "execution_count": 3,
   "metadata": {},
   "outputs": [
    {
     "data": {
      "text/plain": [
       "({'know': 4, 'can': 4, 'master': 5}, {'know': 1, 'can': 2, 'master': 3})"
      ]
     },
     "execution_count": 3,
     "metadata": {},
     "output_type": "execute_result"
    }
   ],
   "source": [
    "sum1.action()\n",
    "kcm_container1.getAll(), kcm_container2.getAll()"
   ]
  },
  {
   "cell_type": "code",
   "execution_count": 4,
   "metadata": {},
   "outputs": [
    {
     "ename": "Exception",
     "evalue": "Incorect names of KCMContainer's: программировать на Python != программировать на C#",
     "output_type": "error",
     "traceback": [
      "\u001b[1;31m---------------------------------------------------------------------------\u001b[0m",
      "\u001b[1;31mException\u001b[0m                                 Traceback (most recent call last)",
      "Cell \u001b[1;32mIn[4], line 1\u001b[0m\n\u001b[1;32m----> 1\u001b[0m sum2\u001b[39m.\u001b[39;49maction()\n",
      "File \u001b[1;32mc:\\Users\\Mike\\Desktop\\ITS_project\\Code\\Projecting\\Objects\\Commands\\SumOfKCMContainersCommand.py:13\u001b[0m, in \u001b[0;36mSumOfKCMContainersCommand.action\u001b[1;34m(self)\u001b[0m\n\u001b[0;32m     11\u001b[0m \u001b[39mdef\u001b[39;00m \u001b[39maction\u001b[39m(\u001b[39mself\u001b[39m) \u001b[39m-\u001b[39m\u001b[39m>\u001b[39m \u001b[39mNone\u001b[39;00m:\n\u001b[0;32m     12\u001b[0m     \u001b[39mif\u001b[39;00m \u001b[39mself\u001b[39m\u001b[39m.\u001b[39m__kcm_container_to_increas\u001b[39m.\u001b[39mgetName() \u001b[39m!=\u001b[39m \u001b[39mself\u001b[39m\u001b[39m.\u001b[39m__kcm_container_to_add\u001b[39m.\u001b[39mgetName():\n\u001b[1;32m---> 13\u001b[0m         \u001b[39mraise\u001b[39;00m \u001b[39mException\u001b[39;00m(\n\u001b[0;32m     14\u001b[0m             \u001b[39mf\u001b[39m\u001b[39m'\u001b[39m\u001b[39mIncorect names of KCMContainer\u001b[39m\u001b[39m\\'\u001b[39;00m\u001b[39ms: \u001b[39m\u001b[39m{\u001b[39;00m\u001b[39mself\u001b[39m\u001b[39m.\u001b[39m__kcm_container_to_increas\u001b[39m.\u001b[39mgetName()\u001b[39m}\u001b[39;00m\u001b[39m != \u001b[39m\u001b[39m{\u001b[39;00m\u001b[39mself\u001b[39m\u001b[39m.\u001b[39m__kcm_container_to_add\u001b[39m.\u001b[39mgetName()\u001b[39m}\u001b[39;00m\u001b[39m'\u001b[39m)\n\u001b[0;32m     15\u001b[0m     \u001b[39mfor\u001b[39;00m i \u001b[39min\u001b[39;00m \u001b[39mself\u001b[39m\u001b[39m.\u001b[39m__kcm_container_to_add\u001b[39m.\u001b[39mgetAll():\n\u001b[0;32m     16\u001b[0m         \u001b[39mself\u001b[39m\u001b[39m.\u001b[39m__kcm_container_to_increas\u001b[39m.\u001b[39mgetAll()[i] \u001b[39m+\u001b[39m\u001b[39m=\u001b[39m \u001b[39mself\u001b[39m\u001b[39m.\u001b[39m__kcm_container_to_add\u001b[39m.\u001b[39mgetAll()[i]\n",
      "\u001b[1;31mException\u001b[0m: Incorect names of KCMContainer's: программировать на Python != программировать на C#"
     ]
    }
   ],
   "source": [
    "sum2.action()"
   ]
  },
  {
   "cell_type": "code",
   "execution_count": 5,
   "metadata": {},
   "outputs": [
    {
     "data": {
      "text/plain": [
       "{'know': 4, 'can': 4, 'master': 5}"
      ]
     },
     "execution_count": 5,
     "metadata": {},
     "output_type": "execute_result"
    }
   ],
   "source": [
    "kcm_container1.getAll()\n"
   ]
  }
 ],
 "metadata": {
  "kernelspec": {
   "display_name": "ITS_project",
   "language": "python",
   "name": "python3"
  },
  "language_info": {
   "codemirror_mode": {
    "name": "ipython",
    "version": 3
   },
   "file_extension": ".py",
   "mimetype": "text/x-python",
   "name": "python",
   "nbconvert_exporter": "python",
   "pygments_lexer": "ipython3",
   "version": "3.9.2"
  },
  "orig_nbformat": 4
 },
 "nbformat": 4,
 "nbformat_minor": 2
}
