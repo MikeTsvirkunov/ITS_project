{
 "cells": [
  {
   "cell_type": "code",
   "execution_count": 1,
   "metadata": {},
   "outputs": [],
   "source": [
    "from get_word_pairs import get_wp_in_line_hard\n"
   ]
  },
  {
   "cell_type": "code",
   "execution_count": 2,
   "metadata": {},
   "outputs": [
    {
     "data": {
      "text/plain": [
       "['Мы-некоммерческий проект',\n",
       " 'Мы-некоммерческий проект \"Наставник',\n",
       " 'Мы-некоммерческий проект \"Наставник будущего\"',\n",
       " 'Мы-некоммерческий проект \"Наставник будущего\" при',\n",
       " 'Мы-некоммерческий проект \"Наставник будущего\" при поддержке',\n",
       " 'Мы-некоммерческий проект \"Наставник будущего\" при поддержке школ',\n",
       " 'проект \"Наставник',\n",
       " 'проект \"Наставник будущего\"',\n",
       " 'проект \"Наставник будущего\" при',\n",
       " 'проект \"Наставник будущего\" при поддержке',\n",
       " 'проект \"Наставник будущего\" при поддержке школ',\n",
       " '\"Наставник будущего\"',\n",
       " '\"Наставник будущего\" при',\n",
       " '\"Наставник будущего\" при поддержке',\n",
       " '\"Наставник будущего\" при поддержке школ',\n",
       " 'будущего\" при',\n",
       " 'будущего\" при поддержке',\n",
       " 'будущего\" при поддержке школ',\n",
       " 'при поддержке',\n",
       " 'при поддержке школ',\n",
       " 'поддержке школ']"
      ]
     },
     "execution_count": 2,
     "metadata": {},
     "output_type": "execute_result"
    }
   ],
   "source": [
    "get_wp_in_line_hard(\"Мы-некоммерческий проект \\\"Наставник будущего\\\" при поддержке школ Москвы.\")\n"
   ]
  }
 ],
 "metadata": {
  "kernelspec": {
   "display_name": "Python 3.10.4 ('nlp_venv': venv)",
   "language": "python",
   "name": "python3"
  },
  "language_info": {
   "codemirror_mode": {
    "name": "ipython",
    "version": 3
   },
   "file_extension": ".py",
   "mimetype": "text/x-python",
   "name": "python",
   "nbconvert_exporter": "python",
   "pygments_lexer": "ipython3",
   "version": "3.10.4"
  },
  "orig_nbformat": 4,
  "vscode": {
   "interpreter": {
    "hash": "451f605c58fa7f82d1d484da5a7eef3d214b63567dc0911e0bf409faa3ae9cbb"
   }
  }
 },
 "nbformat": 4,
 "nbformat_minor": 2
}
