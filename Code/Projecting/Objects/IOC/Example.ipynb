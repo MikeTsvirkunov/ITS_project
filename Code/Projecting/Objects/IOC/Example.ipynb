{
 "cells": [
  {
   "cell_type": "code",
   "execution_count": 1,
   "metadata": {},
   "outputs": [],
   "source": [
    "import sys\n",
    "sys.path.append(\"../../Objects\")\n",
    "from IOCContainer import IOCContainer\n",
    "from InitScopeBasedIoCImplementationCommand import InitScopeBasedIoCImplementationCommand\n",
    "from ScopeBasedResolveDependencyStrategy import ScopeBasedResolveDependencyStrategy\n"
   ]
  },
  {
   "cell_type": "code",
   "execution_count": 2,
   "metadata": {},
   "outputs": [
    {
     "ename": "AttributeError",
     "evalue": "'str' object has no attribute 'strategy'",
     "output_type": "error",
     "traceback": [
      "\u001b[1;31m---------------------------------------------------------------------------\u001b[0m",
      "\u001b[1;31mAttributeError\u001b[0m                            Traceback (most recent call last)",
      "Cell \u001b[1;32mIn[2], line 2\u001b[0m\n\u001b[0;32m      1\u001b[0m \u001b[39m# SetupIOCContainerCommand.action()\u001b[39;00m\n\u001b[1;32m----> 2\u001b[0m InitScopeBasedIoCImplementationCommand()\u001b[39m.\u001b[39;49maction()\n",
      "File \u001b[1;32mc:\\Users\\Mike\\Desktop\\ITS_project\\Code\\Projecting\\Objects\\IOC\\InitScopeBasedIoCImplementationCommand.py:26\u001b[0m, in \u001b[0;36mInitScopeBasedIoCImplementationCommand.action\u001b[1;34m(self)\u001b[0m\n\u001b[0;32m     24\u001b[0m storage[\u001b[39m'\u001b[39m\u001b[39mIOC.Register\u001b[39m\u001b[39m'\u001b[39m] \u001b[39m=\u001b[39m \u001b[39mlambda\u001b[39;00m \u001b[39m*\u001b[39margs: RegisterIoCDependencyCommand(args[\u001b[39m0\u001b[39m], args[\u001b[39m1\u001b[39m])\n\u001b[0;32m     25\u001b[0m ScopeBasedResolveDependencyStrategy()\u001b[39m.\u001b[39mroot \u001b[39m=\u001b[39m scope\n\u001b[1;32m---> 26\u001b[0m IOCContainer\u001b[39m.\u001b[39;49mresolve(\u001b[39m'\u001b[39;49m\u001b[39mIOC.SetupStrategy\u001b[39;49m\u001b[39m'\u001b[39;49m, ScopeBasedResolveDependencyStrategy\u001b[39m.\u001b[39;49mresolve)\u001b[39m.\u001b[39maction()\n\u001b[0;32m     27\u001b[0m SetScopeInCurrentThreadCommand(scope)\u001b[39m.\u001b[39maction()\n",
      "File \u001b[1;32mc:\\Users\\Mike\\Desktop\\ITS_project\\Code\\Projecting\\Objects\\IOC\\IOCContainer.py:10\u001b[0m, in \u001b[0;36mIOCContainer.resolve\u001b[1;34m(self, key, *args)\u001b[0m\n\u001b[0;32m      9\u001b[0m \u001b[39mdef\u001b[39;00m \u001b[39mresolve\u001b[39m(\u001b[39mself\u001b[39m, key: \u001b[39mstr\u001b[39m, \u001b[39m*\u001b[39margs):\n\u001b[1;32m---> 10\u001b[0m     \u001b[39mreturn\u001b[39;00m \u001b[39mself\u001b[39;49m\u001b[39m.\u001b[39;49mstrategy(key, args)\n",
      "\u001b[1;31mAttributeError\u001b[0m: 'str' object has no attribute 'strategy'"
     ]
    }
   ],
   "source": [
    "# SetupIOCContainerCommand.action()\n",
    "InitScopeBasedIoCImplementationCommand().action()\n"
   ]
  }
 ],
 "metadata": {
  "kernelspec": {
   "display_name": "ITS_project",
   "language": "python",
   "name": "python3"
  },
  "language_info": {
   "codemirror_mode": {
    "name": "ipython",
    "version": 3
   },
   "file_extension": ".py",
   "mimetype": "text/x-python",
   "name": "python",
   "nbconvert_exporter": "python",
   "pygments_lexer": "ipython3",
   "version": "3.9.2"
  },
  "orig_nbformat": 4
 },
 "nbformat": 4,
 "nbformat_minor": 2
}
