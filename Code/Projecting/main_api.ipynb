{
 "cells": [
  {
   "cell_type": "code",
   "execution_count": 71,
   "metadata": {},
   "outputs": [],
   "source": [
    "from keras.models import load_model\n",
    "import tensorflow as tf\n",
    "from fastapi import FastAPI, Body\n",
    "from fastapi.middleware.cors import CORSMiddleware\n",
    "\n",
    "from pydantic import BaseModel\n",
    "\n",
    "from json import loads\n",
    "\n",
    "from keras.models import load_model\n",
    "\n",
    "import tensorflow as tf\n",
    "import numpy as np\n",
    "import spacy\n",
    "\n",
    "from Objects.Functions.get_word_pairs import get_wp_in_line_hard\n",
    "import pandas as pd\n",
    "from string import punctuation\n",
    "import re\n",
    "import string\n",
    "from scipy.spatial.distance import cosine"
   ]
  },
  {
   "cell_type": "code",
   "execution_count": 72,
   "metadata": {},
   "outputs": [],
   "source": [
    "tf.config.run_functions_eagerly(False)\n",
    "nlp_type_of_event_extraction = spacy.load('../../PipeLines/WordsExtraction/words_extract/')\n",
    "nlp_classic = spacy.load('ru_core_news_sm')\n",
    "kcm_extraction_model = tf.keras.models.load_model(\n",
    "    '../../PipeLines/Coder/coder_from_spacy_to_kcm_onh5.h5')\n",
    "# kcm_extraction_model.evaluate\n",
    "is_description_model = load_model('../../PipeLines/Classifications/checker_is_discriptor_spacy_vectorize.h5')"
   ]
  },
  {
   "cell_type": "code",
   "execution_count": 73,
   "metadata": {},
   "outputs": [],
   "source": [
    "def get_vectorized_wp_and_wp(text, vectorizer):\n",
    "        list_of_wp = list()\n",
    "        list_of_vectors = list()\n",
    "        for sentence in text.split('.'):\n",
    "            for wp in get_wp_in_line_hard(sentence):\n",
    "                list_of_vectors.append(vectorizer(wp))\n",
    "                list_of_wp.append(wp)\n",
    "        return np.array(list_of_wp), np.array(list_of_vectors)"
   ]
  },
  {
   "cell_type": "code",
   "execution_count": 74,
   "metadata": {},
   "outputs": [],
   "source": [
    "def remove_punctuation(descriptors_name):\n",
    "    desc = list()\n",
    "    for i in descriptors_name:\n",
    "        desc.append(i.translate(str.maketrans('','', string.punctuation)))\n",
    "    return desc"
   ]
  },
  {
   "cell_type": "code",
   "execution_count": 75,
   "metadata": {},
   "outputs": [],
   "source": [
    "def get_distances_between_wp(descriptor_vector, metric_function):\n",
    "    final_summ = list() \n",
    "    for i in range(len(descriptor_vector)):\n",
    "        for j in range(i + 1, len(descriptor_vector)):\n",
    "            cos = metric_function(descriptor_vector[i], descriptor_vector[j])\n",
    "            final_summ[i].append(cos)\n",
    "            final_summ[j].append(cos)\n",
    "    return final_summ"
   ]
  },
  {
   "cell_type": "code",
   "execution_count": 76,
   "metadata": {},
   "outputs": [],
   "source": [
    "def sendStudentJson(description):\n",
    "    wp_of_event, wp_of_event_vectorized = get_vectorized_wp_and_wp(description, lambda text: nlp_classic(text).vector)\n",
    "    is_wp_descriptor = is_description_model.predict(wp_of_event_vectorized) > 0.992\n",
    "    descriptors_vectorized = wp_of_event_vectorized[is_wp_descriptor.T[0]]\n",
    "    predict = kcm_extraction_model.predict(descriptors_vectorized)\n",
    "    #descriptors_name\n",
    "    descriptors_name = wp_of_event[is_wp_descriptor.T[0]]\n",
    "    \n",
    "    description_name_without_punct = remove_punctuation(descriptors_name)\n",
    "    \n",
    "    vectorized_description_name_without_punctuation = vectorized_description_name_without_punct(remove_punctuation)\n",
    "    n = 0\n",
    "    final_summ = [list() for i in vectorized_description_name_without_punctuation]\n",
    "\n",
    "    vectorize_end = stdotkl(final_summ)\n",
    "    res = np.where(vectorize_end == np.min(vectorize_end))[0]\n",
    "    description_name_without_punct[int(res)]\n",
    "    \n",
    "    return description_name_without_punct[int(res)], kcm_extraction_model.predict(np.array([nlp_classic(description_name_without_punct[int(res)]).vector]))"
   ]
  },
  {
   "cell_type": "code",
   "execution_count": 77,
   "metadata": {},
   "outputs": [],
   "source": [
    "abc = 'В форме представлений типов мышления, обсуждение их особенностей, применительности к реальным задачам, сравнительные характеристики.'"
   ]
  },
  {
   "cell_type": "code",
   "execution_count": 78,
   "metadata": {},
   "outputs": [],
   "source": [
    "wp,  vwp = get_vectorized_wp_and_wp(abc, lambda text: nlp_classic(text).vector)"
   ]
  },
  {
   "cell_type": "code",
   "execution_count": 79,
   "metadata": {},
   "outputs": [
    {
     "name": "stdout",
     "output_type": "stream",
     "text": [
      "3/3 [==============================] - 0s 5ms/step\n"
     ]
    }
   ],
   "source": [
    "is_wp_descriptor = is_description_model.predict(vwp) > 0.992"
   ]
  },
  {
   "cell_type": "code",
   "execution_count": 80,
   "metadata": {},
   "outputs": [],
   "source": [
    "dv = vwp[is_wp_descriptor.T[0]]\n",
    "d = wp[is_wp_descriptor.T[0]]"
   ]
  },
  {
   "cell_type": "code",
   "execution_count": 81,
   "metadata": {},
   "outputs": [
    {
     "name": "stdout",
     "output_type": "stream",
     "text": [
      "1/1 [==============================] - 0s 149ms/step\n"
     ]
    }
   ],
   "source": [
    "predict = kcm_extraction_model.predict(dv)"
   ]
  },
  {
   "cell_type": "code",
   "execution_count": 82,
   "metadata": {},
   "outputs": [
    {
     "data": {
      "text/plain": [
       "array([[-2.7230851e-02,  1.1530252e+00,  9.3390599e-02],\n",
       "       [ 2.3817621e-02,  1.1737771e+00, -2.2050440e-03],\n",
       "       [-1.7028779e-02,  1.0819974e+00,  5.9703752e-02],\n",
       "       [ 9.7290501e-03,  9.8988956e-01,  2.4214387e-04]], dtype=float32)"
      ]
     },
     "execution_count": 82,
     "metadata": {},
     "output_type": "execute_result"
    }
   ],
   "source": [
    "predict"
   ]
  },
  {
   "cell_type": "code",
   "execution_count": 83,
   "metadata": {},
   "outputs": [],
   "source": [
    "from Objects.Functions.get_word_pairs import get_wp_in_line_hard, get_vectorized_wp_and_wp\n",
    "from Objects.Functions.get_types_of_event import get_types_of_event_spacy\n",
    "from Objects.Functions.get_wp_distances import get_distances_between_wp"
   ]
  },
  {
   "cell_type": "code",
   "execution_count": 84,
   "metadata": {},
   "outputs": [
    {
     "name": "stdout",
     "output_type": "stream",
     "text": [
      "1/1 [==============================] - 0s 46ms/step\n"
     ]
    }
   ],
   "source": [
    "distances = np.argsort(list(map(lambda a: np.array(a).std(), get_distances_between_wp(descriptor_vector=dv, metric_function=cosine))))\n",
    "predict = kcm_extraction_model.predict(dv[distances[0:2]])"
   ]
  },
  {
   "cell_type": "code",
   "execution_count": 85,
   "metadata": {},
   "outputs": [
    {
     "data": {
      "text/plain": [
       "array([1, 2, 3, 0], dtype=int64)"
      ]
     },
     "execution_count": 85,
     "metadata": {},
     "output_type": "execute_result"
    }
   ],
   "source": [
    "distances"
   ]
  },
  {
   "cell_type": "code",
   "execution_count": 86,
   "metadata": {},
   "outputs": [
    {
     "data": {
      "text/plain": [
       "array([[-0.59135526, -0.18395996,  0.17253928, -0.04396268,  0.9353698 ,\n",
       "         0.18774764,  1.2401947 ,  0.4095701 ,  0.21220809, -0.9230838 ,\n",
       "        -0.15536904, -1.2114451 , -1.3029203 ,  1.4868159 , -0.28237996,\n",
       "        -0.1745209 , -0.43754986, -0.73927516, -1.568915  ,  1.3296856 ,\n",
       "         0.5218561 , -0.6542479 ,  0.6036532 ,  1.0517882 , -0.8474532 ,\n",
       "        -0.20859516,  0.22622108, -0.43271026,  0.29257143, -0.5356993 ,\n",
       "         0.34807053, -0.7714756 , -0.8102071 ,  0.6690045 , -0.3225636 ,\n",
       "         0.3268718 , -2.135021  , -0.49551725,  0.2524806 , -0.8629706 ,\n",
       "        -0.41905904,  0.43737972,  0.2783629 , -0.8816537 , -0.44250044,\n",
       "        -1.4522643 , -0.2226783 , -1.0433569 , -0.5548043 ,  0.9303481 ,\n",
       "        -0.2740887 ,  0.09103168, -0.06262046, -0.5992047 ,  1.4300972 ,\n",
       "         0.28260157, -0.5352357 ,  0.55341023, -0.694973  ,  1.1642292 ,\n",
       "        -0.20101662, -0.21450822,  0.11587569,  0.22602427,  1.0045058 ,\n",
       "         0.16885489, -0.24806218,  0.30139938,  0.1086941 , -0.003311  ,\n",
       "        -0.60837454,  0.17822857,  0.50341004,  0.62655836,  0.20223416,\n",
       "         2.1116016 ,  0.15058823, -0.5062631 ,  0.01930841, -1.0561038 ,\n",
       "        -0.5502931 , -1.4180857 , -0.21031593,  2.0067136 , -0.12910545,\n",
       "         1.4675007 , -0.35708177,  0.7506433 ,  0.6736774 ,  0.5717664 ,\n",
       "         1.8520722 ,  0.5713634 ,  0.26083001,  1.1242689 , -1.0912629 ,\n",
       "        -0.5671498 ],\n",
       "       [-0.24248755,  0.14670034, -0.1305572 , -0.32413998,  1.2429131 ,\n",
       "        -0.28657526,  1.2498873 ,  0.4367144 ,  0.18884082, -0.18016525,\n",
       "         0.06810894, -0.7797362 , -0.9757614 ,  1.1603906 , -0.5705279 ,\n",
       "         0.3956014 , -0.3727056 , -0.68488693, -1.335954  ,  1.1360757 ,\n",
       "        -0.07043591, -0.7658009 ,  1.2543192 ,  0.7053085 , -0.9290271 ,\n",
       "         0.41812205,  0.21950833, -1.1359097 ,  0.43440977, -0.35469288,\n",
       "        -0.0896173 , -0.470287  , -0.7303042 ,  0.5891822 , -0.39858955,\n",
       "        -0.07399984, -1.527461  ,  0.06778898,  0.07911275, -0.5422751 ,\n",
       "        -0.6002258 ,  0.83571273, -0.10585116, -0.76372564,  0.01860676,\n",
       "        -0.59096795,  0.19528525, -0.51249826, -0.40612116,  0.42418775,\n",
       "        -0.1997738 ,  0.05652312, -0.38685614, -0.44971043,  1.8951824 ,\n",
       "        -0.10483863,  0.26736927,  0.25721738, -0.77405584,  0.5931255 ,\n",
       "        -0.21919087, -0.6393356 ,  0.08338185,  0.00899181,  0.85175544,\n",
       "        -0.04897703,  0.16323695, -0.4722249 ,  0.5420947 , -0.03064988,\n",
       "        -0.24372952,  0.27374583,  0.65537184, -0.20017476, -0.23453698,\n",
       "         1.2846895 , -0.26032838, -0.64514166, -0.04944894, -1.127415  ,\n",
       "        -0.9276835 , -1.4983096 , -0.46844882,  1.7540439 , -0.11757181,\n",
       "         0.8005347 , -0.31894922,  0.76107925,  0.3514663 ,  0.84677917,\n",
       "         1.254173  ,  1.0720888 ,  0.5665681 ,  0.5301498 , -0.63012934,\n",
       "         0.11176703]], dtype=float32)"
      ]
     },
     "execution_count": 86,
     "metadata": {},
     "output_type": "execute_result"
    }
   ],
   "source": [
    "dv[distances[0:2]]"
   ]
  },
  {
   "cell_type": "code",
   "execution_count": 87,
   "metadata": {},
   "outputs": [
    {
     "data": {
      "text/plain": [
       "((2, 96), numpy.ndarray, numpy.ndarray, (96,))"
      ]
     },
     "execution_count": 87,
     "metadata": {},
     "output_type": "execute_result"
    }
   ],
   "source": [
    "dv[distances[0:2]].shape, type(dv[distances[0:2]]), type(dv[distances[0:2]][0]), dv[distances[0:2]][0].shape"
   ]
  },
  {
   "cell_type": "code",
   "execution_count": 88,
   "metadata": {},
   "outputs": [
    {
     "data": {
      "text/plain": [
       "array([[ 0.02381767,  1.1737773 , -0.002205  ],\n",
       "       [-0.0170289 ,  1.0819975 ,  0.05970396]], dtype=float32)"
      ]
     },
     "execution_count": 88,
     "metadata": {},
     "output_type": "execute_result"
    }
   ],
   "source": [
    "predict"
   ]
  },
  {
   "cell_type": "code",
   "execution_count": 89,
   "metadata": {},
   "outputs": [],
   "source": [
    "tf.config.run_functions_eagerly(True)"
   ]
  },
  {
   "cell_type": "code",
   "execution_count": 94,
   "metadata": {},
   "outputs": [
    {
     "name": "stdout",
     "output_type": "stream",
     "text": [
      "1 В форме представлений типов мышления, обсуждение их особенностей, применительности к реальным задачам, сравнительные характеристики 131\n",
      "1  0\n"
     ]
    }
   ],
   "source": [
    "for sentence in abc.split('.'):\n",
    "    print(1, sentence, len(sentence))\n",
    "    get_wp_in_line_hard(sentence)"
   ]
  },
  {
   "cell_type": "code",
   "execution_count": 90,
   "metadata": {},
   "outputs": [
    {
     "name": "stdout",
     "output_type": "stream",
     "text": [
      "3/3 [==============================] - 0s 13ms/step\n",
      "[False False False False False False False False False False False False\n",
      "  True  True  True  True  True False False False False False False  True\n",
      " False False False False False False False False False False False False\n",
      " False False False False False False False False False False False False\n",
      " False False False False False False False False False False False False\n",
      " False False False False False False False False False  True False False\n",
      " False False False False False False]\n",
      "[ 0.56233007  0.39186108  0.16466665 -0.9715398   0.8060682  -0.14496042\n",
      "  0.5426063  -0.81216353 -0.11705708 -0.04717104 -0.30298313  0.08511698\n",
      "  0.17209752  0.5559431   0.81157017  0.292975    0.29184234  0.87144583\n",
      "  0.04807131  0.3588399  -0.16138585 -0.7049678   0.47095597 -0.24363661\n",
      "  0.49398562 -1.0977315  -0.20614164  0.826577   -1.355505    0.42217708\n",
      "  0.05793822 -0.13716026  0.40736198 -0.11919902  0.26453623 -0.5062477\n",
      "  0.2281958  -1.3768774  -0.07112893 -0.6589294   0.5030989   0.21140237\n",
      " -0.17429097 -0.01134209  2.2075672   0.85551095 -0.31795254 -1.2594465\n",
      " -0.29225558 -0.99850637 -0.8147995  -0.28373733  1.7497683   0.07494527\n",
      "  0.35276797  1.3950559  -0.59394836 -0.31530008 -0.6361074   0.47169212\n",
      " -1.1333243  -0.35160282 -0.6022264   0.03091292 -0.10785598 -0.34768233\n",
      " -0.76042384 -0.02556703 -1.385712    0.24753201  0.41658154 -1.3474771\n",
      "  0.19226916  1.9306955   0.39364457  0.25560948  0.65001726 -0.583494\n",
      "  0.6136176  -0.582009    0.3715137   0.7081173  -0.279929   -0.8640058\n",
      " -0.3063225  -0.38299182 -0.5115288  -0.17079382  0.70760393  0.42867687\n",
      " -0.37454036 -0.5500441   2.365454    0.29287097  0.02978478 -0.15657876] <class 'numpy.ndarray'> (96,) (2, 96)\n",
      "1/1 [==============================] - 0s 57ms/step\n",
      "\n",
      "\n"
     ]
    }
   ],
   "source": [
    "skills = dict()\n",
    "for sentence in abc.split('.'):\n",
    "    wp_of_event, wp_of_event_vectorized = get_vectorized_wp_and_wp(word_pairs=get_wp_in_line_hard(sentence), \n",
    "                                                                    vectorizer=lambda text: nlp_classic(text).vector)\n",
    "    if len(wp_of_event):\n",
    "        is_wp_descriptor = is_description_model.predict(wp_of_event_vectorized)\n",
    "        print(is_wp_descriptor.T[0]>0.5)\n",
    "        descriptors_vectorized = wp_of_event_vectorized[is_wp_descriptor.T[0]>0.5]\n",
    "        descriptors_name = wp_of_event[is_wp_descriptor.T[0]>0.5]\n",
    "        # print(is_wp_descriptor)\n",
    "        if len(descriptors_name) != 0:\n",
    "            distances = np.argsort(list(map(lambda a: np.array(a).std(), \n",
    "                                            get_distances_between_wp(descriptor_vector=descriptors_vectorized, \n",
    "                                                                    metric_function=cosine))))\n",
    "            # print(distances)\n",
    "            print(descriptors_vectorized[distances.T[0]], \n",
    "                type(descriptors_vectorized[distances[0:2]]), \n",
    "                descriptors_vectorized[distances[0:2]][0].shape, \n",
    "                descriptors_vectorized[distances.T[0:2]].shape)\n",
    "            # print(descriptors_vectorized[distances.T[0]])\n",
    "            predict = kcm_extraction_model.predict(descriptors_vectorized[distances[0:2]], )\n",
    "            for name, kcm in zip(descriptors_name, predict):\n",
    "                skills[name] = {'know': float((kcm[1]+1)/2), 'can': float((kcm[2]+1)/2), 'master': float((kcm[0]+1)/2)}\n",
    "            print('\\n')\n",
    "        "
   ]
  },
  {
   "cell_type": "code",
   "execution_count": 91,
   "metadata": {},
   "outputs": [
    {
     "data": {
      "text/plain": [
       "{'форме представлений': {'know': 0.5567205362021923,\n",
       "  'can': 0.9712267518043518,\n",
       "  'master': 0.4931637980043888},\n",
       " 'форме представлений типов': {'know': 1.0765125751495361,\n",
       "  'can': 0.5466952472925186,\n",
       "  'master': 0.48638464137911797}}"
      ]
     },
     "execution_count": 91,
     "metadata": {},
     "output_type": "execute_result"
    }
   ],
   "source": [
    "skills"
   ]
  }
 ],
 "metadata": {
  "kernelspec": {
   "display_name": "Python 3.10.4 ('nlp_venv': venv)",
   "language": "python",
   "name": "python3"
  },
  "language_info": {
   "codemirror_mode": {
    "name": "ipython",
    "version": 3
   },
   "file_extension": ".py",
   "mimetype": "text/x-python",
   "name": "python",
   "nbconvert_exporter": "python",
   "pygments_lexer": "ipython3",
   "version": "3.9.2"
  },
  "orig_nbformat": 4,
  "vscode": {
   "interpreter": {
    "hash": "451f605c58fa7f82d1d484da5a7eef3d214b63567dc0911e0bf409faa3ae9cbb"
   }
  }
 },
 "nbformat": 4,
 "nbformat_minor": 2
}
