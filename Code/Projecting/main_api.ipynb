{
 "cells": [
  {
   "cell_type": "code",
   "execution_count": 12,
   "metadata": {},
   "outputs": [],
   "source": [
    "from keras.models import load_model\n",
    "import tensorflow as tf\n",
    "from fastapi import FastAPI, Body\n",
    "from fastapi.middleware.cors import CORSMiddleware\n",
    "\n",
    "from pydantic import BaseModel\n",
    "\n",
    "from json import loads\n",
    "\n",
    "from keras.models import load_model\n",
    "\n",
    "import tensorflow as tf\n",
    "import numpy as np\n",
    "import spacy\n",
    "\n",
    "from Objects.Analysers.Functions.get_word_pairs import get_wp_in_line_hard\n",
    "import pandas as pd\n",
    "from string import punctuation\n",
    "import re\n",
    "import string\n",
    "from scipy.spatial.distance import cosine"
   ]
  },
  {
   "cell_type": "code",
   "execution_count": 2,
   "metadata": {},
   "outputs": [],
   "source": [
    "nlp_type_of_event_extraction = spacy.load('../../PipeLines/WordsExtraction/words_extract/')\n",
    "nlp_classic = spacy.load('ru_core_news_sm')\n",
    "kcm_extraction_model = tf.keras.models.load_model(\n",
    "    '../../PipeLines/Coder/coder_from_spacy_to_kcm_onh5.h5')\n",
    "# kcm_extraction_model.evaluate\n",
    "is_description_model = load_model('../../PipeLines/Classifications/checker_is_discriptor_spacy_vectorize.h5')"
   ]
  },
  {
   "cell_type": "code",
   "execution_count": 13,
   "metadata": {},
   "outputs": [],
   "source": [
    "def sendStudentJson(description):\n",
    "    def get_vectorized_wp_and_wp(text, vectorizer):\n",
    "        list_of_wp = list()\n",
    "        list_of_vectors = list()\n",
    "        for sentence in text.split('.'):\n",
    "            for wp in get_wp_in_line_hard(sentence):\n",
    "                list_of_vectors.append(vectorizer(wp))\n",
    "                list_of_wp.append(wp)\n",
    "        return np.array(list_of_wp), np.array(list_of_vectors)\n",
    "    wp_of_event, wp_of_event_vectorized = get_vectorized_wp_and_wp(description, lambda text: nlp_classic(text).vector)\n",
    "    #is_descriptor\n",
    "    is_wp_descriptor = is_description_model.predict(wp_of_event_vectorized) > 0.992\n",
    "    #descriotors_vectorized\n",
    "    descriptors_vectorized = wp_of_event_vectorized[is_wp_descriptor.T[0]]\n",
    "    #predict\n",
    "    predict = kcm_extraction_model.predict(descriptors_vectorized)\n",
    "    #descriptors_name\n",
    "    descriptors_name = wp_of_event[is_wp_descriptor.T[0]]\n",
    "\n",
    "    #desc_without_punct\n",
    "    def desc_without_punct(descriptors_name):\n",
    "        desc = list()\n",
    "        for i in descriptors_name:\n",
    "            desc.append(i.translate(str.maketrans('','', string.punctuation)))\n",
    "        return desc\n",
    "    \n",
    "    description_name_without_punct = desc_without_punct(descriptors_name)\n",
    "    def vectorized_description_name_without_punct(description_name_without_punct):\n",
    "        disc = list()\n",
    "        for i in description_name_without_punct:\n",
    "            disc.append(nlp_classic(i).vector)\n",
    "        return disc\n",
    "    vectorized_description_name_without_punctuation = vectorized_description_name_without_punct(description_name_without_punct)\n",
    "\n",
    "\n",
    "    #distance\n",
    "    n = 0\n",
    "    final_summ = [list() for i in vectorized_description_name_without_punctuation]\n",
    "\n",
    "    for i in range(len(vectorized_description_name_without_punctuation)):\n",
    "        for j in range(i + 1, len(vectorized_description_name_without_punctuation)):\n",
    "            cos = cosine(vectorized_description_name_without_punctuation[i], vectorized_description_name_without_punctuation[j])\n",
    "            final_summ[i].append(cos)\n",
    "            final_summ[j].append(cos)\n",
    "\n",
    "    def stdotkl(final_summ):\n",
    "        final_list = list()\n",
    "        for i in final_summ:\n",
    "            final_list.append(np.std(i))\n",
    "        return final_list\n",
    "    \n",
    "    vectorize_end = stdotkl(final_summ)\n",
    "    res = np.where(vectorize_end == np.min(vectorize_end))[0]\n",
    "    description_name_without_punct[int(res)]\n",
    "    \n",
    "    return description_name_without_punct[int(res)], kcm_extraction_model.predict(np.array([nlp_classic(description_name_without_punct[int(res)]).vector]))"
   ]
  },
  {
   "cell_type": "code",
   "execution_count": 9,
   "metadata": {},
   "outputs": [],
   "source": [
    "abc = 'В форме представлений типов мышления, обсуждение их особенностей, применительности к реальным задачам, сравнительные характеристики.'"
   ]
  },
  {
   "cell_type": "code",
   "execution_count": 14,
   "metadata": {},
   "outputs": [
    {
     "name": "stdout",
     "output_type": "stream",
     "text": [
      "3/3 [==============================] - 0s 1ms/step\n",
      "1/1 [==============================] - 0s 50ms/step\n",
      "1/1 [==============================] - 0s 17ms/step\n"
     ]
    },
    {
     "data": {
      "text/plain": [
       "('представлений типов мышления',\n",
       " array([[ 0.3524445 ,  0.82012445, -0.16171165]], dtype=float32))"
      ]
     },
     "execution_count": 14,
     "metadata": {},
     "output_type": "execute_result"
    }
   ],
   "source": [
    "sendStudentJson(abc)"
   ]
  }
 ],
 "metadata": {
  "kernelspec": {
   "display_name": "Python 3.10.4 ('nlp_venv': venv)",
   "language": "python",
   "name": "python3"
  },
  "language_info": {
   "codemirror_mode": {
    "name": "ipython",
    "version": 3
   },
   "file_extension": ".py",
   "mimetype": "text/x-python",
   "name": "python",
   "nbconvert_exporter": "python",
   "pygments_lexer": "ipython3",
   "version": "3.10.4"
  },
  "orig_nbformat": 4,
  "vscode": {
   "interpreter": {
    "hash": "451f605c58fa7f82d1d484da5a7eef3d214b63567dc0911e0bf409faa3ae9cbb"
   }
  }
 },
 "nbformat": 4,
 "nbformat_minor": 2
}
