{
 "cells": [
  {
   "cell_type": "code",
   "execution_count": 1,
   "metadata": {},
   "outputs": [],
   "source": [
    "import numpy as np\n",
    "import pandas as pd\n",
    "import spacy\n",
    "nlp = spacy.load(\"ru_core_news_sm\")\n",
    "import tensorflow as tf\n",
    "from sklearn.model_selection import cross_val_score\n",
    "from sklearn.metrics import accuracy_score, confusion_matrix, classification_report, roc_curve, RocCurveDisplay, auc, mean_squared_error\n",
    "from sklearn.model_selection import train_test_split\n",
    "from json import load\n"
   ]
  },
  {
   "cell_type": "code",
   "execution_count": 2,
   "metadata": {},
   "outputs": [],
   "source": [
    "not_discriptors = list()\n",
    "with open('../../Data/Words/word_pairs_not_disc.txt', 'r', encoding='utf-8') as txt:\n",
    "    for i in txt:\n",
    "        not_discriptors.append(i.replace('\\n', ''))\n",
    "\n",
    "with open('../../Data/Events/type_of_events.json', 'r', encoding='utf-8') as js:\n",
    "    events = load(js)\n",
    "\n",
    "with open('../../Data/Datasets/data.json', 'r', encoding='utf-8') as js:\n",
    "    discriptors = load(js)\n"
   ]
  },
  {
   "cell_type": "code",
   "execution_count": 3,
   "metadata": {},
   "outputs": [],
   "source": [
    "dict_of_disc = {'expession': [], 'is_discr': []}\n",
    "for subject in discriptors.values():\n",
    "    for d in sum(subject.values(), []):\n",
    "        dict_of_disc['expession'].append(nlp(d).vector)\n",
    "        dict_of_disc['is_discr'].append(True)\n",
    "\n",
    "for subject in not_discriptors:\n",
    "    dict_of_disc['expession'].append(nlp(subject).vector)\n",
    "    dict_of_disc['is_discr'].append(False)\n",
    "\n"
   ]
  },
  {
   "cell_type": "code",
   "execution_count": 4,
   "metadata": {},
   "outputs": [],
   "source": [
    "features = np.array(dict_of_disc['expession'])\n",
    "labels = np.array(list(map(int, dict_of_disc['is_discr'])))\n"
   ]
  },
  {
   "cell_type": "code",
   "execution_count": 5,
   "metadata": {},
   "outputs": [],
   "source": [
    "X_train, X_test, y_train, y_test = train_test_split(features, labels, random_state=71)\n"
   ]
  },
  {
   "cell_type": "code",
   "execution_count": 35,
   "metadata": {},
   "outputs": [
    {
     "name": "stdout",
     "output_type": "stream",
     "text": [
      "Model: \"sequential_1\"\n",
      "_________________________________________________________________\n",
      " Layer (type)                Output Shape              Param #   \n",
      "=================================================================\n",
      " input (Dense)               (None, 144)               13968     \n",
      "                                                                 \n",
      " hidden_layer_2 (Dense)      (None, 192)               27840     \n",
      "                                                                 \n",
      " hidden_layer_3 (Dense)      (None, 288)               55584     \n",
      "                                                                 \n",
      " hidden_layer_4 (Dense)      (None, 192)               55488     \n",
      "                                                                 \n",
      " hidden_layer_5 (Dense)      (None, 144)               27792     \n",
      "                                                                 \n",
      " hidden_layer_6 (Dense)      (None, 48)                6960      \n",
      "                                                                 \n",
      " output (Dense)              (None, 1)                 49        \n",
      "                                                                 \n",
      "=================================================================\n",
      "Total params: 187,681\n",
      "Trainable params: 187,681\n",
      "Non-trainable params: 0\n",
      "_________________________________________________________________\n"
     ]
    }
   ],
   "source": [
    "import tensorflow as tf\n",
    "\n",
    "model_class = tf.keras.models.Sequential()\n",
    "model_class.add(tf.keras.layers.Dense(int(X_train[0].shape[0]*1.5), activation='softmax',\n",
    "                                      input_shape=(X_train[0].shape[0],), name='input'))\n",
    "model_class.add(tf.keras.layers.Dense(\n",
    "    int(X_train[0].shape[0]*2), activation='relu', name='hidden_layer_2'))\n",
    "model_class.add(tf.keras.layers.Dense(\n",
    "    int(X_train[0].shape[0]*3), activation='relu', name='hidden_layer_3'))\n",
    "model_class.add(tf.keras.layers.Dense(\n",
    "    int(X_train[0].shape[0]*2), activation='relu', name='hidden_layer_4'))\n",
    "model_class.add(tf.keras.layers.Dense(\n",
    "    int(X_train[0].shape[0]*1.5), activation='relu', name='hidden_layer_5'))\n",
    "model_class.add(tf.keras.layers.Dense(\n",
    "    int(X_train[0].shape[0]*0.5), activation='relu', name='hidden_layer_6'))\n",
    "model_class.add(tf.keras.layers.Dense(1, name='output'))\n",
    "model_class.summary()\n"
   ]
  },
  {
   "cell_type": "code",
   "execution_count": 41,
   "metadata": {},
   "outputs": [],
   "source": [
    "model_class.compile(\n",
    "    loss='mse',  # Функция потерь\n",
    "    optimizer='Adam',  # Оптимизатор\n",
    "    metrics=[  # Метрики\n",
    "        'mse',  # Если у объекта назначено имя, то можно вызвать объект с его помощью\n",
    "        # tf.keras.metrics.TrueNegatives\n",
    "        # tf.keras.metrics.Precision()\n",
    "    ]\n",
    ")\n"
   ]
  },
  {
   "cell_type": "code",
   "execution_count": 42,
   "metadata": {},
   "outputs": [
    {
     "name": "stdout",
     "output_type": "stream",
     "text": [
      "Epoch 1/40\n",
      "319/319 [==============================] - 2s 3ms/step - loss: 1.0498 - mse: 1.0498 - val_loss: 0.0776 - val_mse: 0.0776\n",
      "Epoch 2/40\n",
      "319/319 [==============================] - 1s 2ms/step - loss: 0.0508 - mse: 0.0508 - val_loss: 0.0508 - val_mse: 0.0508\n",
      "Epoch 3/40\n",
      "319/319 [==============================] - 1s 2ms/step - loss: 0.0390 - mse: 0.0390 - val_loss: 0.0459 - val_mse: 0.0459\n",
      "Epoch 4/40\n",
      "319/319 [==============================] - 1s 2ms/step - loss: 0.0301 - mse: 0.0301 - val_loss: 0.0653 - val_mse: 0.0653\n",
      "Epoch 5/40\n",
      "319/319 [==============================] - 1s 2ms/step - loss: 0.0260 - mse: 0.0260 - val_loss: 0.0435 - val_mse: 0.0435\n",
      "Epoch 6/40\n",
      "319/319 [==============================] - 1s 2ms/step - loss: 0.0223 - mse: 0.0223 - val_loss: 0.0506 - val_mse: 0.0506\n",
      "Epoch 7/40\n",
      "319/319 [==============================] - 1s 2ms/step - loss: 0.0203 - mse: 0.0203 - val_loss: 0.0367 - val_mse: 0.0367\n",
      "Epoch 8/40\n",
      "319/319 [==============================] - 1s 2ms/step - loss: 0.0073 - mse: 0.0073 - val_loss: 0.0322 - val_mse: 0.0322\n",
      "Epoch 9/40\n",
      "319/319 [==============================] - 1s 2ms/step - loss: 0.0053 - mse: 0.0053 - val_loss: 0.0276 - val_mse: 0.0276\n",
      "Epoch 10/40\n",
      "319/319 [==============================] - 1s 2ms/step - loss: 0.0116 - mse: 0.0116 - val_loss: 0.0528 - val_mse: 0.0528\n",
      "Epoch 11/40\n",
      "319/319 [==============================] - 1s 2ms/step - loss: 0.0066 - mse: 0.0066 - val_loss: 0.0310 - val_mse: 0.0310\n",
      "Epoch 12/40\n",
      "319/319 [==============================] - 1s 2ms/step - loss: 4.6750e-04 - mse: 4.6750e-04 - val_loss: 0.0322 - val_mse: 0.0322\n",
      "Epoch 13/40\n",
      "319/319 [==============================] - 1s 2ms/step - loss: 2.3037e-04 - mse: 2.3037e-04 - val_loss: 0.0320 - val_mse: 0.0320\n",
      "Epoch 14/40\n",
      "319/319 [==============================] - 1s 2ms/step - loss: 1.6240e-04 - mse: 1.6240e-04 - val_loss: 0.0325 - val_mse: 0.0325\n",
      "Epoch 15/40\n",
      "319/319 [==============================] - 1s 2ms/step - loss: 1.0877e-04 - mse: 1.0877e-04 - val_loss: 0.0330 - val_mse: 0.0330\n",
      "Epoch 16/40\n",
      "319/319 [==============================] - 1s 2ms/step - loss: 7.7259e-05 - mse: 7.7259e-05 - val_loss: 0.0331 - val_mse: 0.0331\n",
      "Epoch 17/40\n",
      "319/319 [==============================] - 1s 2ms/step - loss: 6.4614e-05 - mse: 6.4614e-05 - val_loss: 0.0331 - val_mse: 0.0331\n",
      "Epoch 18/40\n",
      "319/319 [==============================] - 1s 2ms/step - loss: 6.8500e-05 - mse: 6.8500e-05 - val_loss: 0.0333 - val_mse: 0.0333\n",
      "Epoch 19/40\n",
      "319/319 [==============================] - 1s 2ms/step - loss: 7.1503e-05 - mse: 7.1503e-05 - val_loss: 0.0333 - val_mse: 0.0333\n",
      "Epoch 20/40\n",
      "319/319 [==============================] - 1s 2ms/step - loss: 7.9007e-05 - mse: 7.9007e-05 - val_loss: 0.0327 - val_mse: 0.0327\n",
      "Epoch 21/40\n",
      "319/319 [==============================] - 1s 2ms/step - loss: 6.0000e-05 - mse: 6.0000e-05 - val_loss: 0.0326 - val_mse: 0.0326\n",
      "Epoch 22/40\n",
      "319/319 [==============================] - 1s 2ms/step - loss: 1.1196e-04 - mse: 1.1196e-04 - val_loss: 0.0328 - val_mse: 0.0328\n",
      "Epoch 23/40\n",
      "319/319 [==============================] - 1s 2ms/step - loss: 1.1121e-04 - mse: 1.1121e-04 - val_loss: 0.0352 - val_mse: 0.0352\n",
      "Epoch 24/40\n",
      "319/319 [==============================] - 1s 2ms/step - loss: 1.7817e-04 - mse: 1.7817e-04 - val_loss: 0.0336 - val_mse: 0.0336\n",
      "Epoch 25/40\n",
      "319/319 [==============================] - 1s 2ms/step - loss: 8.5533e-05 - mse: 8.5533e-05 - val_loss: 0.0363 - val_mse: 0.0363\n",
      "Epoch 26/40\n",
      "319/319 [==============================] - 1s 2ms/step - loss: 1.0789e-04 - mse: 1.0789e-04 - val_loss: 0.0346 - val_mse: 0.0346\n",
      "Epoch 27/40\n",
      "319/319 [==============================] - 1s 2ms/step - loss: 3.8168e-04 - mse: 3.8168e-04 - val_loss: 0.0340 - val_mse: 0.0340\n",
      "Epoch 28/40\n",
      "319/319 [==============================] - 1s 2ms/step - loss: 0.0346 - mse: 0.0346 - val_loss: 0.0414 - val_mse: 0.0414\n",
      "Epoch 29/40\n",
      "319/319 [==============================] - 1s 2ms/step - loss: 0.0174 - mse: 0.0174 - val_loss: 0.0350 - val_mse: 0.0350\n",
      "Epoch 30/40\n",
      "319/319 [==============================] - 1s 2ms/step - loss: 0.0073 - mse: 0.0073 - val_loss: 0.0291 - val_mse: 0.0291\n",
      "Epoch 31/40\n",
      "319/319 [==============================] - 1s 2ms/step - loss: 0.0020 - mse: 0.0020 - val_loss: 0.0327 - val_mse: 0.0327\n",
      "Epoch 32/40\n",
      "319/319 [==============================] - 1s 2ms/step - loss: 1.7931e-04 - mse: 1.7931e-04 - val_loss: 0.0331 - val_mse: 0.0331\n",
      "Epoch 33/40\n",
      "319/319 [==============================] - 1s 2ms/step - loss: 9.7899e-05 - mse: 9.7899e-05 - val_loss: 0.0333 - val_mse: 0.0333\n",
      "Epoch 34/40\n",
      "319/319 [==============================] - 1s 2ms/step - loss: 8.6087e-05 - mse: 8.6087e-05 - val_loss: 0.0330 - val_mse: 0.0330\n",
      "Epoch 35/40\n",
      "319/319 [==============================] - 1s 2ms/step - loss: 6.7118e-05 - mse: 6.7118e-05 - val_loss: 0.0331 - val_mse: 0.0331\n",
      "Epoch 36/40\n",
      "319/319 [==============================] - 1s 2ms/step - loss: 6.4724e-05 - mse: 6.4724e-05 - val_loss: 0.0332 - val_mse: 0.0332\n",
      "Epoch 37/40\n",
      "319/319 [==============================] - 1s 2ms/step - loss: 8.1406e-05 - mse: 8.1406e-05 - val_loss: 0.0330 - val_mse: 0.0330\n",
      "Epoch 38/40\n",
      "319/319 [==============================] - 1s 2ms/step - loss: 6.0985e-05 - mse: 6.0985e-05 - val_loss: 0.0337 - val_mse: 0.0337\n",
      "Epoch 39/40\n",
      "319/319 [==============================] - 1s 2ms/step - loss: 5.1629e-05 - mse: 5.1629e-05 - val_loss: 0.0343 - val_mse: 0.0343\n",
      "Epoch 40/40\n",
      "319/319 [==============================] - 1s 2ms/step - loss: 1.1325e-04 - mse: 1.1325e-04 - val_loss: 0.0348 - val_mse: 0.0348\n"
     ]
    },
    {
     "data": {
      "text/plain": [
       "<keras.callbacks.History at 0x1943fbd3b50>"
      ]
     },
     "execution_count": 42,
     "metadata": {},
     "output_type": "execute_result"
    }
   ],
   "source": [
    "model_class.fit(\n",
    "    X_train,  # Набор входных данных\n",
    "    y_train,  # Набор правильных ответов\n",
    "    validation_split=0.2,  # Этот параметр автоматически выделит часть обучающего набора на валидационные данные. В данном случа 20%\n",
    "    epochs=40,  # Процесс обучения завершится после 10 эпох\n",
    "    # Набор данных будет разбит на пакеты (батчи) по 8 элементов набора в каждом.\n",
    "    batch_size=2\n",
    ")\n"
   ]
  },
  {
   "cell_type": "code",
   "execution_count": 43,
   "metadata": {},
   "outputs": [
    {
     "name": "stdout",
     "output_type": "stream",
     "text": [
      "9/9 [==============================] - 0s 1ms/step\n"
     ]
    }
   ],
   "source": [
    "predict = model_class.predict(X_test)\n"
   ]
  },
  {
   "cell_type": "code",
   "execution_count": 44,
   "metadata": {},
   "outputs": [
    {
     "data": {
      "text/plain": [
       "0.04780101701653487"
      ]
     },
     "execution_count": 44,
     "metadata": {},
     "output_type": "execute_result"
    }
   ],
   "source": [
    "mean_squared_error(predict, y_test)\n"
   ]
  },
  {
   "cell_type": "code",
   "execution_count": 45,
   "metadata": {},
   "outputs": [
    {
     "name": "stdout",
     "output_type": "stream",
     "text": [
      "34/34 [==============================] - 0s 2ms/step\n",
      "Accuracy\n",
      "0.9802816901408451\n",
      "Confusion matrix\n",
      "[[342  16]\n",
      " [  5 702]]\n",
      "Precision, Recall, F\n",
      "               precision    recall  f1-score   support\n",
      "\n",
      "           0       0.99      0.96      0.97       358\n",
      "           1       0.98      0.99      0.99       707\n",
      "\n",
      "    accuracy                           0.98      1065\n",
      "   macro avg       0.98      0.97      0.98      1065\n",
      "weighted avg       0.98      0.98      0.98      1065\n",
      "\n"
     ]
    }
   ],
   "source": [
    "predictA = model_class.predict(features)\n",
    "print('Accuracy')\n",
    "print(accuracy_score(labels, predictA > 0.5))\n",
    "print('Confusion matrix')\n",
    "print(confusion_matrix(labels, predictA > 0.5))\n",
    "print('Precision, Recall, F\\n', classification_report(\n",
    "    labels, predictA > 0.5))\n"
   ]
  },
  {
   "cell_type": "code",
   "execution_count": 12,
   "metadata": {},
   "outputs": [
    {
     "name": "stdout",
     "output_type": "stream",
     "text": [
      "Accuracy\n",
      "0.9438202247191011\n",
      "Confusion matrix\n",
      "[[ 92   4]\n",
      " [ 11 160]]\n",
      "Precision, Recall, F\n",
      "               precision    recall  f1-score   support\n",
      "\n",
      "           0       0.89      0.96      0.92        96\n",
      "           1       0.98      0.94      0.96       171\n",
      "\n",
      "    accuracy                           0.94       267\n",
      "   macro avg       0.93      0.95      0.94       267\n",
      "weighted avg       0.95      0.94      0.94       267\n",
      "\n"
     ]
    }
   ],
   "source": [
    "print('Accuracy')\n",
    "print(accuracy_score(y_test, predict > 0.98))\n",
    "print('Confusion matrix')\n",
    "print(confusion_matrix(y_test, predict > 0.98))\n",
    "print('Precision, Recall, F\\n', classification_report(\n",
    "    y_test, predict > 0.98))\n"
   ]
  },
  {
   "cell_type": "code",
   "execution_count": 13,
   "metadata": {},
   "outputs": [
    {
     "data": {
      "text/plain": [
       "(92, 4, 8, 163)"
      ]
     },
     "execution_count": 13,
     "metadata": {},
     "output_type": "execute_result"
    }
   ],
   "source": [
    "tn, fp, fn, tp = confusion_matrix(y_test, predict > 0.9).ravel()\n",
    "(tn, fp, fn, tp)\n"
   ]
  },
  {
   "cell_type": "code",
   "execution_count": 14,
   "metadata": {},
   "outputs": [
    {
     "name": "stdout",
     "output_type": "stream",
     "text": [
      "1/1 [==============================] - 0s 43ms/step\n"
     ]
    },
    {
     "data": {
      "text/plain": [
       "array([[0.9099933]], dtype=float32)"
      ]
     },
     "execution_count": 14,
     "metadata": {},
     "output_type": "execute_result"
    }
   ],
   "source": [
    "model_class.predict(np.array([nlp('рекомендации, чтобы поддерживать внутреннюю').vector]))\n"
   ]
  },
  {
   "cell_type": "code",
   "execution_count": 15,
   "metadata": {},
   "outputs": [
    {
     "name": "stdout",
     "output_type": "stream",
     "text": [
      "1/1 [==============================] - 0s 42ms/step\n"
     ]
    },
    {
     "data": {
      "text/plain": [
       "array([[0.4815378]], dtype=float32)"
      ]
     },
     "execution_count": 15,
     "metadata": {},
     "output_type": "execute_result"
    }
   ],
   "source": [
    "model_class.predict(\n",
    "    np.array([nlp('чтобы поддерживать внутреннюю').vector]))\n"
   ]
  },
  {
   "cell_type": "code",
   "execution_count": 16,
   "metadata": {},
   "outputs": [
    {
     "name": "stdout",
     "output_type": "stream",
     "text": [
      "1/1 [==============================] - 0s 42ms/step\n"
     ]
    },
    {
     "data": {
      "text/plain": [
       "array([[0.99752]], dtype=float32)"
      ]
     },
     "execution_count": 16,
     "metadata": {},
     "output_type": "execute_result"
    }
   ],
   "source": [
    "model_class.predict(\n",
    "    np.array([nlp('поддерживать внутреннюю структуру').vector]))\n"
   ]
  },
  {
   "cell_type": "code",
   "execution_count": 18,
   "metadata": {},
   "outputs": [],
   "source": [
    "model_class.save('../../PipeLines/Classifications/checker_is_discriptor_spacy_vectorize.h5')\n"
   ]
  },
  {
   "cell_type": "code",
   "execution_count": null,
   "metadata": {},
   "outputs": [],
   "source": [
    "                                      "
   ]
  }
 ],
 "metadata": {
  "kernelspec": {
   "display_name": "ITS_project",
   "language": "python",
   "name": "python3"
  },
  "language_info": {
   "codemirror_mode": {
    "name": "ipython",
    "version": 3
   },
   "file_extension": ".py",
   "mimetype": "text/x-python",
   "name": "python",
   "nbconvert_exporter": "python",
   "pygments_lexer": "ipython3",
   "version": "3.9.2"
  },
  "orig_nbformat": 4
 },
 "nbformat": 4,
 "nbformat_minor": 2
}
