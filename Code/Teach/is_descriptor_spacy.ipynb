{
 "cells": [
  {
   "cell_type": "code",
   "execution_count": 1,
   "metadata": {},
   "outputs": [],
   "source": [
    "import numpy as np\n",
    "import pandas as pd\n",
    "import spacy\n",
    "nlp = spacy.load(\"ru_core_news_sm\")\n",
    "import tensorflow as tf\n",
    "from sklearn.model_selection import cross_val_score\n",
    "from sklearn.metrics import accuracy_score, confusion_matrix, classification_report, roc_curve, RocCurveDisplay, auc, mean_squared_error\n",
    "from sklearn.model_selection import train_test_split\n",
    "from json import load\n"
   ]
  },
  {
   "cell_type": "code",
   "execution_count": 2,
   "metadata": {},
   "outputs": [],
   "source": [
    "not_discriptors = list()\n",
    "with open('../../Data/Words/word_pairs_not_disc.txt', 'r', encoding='utf-8') as txt:\n",
    "    for i in txt:\n",
    "        not_discriptors.append(i.replace('\\n', ''))\n",
    "\n",
    "with open('../../Data/Events/type_of_events.json', 'r', encoding='utf-8') as js:\n",
    "    events = load(js)\n",
    "\n",
    "with open('../../Data/Datasets/data.json', 'r', encoding='utf-8') as js:\n",
    "    discriptors = load(js)\n"
   ]
  },
  {
   "cell_type": "code",
   "execution_count": 3,
   "metadata": {},
   "outputs": [],
   "source": [
    "dict_of_disc = {'expession': [], 'is_discr': []}\n",
    "for subject in discriptors.values():\n",
    "    for d in sum(subject.values(), []):\n",
    "        dict_of_disc['expession'].append(nlp(d).vector)\n",
    "        dict_of_disc['is_discr'].append(True)\n",
    "\n",
    "for subject in not_discriptors:\n",
    "    dict_of_disc['expession'].append(nlp(subject).vector)\n",
    "    dict_of_disc['is_discr'].append(False)\n",
    "\n"
   ]
  },
  {
   "cell_type": "code",
   "execution_count": 4,
   "metadata": {},
   "outputs": [],
   "source": [
    "features = np.array(dict_of_disc['expession'])\n",
    "labels = np.array(list(map(int, dict_of_disc['is_discr'])))\n"
   ]
  },
  {
   "cell_type": "code",
   "execution_count": 5,
   "metadata": {},
   "outputs": [],
   "source": [
    "X_train, X_test, y_train, y_test = train_test_split(features, labels, random_state=71)\n"
   ]
  },
  {
   "cell_type": "code",
   "execution_count": 6,
   "metadata": {},
   "outputs": [
    {
     "name": "stdout",
     "output_type": "stream",
     "text": [
      "Model: \"sequential\"\n",
      "_________________________________________________________________\n",
      " Layer (type)                Output Shape              Param #   \n",
      "=================================================================\n",
      " input (Dense)               (None, 144)               13968     \n",
      "                                                                 \n",
      " hidden_layer_2 (Dense)      (None, 192)               27840     \n",
      "                                                                 \n",
      " hidden_layer_3 (Dense)      (None, 288)               55584     \n",
      "                                                                 \n",
      " hidden_layer_4 (Dense)      (None, 192)               55488     \n",
      "                                                                 \n",
      " hidden_layer_5 (Dense)      (None, 144)               27792     \n",
      "                                                                 \n",
      " hidden_layer_6 (Dense)      (None, 48)                6960      \n",
      "                                                                 \n",
      " output (Dense)              (None, 1)                 49        \n",
      "                                                                 \n",
      "=================================================================\n",
      "Total params: 187,681\n",
      "Trainable params: 187,681\n",
      "Non-trainable params: 0\n",
      "_________________________________________________________________\n"
     ]
    }
   ],
   "source": [
    "import tensorflow as tf\n",
    "\n",
    "model_class = tf.keras.models.Sequential()\n",
    "model_class.add(tf.keras.layers.Dense(int(X_train[0].shape[0]*1.5), activation='softmax',\n",
    "                                      input_shape=(X_train[0].shape[0],), name='input'))\n",
    "model_class.add(tf.keras.layers.Dense(\n",
    "    int(X_train[0].shape[0]*2), activation='relu', name='hidden_layer_2'))\n",
    "model_class.add(tf.keras.layers.Dense(\n",
    "    int(X_train[0].shape[0]*3), activation='relu', name='hidden_layer_3'))\n",
    "model_class.add(tf.keras.layers.Dense(\n",
    "    int(X_train[0].shape[0]*2), activation='relu', name='hidden_layer_4'))\n",
    "model_class.add(tf.keras.layers.Dense(\n",
    "    int(X_train[0].shape[0]*1.5), activation='relu', name='hidden_layer_5'))\n",
    "model_class.add(tf.keras.layers.Dense(\n",
    "    int(X_train[0].shape[0]*0.5), activation='relu', name='hidden_layer_6'))\n",
    "model_class.add(tf.keras.layers.Dense(1, name='output'))\n",
    "model_class.summary()\n"
   ]
  },
  {
   "cell_type": "code",
   "execution_count": 7,
   "metadata": {},
   "outputs": [],
   "source": [
    "model_class.compile(\n",
    "    loss='mse',  # Функция потерь\n",
    "    optimizer='Adam',  # Оптимизатор\n",
    "    metrics=[  # Метрики\n",
    "        'mse',  # Если у объекта назначено имя, то можно вызвать объект с его помощью\n",
    "        # tf.keras.metrics.Precision()\n",
    "    ]\n",
    ")\n"
   ]
  },
  {
   "cell_type": "code",
   "execution_count": 8,
   "metadata": {},
   "outputs": [
    {
     "name": "stdout",
     "output_type": "stream",
     "text": [
      "Epoch 1/40\n",
      "239/239 [==============================] - 5s 8ms/step - loss: 0.1617 - mse: 0.1617 - val_loss: 0.0778 - val_mse: 0.0778\n",
      "Epoch 2/40\n",
      "239/239 [==============================] - 1s 6ms/step - loss: 0.0715 - mse: 0.0715 - val_loss: 0.0689 - val_mse: 0.0689\n",
      "Epoch 3/40\n",
      "239/239 [==============================] - 1s 6ms/step - loss: 0.0561 - mse: 0.0561 - val_loss: 0.0495 - val_mse: 0.0495\n",
      "Epoch 4/40\n",
      "239/239 [==============================] - 1s 6ms/step - loss: 0.0442 - mse: 0.0442 - val_loss: 0.0518 - val_mse: 0.0518\n",
      "Epoch 5/40\n",
      "239/239 [==============================] - 1s 6ms/step - loss: 0.0292 - mse: 0.0292 - val_loss: 0.0760 - val_mse: 0.0760\n",
      "Epoch 6/40\n",
      "239/239 [==============================] - 1s 6ms/step - loss: 0.0191 - mse: 0.0191 - val_loss: 0.0648 - val_mse: 0.0648\n",
      "Epoch 7/40\n",
      "239/239 [==============================] - 1s 6ms/step - loss: 0.0246 - mse: 0.0246 - val_loss: 0.0421 - val_mse: 0.0421\n",
      "Epoch 8/40\n",
      "239/239 [==============================] - 1s 6ms/step - loss: 0.0125 - mse: 0.0125 - val_loss: 0.0581 - val_mse: 0.0581\n",
      "Epoch 9/40\n",
      "239/239 [==============================] - 1s 6ms/step - loss: 0.0152 - mse: 0.0152 - val_loss: 0.0442 - val_mse: 0.0442\n",
      "Epoch 10/40\n",
      "239/239 [==============================] - 1s 6ms/step - loss: 0.0098 - mse: 0.0098 - val_loss: 0.0565 - val_mse: 0.0565\n",
      "Epoch 11/40\n",
      "239/239 [==============================] - 1s 6ms/step - loss: 0.0051 - mse: 0.0051 - val_loss: 0.0553 - val_mse: 0.0553\n",
      "Epoch 12/40\n",
      "239/239 [==============================] - 1s 6ms/step - loss: 0.0026 - mse: 0.0026 - val_loss: 0.0558 - val_mse: 0.0558\n",
      "Epoch 13/40\n",
      "239/239 [==============================] - 1s 6ms/step - loss: 0.0023 - mse: 0.0023 - val_loss: 0.0554 - val_mse: 0.0554\n",
      "Epoch 14/40\n",
      "239/239 [==============================] - 1s 6ms/step - loss: 0.0023 - mse: 0.0023 - val_loss: 0.0552 - val_mse: 0.0552\n",
      "Epoch 15/40\n",
      "239/239 [==============================] - 1s 6ms/step - loss: 0.0022 - mse: 0.0022 - val_loss: 0.0550 - val_mse: 0.0550\n",
      "Epoch 16/40\n",
      "239/239 [==============================] - 1s 6ms/step - loss: 0.0022 - mse: 0.0022 - val_loss: 0.0552 - val_mse: 0.0552\n",
      "Epoch 17/40\n",
      "239/239 [==============================] - 1s 6ms/step - loss: 0.0022 - mse: 0.0022 - val_loss: 0.0552 - val_mse: 0.0552\n",
      "Epoch 18/40\n",
      "239/239 [==============================] - 1s 6ms/step - loss: 0.0022 - mse: 0.0022 - val_loss: 0.0551 - val_mse: 0.0551\n",
      "Epoch 19/40\n",
      "239/239 [==============================] - 1s 6ms/step - loss: 0.0021 - mse: 0.0021 - val_loss: 0.0555 - val_mse: 0.0555\n",
      "Epoch 20/40\n",
      "239/239 [==============================] - 1s 6ms/step - loss: 0.0021 - mse: 0.0021 - val_loss: 0.0562 - val_mse: 0.0562\n",
      "Epoch 21/40\n",
      "239/239 [==============================] - 1s 6ms/step - loss: 0.0022 - mse: 0.0022 - val_loss: 0.0551 - val_mse: 0.0551\n",
      "Epoch 22/40\n",
      "239/239 [==============================] - 1s 6ms/step - loss: 0.0021 - mse: 0.0021 - val_loss: 0.0547 - val_mse: 0.0547\n",
      "Epoch 23/40\n",
      "239/239 [==============================] - 1s 6ms/step - loss: 0.0020 - mse: 0.0020 - val_loss: 0.0550 - val_mse: 0.0550\n",
      "Epoch 24/40\n",
      "239/239 [==============================] - 1s 6ms/step - loss: 0.0020 - mse: 0.0020 - val_loss: 0.0578 - val_mse: 0.0578\n",
      "Epoch 25/40\n",
      "239/239 [==============================] - 1s 6ms/step - loss: 0.0024 - mse: 0.0024 - val_loss: 0.0581 - val_mse: 0.0581\n",
      "Epoch 26/40\n",
      "239/239 [==============================] - 1s 6ms/step - loss: 0.0021 - mse: 0.0021 - val_loss: 0.0564 - val_mse: 0.0564\n",
      "Epoch 27/40\n",
      "239/239 [==============================] - 1s 6ms/step - loss: 0.0019 - mse: 0.0019 - val_loss: 0.0547 - val_mse: 0.0547\n",
      "Epoch 28/40\n",
      "239/239 [==============================] - 1s 6ms/step - loss: 1.6338e-04 - mse: 1.6338e-04 - val_loss: 0.0552 - val_mse: 0.0552\n",
      "Epoch 29/40\n",
      "239/239 [==============================] - 1s 6ms/step - loss: 8.7926e-04 - mse: 8.7926e-04 - val_loss: 0.0526 - val_mse: 0.0526\n",
      "Epoch 30/40\n",
      "239/239 [==============================] - 1s 6ms/step - loss: 6.9611e-05 - mse: 6.9611e-05 - val_loss: 0.0554 - val_mse: 0.0554\n",
      "Epoch 31/40\n",
      "239/239 [==============================] - 1s 6ms/step - loss: 6.8407e-06 - mse: 6.8407e-06 - val_loss: 0.0549 - val_mse: 0.0549\n",
      "Epoch 32/40\n",
      "239/239 [==============================] - 1s 6ms/step - loss: 4.8713e-06 - mse: 4.8713e-06 - val_loss: 0.0553 - val_mse: 0.0553\n",
      "Epoch 33/40\n",
      "239/239 [==============================] - 1s 6ms/step - loss: 3.0019e-06 - mse: 3.0019e-06 - val_loss: 0.0550 - val_mse: 0.0550\n",
      "Epoch 34/40\n",
      "239/239 [==============================] - 1s 6ms/step - loss: 2.7028e-06 - mse: 2.7028e-06 - val_loss: 0.0551 - val_mse: 0.0551\n",
      "Epoch 35/40\n",
      "239/239 [==============================] - 1s 6ms/step - loss: 2.9934e-06 - mse: 2.9934e-06 - val_loss: 0.0551 - val_mse: 0.0551\n",
      "Epoch 36/40\n",
      "239/239 [==============================] - 1s 6ms/step - loss: 2.0766e-06 - mse: 2.0766e-06 - val_loss: 0.0550 - val_mse: 0.0550\n",
      "Epoch 37/40\n",
      "239/239 [==============================] - 1s 6ms/step - loss: 2.3138e-06 - mse: 2.3138e-06 - val_loss: 0.0548 - val_mse: 0.0548\n",
      "Epoch 38/40\n",
      "239/239 [==============================] - 1s 6ms/step - loss: 2.2888e-06 - mse: 2.2888e-06 - val_loss: 0.0550 - val_mse: 0.0550\n",
      "Epoch 39/40\n",
      "239/239 [==============================] - 1s 6ms/step - loss: 2.1530e-06 - mse: 2.1530e-06 - val_loss: 0.0550 - val_mse: 0.0550\n",
      "Epoch 40/40\n",
      "239/239 [==============================] - 1s 6ms/step - loss: 4.2578e-06 - mse: 4.2578e-06 - val_loss: 0.0548 - val_mse: 0.0548\n"
     ]
    },
    {
     "data": {
      "text/plain": [
       "<keras.callbacks.History at 0x1493dca1ca0>"
      ]
     },
     "execution_count": 8,
     "metadata": {},
     "output_type": "execute_result"
    }
   ],
   "source": [
    "model_class.fit(\n",
    "    X_train,  # Набор входных данных\n",
    "    y_train,  # Набор правильных ответов\n",
    "    validation_split=0.4,  # Этот параметр автоматически выделит часть обучающего набора на валидационные данные. В данном случа 20%\n",
    "    epochs=40,  # Процесс обучения завершится после 10 эпох\n",
    "    # Набор данных будет разбит на пакеты (батчи) по 8 элементов набора в каждом.\n",
    "    batch_size=2\n",
    ")\n"
   ]
  },
  {
   "cell_type": "code",
   "execution_count": 9,
   "metadata": {},
   "outputs": [
    {
     "name": "stdout",
     "output_type": "stream",
     "text": [
      "9/9 [==============================] - 0s 4ms/step\n"
     ]
    }
   ],
   "source": [
    "predict = model_class.predict(X_test)\n"
   ]
  },
  {
   "cell_type": "code",
   "execution_count": 10,
   "metadata": {},
   "outputs": [
    {
     "data": {
      "text/plain": [
       "0.04082511977680413"
      ]
     },
     "execution_count": 10,
     "metadata": {},
     "output_type": "execute_result"
    }
   ],
   "source": [
    "mean_squared_error(predict, y_test)\n"
   ]
  },
  {
   "cell_type": "code",
   "execution_count": 11,
   "metadata": {},
   "outputs": [
    {
     "name": "stdout",
     "output_type": "stream",
     "text": [
      "34/34 [==============================] - 0s 4ms/step\n",
      "Accuracy\n",
      "0.9690140845070423\n",
      "Confusion matrix\n",
      "[[338  20]\n",
      " [ 13 694]]\n",
      "Precision, Recall, F\n",
      "               precision    recall  f1-score   support\n",
      "\n",
      "           0       0.96      0.94      0.95       358\n",
      "           1       0.97      0.98      0.98       707\n",
      "\n",
      "    accuracy                           0.97      1065\n",
      "   macro avg       0.97      0.96      0.97      1065\n",
      "weighted avg       0.97      0.97      0.97      1065\n",
      "\n"
     ]
    }
   ],
   "source": [
    "predictA = model_class.predict(features)\n",
    "print('Accuracy')\n",
    "print(accuracy_score(labels, predictA > 0.5))\n",
    "print('Confusion matrix')\n",
    "print(confusion_matrix(labels, predictA > 0.5))\n",
    "print('Precision, Recall, F\\n', classification_report(\n",
    "    labels, predictA > 0.5))\n"
   ]
  },
  {
   "cell_type": "code",
   "execution_count": 12,
   "metadata": {},
   "outputs": [
    {
     "name": "stdout",
     "output_type": "stream",
     "text": [
      "Accuracy\n",
      "0.9438202247191011\n",
      "Confusion matrix\n",
      "[[ 92   4]\n",
      " [ 11 160]]\n",
      "Precision, Recall, F\n",
      "               precision    recall  f1-score   support\n",
      "\n",
      "           0       0.89      0.96      0.92        96\n",
      "           1       0.98      0.94      0.96       171\n",
      "\n",
      "    accuracy                           0.94       267\n",
      "   macro avg       0.93      0.95      0.94       267\n",
      "weighted avg       0.95      0.94      0.94       267\n",
      "\n"
     ]
    }
   ],
   "source": [
    "print('Accuracy')\n",
    "print(accuracy_score(y_test, predict > 0.98))\n",
    "print('Confusion matrix')\n",
    "print(confusion_matrix(y_test, predict > 0.98))\n",
    "print('Precision, Recall, F\\n', classification_report(\n",
    "    y_test, predict > 0.98))\n"
   ]
  },
  {
   "cell_type": "code",
   "execution_count": 13,
   "metadata": {},
   "outputs": [
    {
     "data": {
      "text/plain": [
       "(92, 4, 8, 163)"
      ]
     },
     "execution_count": 13,
     "metadata": {},
     "output_type": "execute_result"
    }
   ],
   "source": [
    "tn, fp, fn, tp = confusion_matrix(y_test, predict > 0.9).ravel()\n",
    "(tn, fp, fn, tp)\n"
   ]
  },
  {
   "cell_type": "code",
   "execution_count": 14,
   "metadata": {},
   "outputs": [
    {
     "name": "stdout",
     "output_type": "stream",
     "text": [
      "1/1 [==============================] - 0s 43ms/step\n"
     ]
    },
    {
     "data": {
      "text/plain": [
       "array([[0.9099933]], dtype=float32)"
      ]
     },
     "execution_count": 14,
     "metadata": {},
     "output_type": "execute_result"
    }
   ],
   "source": [
    "model_class.predict(np.array([nlp('рекомендации, чтобы поддерживать внутреннюю').vector]))\n"
   ]
  },
  {
   "cell_type": "code",
   "execution_count": 15,
   "metadata": {},
   "outputs": [
    {
     "name": "stdout",
     "output_type": "stream",
     "text": [
      "1/1 [==============================] - 0s 42ms/step\n"
     ]
    },
    {
     "data": {
      "text/plain": [
       "array([[0.4815378]], dtype=float32)"
      ]
     },
     "execution_count": 15,
     "metadata": {},
     "output_type": "execute_result"
    }
   ],
   "source": [
    "model_class.predict(\n",
    "    np.array([nlp('чтобы поддерживать внутреннюю').vector]))\n"
   ]
  },
  {
   "cell_type": "code",
   "execution_count": 16,
   "metadata": {},
   "outputs": [
    {
     "name": "stdout",
     "output_type": "stream",
     "text": [
      "1/1 [==============================] - 0s 42ms/step\n"
     ]
    },
    {
     "data": {
      "text/plain": [
       "array([[0.99752]], dtype=float32)"
      ]
     },
     "execution_count": 16,
     "metadata": {},
     "output_type": "execute_result"
    }
   ],
   "source": [
    "model_class.predict(\n",
    "    np.array([nlp('поддерживать внутреннюю структуру').vector]))\n"
   ]
  },
  {
   "cell_type": "code",
   "execution_count": 18,
   "metadata": {},
   "outputs": [],
   "source": [
    "model_class.save('../../PipeLines/Classifications/checker_is_discriptor_spacy_vectorize.h5')\n"
   ]
  },
  {
   "cell_type": "code",
   "execution_count": null,
   "metadata": {},
   "outputs": [],
   "source": [
    "                                      "
   ]
  }
 ],
 "metadata": {
  "kernelspec": {
   "display_name": "ITS_project",
   "language": "python",
   "name": "python3"
  },
  "language_info": {
   "codemirror_mode": {
    "name": "ipython",
    "version": 3
   },
   "file_extension": ".py",
   "mimetype": "text/x-python",
   "name": "python",
   "nbconvert_exporter": "python",
   "pygments_lexer": "ipython3",
   "version": "3.9.2"
  },
  "orig_nbformat": 4
 },
 "nbformat": 4,
 "nbformat_minor": 2
}
