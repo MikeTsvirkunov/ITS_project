{
 "cells": [
  {
   "cell_type": "code",
   "execution_count": 28,
   "metadata": {},
   "outputs": [],
   "source": [
    "import numpy as np\n",
    "import pandas as pd\n",
    "import spacy\n",
    "nlp = spacy.load(\"ru_core_news_sm\")\n",
    "import tensorflow as tf\n",
    "from sklearn.model_selection import cross_val_score\n",
    "from sklearn.metrics import accuracy_score, confusion_matrix, classification_report, roc_curve, RocCurveDisplay, auc, mean_squared_error\n",
    "from sklearn.model_selection import train_test_split\n",
    "from json import load\n"
   ]
  },
  {
   "cell_type": "code",
   "execution_count": 29,
   "metadata": {},
   "outputs": [],
   "source": [
    "not_discriptors = list()\n",
    "with open('../../Data/Words/word_pairs_not_disc.txt', 'r', encoding='utf-8') as txt:\n",
    "    for i in txt:\n",
    "        not_discriptors.append(i.replace('\\n', ''))\n",
    "\n",
    "with open('../../Data/Events/type_of_events.json', 'r', encoding='utf-8') as js:\n",
    "    events = load(js)\n",
    "\n",
    "with open('../../Data/Datasets/data.json', 'r', encoding='utf-8') as js:\n",
    "    discriptors = load(js)\n"
   ]
  },
  {
   "cell_type": "code",
   "execution_count": 30,
   "metadata": {},
   "outputs": [],
   "source": [
    "dict_of_disc = {'expession': [], 'is_discr': []}\n",
    "for subject in discriptors.values():\n",
    "    for d in sum(subject.values(), []):\n",
    "        dict_of_disc['expession'].append(nlp(d).vector)\n",
    "        dict_of_disc['is_discr'].append(True)\n",
    "\n",
    "for subject in not_discriptors:\n",
    "    dict_of_disc['expession'].append(nlp(subject).vector)\n",
    "    dict_of_disc['is_discr'].append(False)\n",
    "\n"
   ]
  },
  {
   "cell_type": "code",
   "execution_count": 31,
   "metadata": {},
   "outputs": [],
   "source": [
    "features = np.array(dict_of_disc['expession'])\n",
    "labels = np.array(list(map(int, dict_of_disc['is_discr'])))\n"
   ]
  },
  {
   "cell_type": "code",
   "execution_count": 32,
   "metadata": {},
   "outputs": [],
   "source": [
    "X_train, X_test, y_train, y_test = train_test_split(features, labels, random_state=71)\n"
   ]
  },
  {
   "cell_type": "code",
   "execution_count": 33,
   "metadata": {},
   "outputs": [
    {
     "name": "stdout",
     "output_type": "stream",
     "text": [
      "Model: \"sequential_4\"\n",
      "_________________________________________________________________\n",
      " Layer (type)                Output Shape              Param #   \n",
      "=================================================================\n",
      " input (Dense)               (None, 144)               13968     \n",
      "                                                                 \n",
      " hidden_layer_2 (Dense)      (None, 192)               27840     \n",
      "                                                                 \n",
      " hidden_layer_3 (Dense)      (None, 288)               55584     \n",
      "                                                                 \n",
      " hidden_layer_4 (Dense)      (None, 192)               55488     \n",
      "                                                                 \n",
      " hidden_layer_5 (Dense)      (None, 144)               27792     \n",
      "                                                                 \n",
      " hidden_layer_6 (Dense)      (None, 48)                6960      \n",
      "                                                                 \n",
      " output (Dense)              (None, 1)                 49        \n",
      "                                                                 \n",
      "=================================================================\n",
      "Total params: 187,681\n",
      "Trainable params: 187,681\n",
      "Non-trainable params: 0\n",
      "_________________________________________________________________\n"
     ]
    }
   ],
   "source": [
    "import tensorflow as tf\n",
    "\n",
    "model_class = tf.keras.models.Sequential()\n",
    "model_class.add(tf.keras.layers.Dense(int(X_train[0].shape[0]*1.5), activation='softmax',\n",
    "                                      input_shape=(X_train[0].shape[0],), name='input'))\n",
    "model_class.add(tf.keras.layers.Dense(\n",
    "    int(X_train[0].shape[0]*2), activation='relu', name='hidden_layer_2'))\n",
    "model_class.add(tf.keras.layers.Dense(\n",
    "    int(X_train[0].shape[0]*3), activation='relu', name='hidden_layer_3'))\n",
    "model_class.add(tf.keras.layers.Dense(\n",
    "    int(X_train[0].shape[0]*2), activation='relu', name='hidden_layer_4'))\n",
    "model_class.add(tf.keras.layers.Dense(\n",
    "    int(X_train[0].shape[0]*1.5), activation='relu', name='hidden_layer_5'))\n",
    "model_class.add(tf.keras.layers.Dense(\n",
    "    int(X_train[0].shape[0]*0.5), activation='relu', name='hidden_layer_6'))\n",
    "model_class.add(tf.keras.layers.Dense(1, name='output'))\n",
    "model_class.summary()\n"
   ]
  },
  {
   "cell_type": "code",
   "execution_count": 34,
   "metadata": {},
   "outputs": [],
   "source": [
    "model_class.compile(\n",
    "    loss='mse',  # Функция потерь\n",
    "    optimizer='Adam',  # Оптимизатор\n",
    "    metrics=[  # Метрики\n",
    "        'mse',  # Если у объекта назначено имя, то можно вызвать объект с его помощью\n",
    "        # tf.keras.metrics.Precision()\n",
    "    ]\n",
    ")\n"
   ]
  },
  {
   "cell_type": "code",
   "execution_count": 35,
   "metadata": {},
   "outputs": [
    {
     "name": "stdout",
     "output_type": "stream",
     "text": [
      "Epoch 1/40\n",
      "239/239 [==============================] - 2s 3ms/step - loss: 0.1661 - mse: 0.1661 - val_loss: 0.0712 - val_mse: 0.0712\n",
      "Epoch 2/40\n",
      "239/239 [==============================] - 1s 3ms/step - loss: 0.0758 - mse: 0.0758 - val_loss: 0.0702 - val_mse: 0.0702\n",
      "Epoch 3/40\n",
      "239/239 [==============================] - 1s 3ms/step - loss: 0.0491 - mse: 0.0491 - val_loss: 0.0846 - val_mse: 0.0846\n",
      "Epoch 4/40\n",
      "239/239 [==============================] - 1s 3ms/step - loss: 0.0336 - mse: 0.0336 - val_loss: 0.0498 - val_mse: 0.0498\n",
      "Epoch 5/40\n",
      "239/239 [==============================] - 1s 3ms/step - loss: 0.0186 - mse: 0.0186 - val_loss: 0.0487 - val_mse: 0.0487\n",
      "Epoch 6/40\n",
      "239/239 [==============================] - 1s 3ms/step - loss: 0.0183 - mse: 0.0183 - val_loss: 0.0436 - val_mse: 0.0436\n",
      "Epoch 7/40\n",
      "239/239 [==============================] - 1s 3ms/step - loss: 0.0088 - mse: 0.0088 - val_loss: 0.0415 - val_mse: 0.0415\n",
      "Epoch 8/40\n",
      "239/239 [==============================] - 1s 3ms/step - loss: 0.0042 - mse: 0.0042 - val_loss: 0.1071 - val_mse: 0.1071\n",
      "Epoch 9/40\n",
      "239/239 [==============================] - 1s 3ms/step - loss: 0.0240 - mse: 0.0240 - val_loss: 0.0487 - val_mse: 0.0487\n",
      "Epoch 10/40\n",
      "239/239 [==============================] - 1s 3ms/step - loss: 0.0108 - mse: 0.0108 - val_loss: 0.0552 - val_mse: 0.0552\n",
      "Epoch 11/40\n",
      "239/239 [==============================] - 1s 3ms/step - loss: 0.0034 - mse: 0.0034 - val_loss: 0.0527 - val_mse: 0.0527\n",
      "Epoch 12/40\n",
      "239/239 [==============================] - 1s 3ms/step - loss: 0.0096 - mse: 0.0096 - val_loss: 0.0500 - val_mse: 0.0500\n",
      "Epoch 13/40\n",
      "239/239 [==============================] - 1s 3ms/step - loss: 0.0027 - mse: 0.0027 - val_loss: 0.0519 - val_mse: 0.0519\n",
      "Epoch 14/40\n",
      "239/239 [==============================] - 1s 3ms/step - loss: 0.0022 - mse: 0.0022 - val_loss: 0.0522 - val_mse: 0.0522\n",
      "Epoch 15/40\n",
      "239/239 [==============================] - 1s 3ms/step - loss: 0.0022 - mse: 0.0022 - val_loss: 0.0527 - val_mse: 0.0527\n",
      "Epoch 16/40\n",
      "239/239 [==============================] - 1s 3ms/step - loss: 0.0022 - mse: 0.0022 - val_loss: 0.0533 - val_mse: 0.0533\n",
      "Epoch 17/40\n",
      "239/239 [==============================] - 1s 3ms/step - loss: 0.0022 - mse: 0.0022 - val_loss: 0.0535 - val_mse: 0.0535\n",
      "Epoch 18/40\n",
      "239/239 [==============================] - 1s 3ms/step - loss: 0.0022 - mse: 0.0022 - val_loss: 0.0535 - val_mse: 0.0535\n",
      "Epoch 19/40\n",
      "239/239 [==============================] - 1s 3ms/step - loss: 0.0022 - mse: 0.0022 - val_loss: 0.0543 - val_mse: 0.0543\n",
      "Epoch 20/40\n",
      "239/239 [==============================] - 1s 3ms/step - loss: 0.0022 - mse: 0.0022 - val_loss: 0.0545 - val_mse: 0.0545\n",
      "Epoch 21/40\n",
      "239/239 [==============================] - 1s 3ms/step - loss: 0.0022 - mse: 0.0022 - val_loss: 0.0541 - val_mse: 0.0541\n",
      "Epoch 22/40\n",
      "239/239 [==============================] - 1s 3ms/step - loss: 0.0022 - mse: 0.0022 - val_loss: 0.0546 - val_mse: 0.0546\n",
      "Epoch 23/40\n",
      "239/239 [==============================] - 1s 3ms/step - loss: 0.0022 - mse: 0.0022 - val_loss: 0.0543 - val_mse: 0.0543\n",
      "Epoch 24/40\n",
      "239/239 [==============================] - 1s 3ms/step - loss: 0.0022 - mse: 0.0022 - val_loss: 0.0553 - val_mse: 0.0553\n",
      "Epoch 25/40\n",
      "239/239 [==============================] - 1s 3ms/step - loss: 0.0023 - mse: 0.0023 - val_loss: 0.0546 - val_mse: 0.0546\n",
      "Epoch 26/40\n",
      "239/239 [==============================] - 1s 3ms/step - loss: 0.0023 - mse: 0.0023 - val_loss: 0.0536 - val_mse: 0.0536\n",
      "Epoch 27/40\n",
      "239/239 [==============================] - 1s 3ms/step - loss: 0.0022 - mse: 0.0022 - val_loss: 0.0532 - val_mse: 0.0532\n",
      "Epoch 28/40\n",
      "239/239 [==============================] - 1s 3ms/step - loss: 0.0022 - mse: 0.0022 - val_loss: 0.0543 - val_mse: 0.0543\n",
      "Epoch 29/40\n",
      "239/239 [==============================] - 1s 3ms/step - loss: 0.0022 - mse: 0.0022 - val_loss: 0.0539 - val_mse: 0.0539\n",
      "Epoch 30/40\n",
      "239/239 [==============================] - 1s 3ms/step - loss: 0.0022 - mse: 0.0022 - val_loss: 0.0538 - val_mse: 0.0538\n",
      "Epoch 31/40\n",
      "239/239 [==============================] - 1s 3ms/step - loss: 0.0022 - mse: 0.0022 - val_loss: 0.0529 - val_mse: 0.0529\n",
      "Epoch 32/40\n",
      "239/239 [==============================] - 1s 3ms/step - loss: 0.0022 - mse: 0.0022 - val_loss: 0.0511 - val_mse: 0.0511\n",
      "Epoch 33/40\n",
      "239/239 [==============================] - 1s 3ms/step - loss: 0.0021 - mse: 0.0021 - val_loss: 0.0502 - val_mse: 0.0502\n",
      "Epoch 34/40\n",
      "239/239 [==============================] - 1s 3ms/step - loss: 0.0023 - mse: 0.0023 - val_loss: 0.0631 - val_mse: 0.0631\n",
      "Epoch 35/40\n",
      "239/239 [==============================] - 1s 3ms/step - loss: 0.0188 - mse: 0.0188 - val_loss: 0.0535 - val_mse: 0.0535\n",
      "Epoch 36/40\n",
      "239/239 [==============================] - 1s 3ms/step - loss: 0.0337 - mse: 0.0337 - val_loss: 0.0549 - val_mse: 0.0549\n",
      "Epoch 37/40\n",
      "239/239 [==============================] - 1s 3ms/step - loss: 0.0214 - mse: 0.0214 - val_loss: 0.0534 - val_mse: 0.0534\n",
      "Epoch 38/40\n",
      "239/239 [==============================] - 1s 3ms/step - loss: 0.0033 - mse: 0.0033 - val_loss: 0.0556 - val_mse: 0.0556\n",
      "Epoch 39/40\n",
      "239/239 [==============================] - 1s 3ms/step - loss: 0.0029 - mse: 0.0029 - val_loss: 0.0617 - val_mse: 0.0617\n",
      "Epoch 40/40\n",
      "239/239 [==============================] - 1s 3ms/step - loss: 0.0012 - mse: 0.0012 - val_loss: 0.0612 - val_mse: 0.0612\n"
     ]
    },
    {
     "data": {
      "text/plain": [
       "<keras.callbacks.History at 0x1ce98554070>"
      ]
     },
     "execution_count": 35,
     "metadata": {},
     "output_type": "execute_result"
    }
   ],
   "source": [
    "model_class.fit(\n",
    "    X_train,  # Набор входных данных\n",
    "    y_train,  # Набор правильных ответов\n",
    "    validation_split=0.4,  # Этот параметр автоматически выделит часть обучающего набора на валидационные данные. В данном случа 20%\n",
    "    epochs=40,  # Процесс обучения завершится после 10 эпох\n",
    "    # Набор данных будет разбит на пакеты (батчи) по 8 элементов набора в каждом.\n",
    "    batch_size=2\n",
    ")\n"
   ]
  },
  {
   "cell_type": "code",
   "execution_count": 36,
   "metadata": {},
   "outputs": [
    {
     "name": "stdout",
     "output_type": "stream",
     "text": [
      "9/9 [==============================] - 0s 2ms/step\n"
     ]
    }
   ],
   "source": [
    "predict = model_class.predict(X_test)\n"
   ]
  },
  {
   "cell_type": "code",
   "execution_count": 37,
   "metadata": {},
   "outputs": [
    {
     "data": {
      "text/plain": [
       "0.053351143183825"
      ]
     },
     "execution_count": 37,
     "metadata": {},
     "output_type": "execute_result"
    }
   ],
   "source": [
    "mean_squared_error(predict, y_test)\n"
   ]
  },
  {
   "cell_type": "code",
   "execution_count": 38,
   "metadata": {},
   "outputs": [
    {
     "name": "stdout",
     "output_type": "stream",
     "text": [
      "34/34 [==============================] - 0s 1ms/step\n",
      "Accuracy\n",
      "0.9652582159624413\n",
      "Confusion matrix\n",
      "[[328  30]\n",
      " [  7 700]]\n",
      "Precision, Recall, F\n",
      "               precision    recall  f1-score   support\n",
      "\n",
      "           0       0.98      0.92      0.95       358\n",
      "           1       0.96      0.99      0.97       707\n",
      "\n",
      "    accuracy                           0.97      1065\n",
      "   macro avg       0.97      0.95      0.96      1065\n",
      "weighted avg       0.97      0.97      0.96      1065\n",
      "\n"
     ]
    }
   ],
   "source": [
    "predictA = model_class.predict(features)\n",
    "print('Accuracy')\n",
    "print(accuracy_score(labels, predictA > 0.5))\n",
    "print('Confusion matrix')\n",
    "print(confusion_matrix(labels, predictA > 0.5))\n",
    "print('Precision, Recall, F\\n', classification_report(\n",
    "    labels, predictA > 0.5))\n"
   ]
  },
  {
   "cell_type": "code",
   "execution_count": 55,
   "metadata": {},
   "outputs": [
    {
     "name": "stdout",
     "output_type": "stream",
     "text": [
      "Accuracy\n",
      "0.9400749063670412\n",
      "Confusion matrix\n",
      "[[ 89   7]\n",
      " [  9 162]]\n",
      "Precision, Recall, F\n",
      "               precision    recall  f1-score   support\n",
      "\n",
      "           0       0.91      0.93      0.92        96\n",
      "           1       0.96      0.95      0.95       171\n",
      "\n",
      "    accuracy                           0.94       267\n",
      "   macro avg       0.93      0.94      0.94       267\n",
      "weighted avg       0.94      0.94      0.94       267\n",
      "\n"
     ]
    }
   ],
   "source": [
    "print('Accuracy')\n",
    "print(accuracy_score(y_test, predict > 0.98))\n",
    "print('Confusion matrix')\n",
    "print(confusion_matrix(y_test, predict > 0.98))\n",
    "print('Precision, Recall, F\\n', classification_report(\n",
    "    y_test, predict > 0.98))\n"
   ]
  },
  {
   "cell_type": "code",
   "execution_count": 61,
   "metadata": {},
   "outputs": [
    {
     "data": {
      "text/plain": [
       "(86, 10, 3, 168)"
      ]
     },
     "execution_count": 61,
     "metadata": {},
     "output_type": "execute_result"
    }
   ],
   "source": [
    "tn, fp, fn, tp = confusion_matrix(y_test, predict > 0.9).ravel()\n",
    "(tn, fp, fn, tp)\n"
   ]
  },
  {
   "cell_type": "code",
   "execution_count": 48,
   "metadata": {},
   "outputs": [
    {
     "name": "stdout",
     "output_type": "stream",
     "text": [
      "1/1 [==============================] - 0s 20ms/step\n"
     ]
    },
    {
     "data": {
      "text/plain": [
       "array([[0.9850821]], dtype=float32)"
      ]
     },
     "execution_count": 48,
     "metadata": {},
     "output_type": "execute_result"
    }
   ],
   "source": [
    "model_class.predict(np.array([nlp('рекомендации, чтобы поддерживать внутреннюю').vector]))\n"
   ]
  },
  {
   "cell_type": "code",
   "execution_count": 49,
   "metadata": {},
   "outputs": [
    {
     "name": "stdout",
     "output_type": "stream",
     "text": [
      "1/1 [==============================] - 0s 18ms/step\n"
     ]
    },
    {
     "data": {
      "text/plain": [
       "array([[0.97055477]], dtype=float32)"
      ]
     },
     "execution_count": 49,
     "metadata": {},
     "output_type": "execute_result"
    }
   ],
   "source": [
    "model_class.predict(\n",
    "    np.array([nlp('чтобы поддерживать внутреннюю').vector]))\n"
   ]
  },
  {
   "cell_type": "code",
   "execution_count": 51,
   "metadata": {},
   "outputs": [
    {
     "name": "stdout",
     "output_type": "stream",
     "text": [
      "1/1 [==============================] - 0s 22ms/step\n"
     ]
    },
    {
     "data": {
      "text/plain": [
       "array([[0.9897646]], dtype=float32)"
      ]
     },
     "execution_count": 51,
     "metadata": {},
     "output_type": "execute_result"
    }
   ],
   "source": [
    "model_class.predict(\n",
    "    np.array([nlp('поддерживать внутреннюю структуру').vector]))\n"
   ]
  },
  {
   "cell_type": "code",
   "execution_count": 40,
   "metadata": {},
   "outputs": [
    {
     "name": "stderr",
     "output_type": "stream",
     "text": [
      "WARNING:absl:Found untraced functions such as _update_step_xla while saving (showing 1 of 1). These functions will not be directly callable after loading.\n"
     ]
    },
    {
     "name": "stdout",
     "output_type": "stream",
     "text": [
      "INFO:tensorflow:Assets written to: ../../PipeLines/Classifications/checker_is_discriptor_spacy_vectorize\\assets\n"
     ]
    },
    {
     "name": "stderr",
     "output_type": "stream",
     "text": [
      "INFO:tensorflow:Assets written to: ../../PipeLines/Classifications/checker_is_discriptor_spacy_vectorize\\assets\n"
     ]
    }
   ],
   "source": [
    "model_class.save('../../PipeLines/Classifications/checker_is_discriptor_spacy_vectorize')\n"
   ]
  },
  {
   "cell_type": "code",
   "execution_count": null,
   "metadata": {},
   "outputs": [],
   "source": [
    "                                      "
   ]
  }
 ],
 "metadata": {
  "kernelspec": {
   "display_name": "ITS_project",
   "language": "python",
   "name": "python3"
  },
  "language_info": {
   "codemirror_mode": {
    "name": "ipython",
    "version": 3
   },
   "file_extension": ".py",
   "mimetype": "text/x-python",
   "name": "python",
   "nbconvert_exporter": "python",
   "pygments_lexer": "ipython3",
   "version": "3.9.2"
  },
  "orig_nbformat": 4
 },
 "nbformat": 4,
 "nbformat_minor": 2
}
