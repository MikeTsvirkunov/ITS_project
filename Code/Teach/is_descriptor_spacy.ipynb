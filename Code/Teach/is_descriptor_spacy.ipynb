{
 "cells": [
  {
   "cell_type": "code",
   "execution_count": 24,
   "metadata": {},
   "outputs": [],
   "source": [
    "import numpy as np\n",
    "import pandas as pd\n",
    "import spacy\n",
    "nlp = spacy.load(\"ru_core_news_sm\")\n",
    "import tensorflow as tf\n",
    "from sklearn.model_selection import cross_val_score\n",
    "from sklearn.metrics import accuracy_score, confusion_matrix, classification_report, roc_curve, RocCurveDisplay, auc, mean_squared_error\n",
    "from sklearn.model_selection import train_test_split\n",
    "from json import load\n"
   ]
  },
  {
   "cell_type": "code",
   "execution_count": 25,
   "metadata": {},
   "outputs": [],
   "source": [
    "not_discriptors = list()\n",
    "with open('../../Data/Words/word_pairs_not_disc.txt', 'r', encoding='utf-8') as txt:\n",
    "    for i in txt:\n",
    "        not_discriptors.append(i.replace('\\n', ''))\n",
    "\n",
    "with open('../../Data/Events/type_of_events.json', 'r', encoding='utf-8') as js:\n",
    "    events = load(js)\n",
    "\n",
    "with open('../../Data/Datasets/data.json', 'r', encoding='utf-8') as js:\n",
    "    discriptors = load(js)\n"
   ]
  },
  {
   "cell_type": "code",
   "execution_count": 26,
   "metadata": {},
   "outputs": [],
   "source": [
    "dict_of_disc = {'expession': [], 'is_discr': []}\n",
    "for subject in discriptors.values():\n",
    "    for d in sum(subject.values(), []):\n",
    "        dict_of_disc['expession'].append(nlp(d).vector)\n",
    "        dict_of_disc['is_discr'].append(True)\n",
    "\n",
    "for subject in not_discriptors:\n",
    "    dict_of_disc['expession'].append(nlp(subject).vector)\n",
    "    dict_of_disc['is_discr'].append(False)\n",
    "\n"
   ]
  },
  {
   "cell_type": "code",
   "execution_count": 27,
   "metadata": {},
   "outputs": [],
   "source": [
    "features = np.array(dict_of_disc['expession'])\n",
    "labels = np.array(list(map(int, dict_of_disc['is_discr'])))\n"
   ]
  },
  {
   "cell_type": "code",
   "execution_count": 28,
   "metadata": {},
   "outputs": [],
   "source": [
    "X_train, X_test, y_train, y_test = train_test_split(features, labels, random_state=71)\n"
   ]
  },
  {
   "cell_type": "code",
   "execution_count": 29,
   "metadata": {},
   "outputs": [
    {
     "name": "stdout",
     "output_type": "stream",
     "text": [
      "Model: \"sequential_2\"\n",
      "_________________________________________________________________\n",
      " Layer (type)                Output Shape              Param #   \n",
      "=================================================================\n",
      " input (Dense)               (None, 144)               13968     \n",
      "                                                                 \n",
      " hidden_layer_2 (Dense)      (None, 192)               27840     \n",
      "                                                                 \n",
      " hidden_layer_3 (Dense)      (None, 288)               55584     \n",
      "                                                                 \n",
      " hidden_layer_4 (Dense)      (None, 192)               55488     \n",
      "                                                                 \n",
      " hidden_layer_5 (Dense)      (None, 144)               27792     \n",
      "                                                                 \n",
      " hidden_layer_6 (Dense)      (None, 48)                6960      \n",
      "                                                                 \n",
      " output (Dense)              (None, 1)                 49        \n",
      "                                                                 \n",
      "=================================================================\n",
      "Total params: 187,681\n",
      "Trainable params: 187,681\n",
      "Non-trainable params: 0\n",
      "_________________________________________________________________\n"
     ]
    }
   ],
   "source": [
    "import tensorflow as tf\n",
    "\n",
    "model_class = tf.keras.models.Sequential()\n",
    "model_class.add(tf.keras.layers.Dense(int(X_train[0].shape[0]*1.5), activation='relu',input_shape=(X_train[0].shape[0],), name='input'))\n",
    "model_class.add(tf.keras.layers.Dense(int(X_train[0].shape[0]*2), activation='relu', name='hidden_layer_2'))\n",
    "model_class.add(tf.keras.layers.Dense(int(X_train[0].shape[0]*3), activation='relu', name='hidden_layer_3'))\n",
    "model_class.add(tf.keras.layers.Dense(int(X_train[0].shape[0]*2), activation='sigmoid', name='hidden_layer_4', use_bias=True))\n",
    "model_class.add(tf.keras.layers.Dense(int(X_train[0].shape[0]*1.5), activation='sigmoid', name='hidden_layer_5', use_bias=True))\n",
    "model_class.add(tf.keras.layers.Dense(int(X_train[0].shape[0]*0.5), activation='sigmoid', name='hidden_layer_6', use_bias=True))\n",
    "model_class.add(tf.keras.layers.Dense(1, name='output', activation='sigmoid'))\n",
    "model_class.summary()\n"
   ]
  },
  {
   "cell_type": "code",
   "execution_count": 30,
   "metadata": {},
   "outputs": [],
   "source": [
    "model_class.compile(\n",
    "    loss='mse',  # Функция потерь\n",
    "    optimizer='Adam',  # Оптимизатор\n",
    "    metrics=[  # Метрики\n",
    "        'mse',  # Если у объекта назначено имя, то можно вызвать объект с его помощью\n",
    "        # tf.keras.metrics.TrueNegatives\n",
    "        # tf.keras.metrics.Precision()\n",
    "    ]\n",
    ")\n"
   ]
  },
  {
   "cell_type": "code",
   "execution_count": 31,
   "metadata": {},
   "outputs": [
    {
     "name": "stdout",
     "output_type": "stream",
     "text": [
      "Epoch 1/40\n",
      "319/319 [==============================] - 2s 3ms/step - loss: 0.1240 - mse: 0.1240 - val_loss: 0.0661 - val_mse: 0.0661\n",
      "Epoch 2/40\n",
      "319/319 [==============================] - 1s 2ms/step - loss: 0.0740 - mse: 0.0740 - val_loss: 0.0836 - val_mse: 0.0836\n",
      "Epoch 3/40\n",
      "319/319 [==============================] - 1s 2ms/step - loss: 0.0733 - mse: 0.0733 - val_loss: 0.0722 - val_mse: 0.0722\n",
      "Epoch 4/40\n",
      "319/319 [==============================] - 1s 2ms/step - loss: 0.0731 - mse: 0.0731 - val_loss: 0.0880 - val_mse: 0.0880\n",
      "Epoch 5/40\n",
      "319/319 [==============================] - 1s 2ms/step - loss: 0.0617 - mse: 0.0617 - val_loss: 0.0917 - val_mse: 0.0917\n",
      "Epoch 6/40\n",
      "319/319 [==============================] - 1s 2ms/step - loss: 0.0541 - mse: 0.0541 - val_loss: 0.0808 - val_mse: 0.0808\n",
      "Epoch 7/40\n",
      "319/319 [==============================] - 1s 2ms/step - loss: 0.0686 - mse: 0.0686 - val_loss: 0.1025 - val_mse: 0.1025\n",
      "Epoch 8/40\n",
      "319/319 [==============================] - 1s 2ms/step - loss: 0.0658 - mse: 0.0658 - val_loss: 0.0914 - val_mse: 0.0914\n",
      "Epoch 9/40\n",
      "319/319 [==============================] - 1s 2ms/step - loss: 0.0624 - mse: 0.0624 - val_loss: 0.0703 - val_mse: 0.0703\n",
      "Epoch 10/40\n",
      "319/319 [==============================] - 1s 2ms/step - loss: 0.0559 - mse: 0.0559 - val_loss: 0.0566 - val_mse: 0.0566\n",
      "Epoch 11/40\n",
      "319/319 [==============================] - 1s 2ms/step - loss: 0.0386 - mse: 0.0386 - val_loss: 0.0882 - val_mse: 0.0882\n",
      "Epoch 12/40\n",
      "319/319 [==============================] - 1s 2ms/step - loss: 0.0502 - mse: 0.0502 - val_loss: 0.0657 - val_mse: 0.0657\n",
      "Epoch 13/40\n",
      "319/319 [==============================] - 1s 2ms/step - loss: 0.0549 - mse: 0.0549 - val_loss: 0.0650 - val_mse: 0.0650\n",
      "Epoch 14/40\n",
      "319/319 [==============================] - 1s 2ms/step - loss: 0.0416 - mse: 0.0416 - val_loss: 0.0674 - val_mse: 0.0674\n",
      "Epoch 15/40\n",
      "319/319 [==============================] - 1s 2ms/step - loss: 0.0392 - mse: 0.0392 - val_loss: 0.0681 - val_mse: 0.0681\n",
      "Epoch 16/40\n",
      "319/319 [==============================] - 1s 2ms/step - loss: 0.0407 - mse: 0.0407 - val_loss: 0.0723 - val_mse: 0.0723\n",
      "Epoch 17/40\n",
      "319/319 [==============================] - 1s 2ms/step - loss: 0.0309 - mse: 0.0309 - val_loss: 0.0721 - val_mse: 0.0721\n",
      "Epoch 18/40\n",
      "319/319 [==============================] - 1s 2ms/step - loss: 0.0286 - mse: 0.0286 - val_loss: 0.0528 - val_mse: 0.0528\n",
      "Epoch 19/40\n",
      "319/319 [==============================] - 1s 2ms/step - loss: 0.0390 - mse: 0.0390 - val_loss: 0.0887 - val_mse: 0.0887\n",
      "Epoch 20/40\n",
      "319/319 [==============================] - 1s 2ms/step - loss: 0.0592 - mse: 0.0592 - val_loss: 0.0821 - val_mse: 0.0821\n",
      "Epoch 21/40\n",
      "319/319 [==============================] - 1s 2ms/step - loss: 0.0773 - mse: 0.0773 - val_loss: 0.0911 - val_mse: 0.0911\n",
      "Epoch 22/40\n",
      "319/319 [==============================] - 1s 2ms/step - loss: 0.0555 - mse: 0.0555 - val_loss: 0.0466 - val_mse: 0.0466\n",
      "Epoch 23/40\n",
      "319/319 [==============================] - 1s 2ms/step - loss: 0.0461 - mse: 0.0461 - val_loss: 0.0478 - val_mse: 0.0478\n",
      "Epoch 24/40\n",
      "319/319 [==============================] - 1s 2ms/step - loss: 0.0345 - mse: 0.0345 - val_loss: 0.0592 - val_mse: 0.0592\n",
      "Epoch 25/40\n",
      "319/319 [==============================] - 1s 2ms/step - loss: 0.0224 - mse: 0.0224 - val_loss: 0.0400 - val_mse: 0.0400\n",
      "Epoch 26/40\n",
      "319/319 [==============================] - 1s 2ms/step - loss: 0.0215 - mse: 0.0215 - val_loss: 0.0463 - val_mse: 0.0463\n",
      "Epoch 27/40\n",
      "319/319 [==============================] - 1s 2ms/step - loss: 0.0257 - mse: 0.0257 - val_loss: 0.0880 - val_mse: 0.0880\n",
      "Epoch 28/40\n",
      "319/319 [==============================] - 1s 2ms/step - loss: 0.0325 - mse: 0.0325 - val_loss: 0.0595 - val_mse: 0.0595\n",
      "Epoch 29/40\n",
      "319/319 [==============================] - 1s 2ms/step - loss: 0.0250 - mse: 0.0250 - val_loss: 0.0741 - val_mse: 0.0741\n",
      "Epoch 30/40\n",
      "319/319 [==============================] - 1s 2ms/step - loss: 0.0231 - mse: 0.0231 - val_loss: 0.0439 - val_mse: 0.0439\n",
      "Epoch 31/40\n",
      "319/319 [==============================] - 1s 2ms/step - loss: 0.0210 - mse: 0.0210 - val_loss: 0.0485 - val_mse: 0.0485\n",
      "Epoch 32/40\n",
      "319/319 [==============================] - 1s 2ms/step - loss: 0.0202 - mse: 0.0202 - val_loss: 0.0479 - val_mse: 0.0479\n",
      "Epoch 33/40\n",
      "319/319 [==============================] - 1s 2ms/step - loss: 0.0202 - mse: 0.0202 - val_loss: 0.0469 - val_mse: 0.0469\n",
      "Epoch 34/40\n",
      "319/319 [==============================] - 1s 2ms/step - loss: 0.0201 - mse: 0.0201 - val_loss: 0.0445 - val_mse: 0.0445\n",
      "Epoch 35/40\n",
      "319/319 [==============================] - 1s 2ms/step - loss: 0.0201 - mse: 0.0201 - val_loss: 0.0433 - val_mse: 0.0433\n",
      "Epoch 36/40\n",
      "319/319 [==============================] - 1s 2ms/step - loss: 0.0201 - mse: 0.0201 - val_loss: 0.0427 - val_mse: 0.0427\n",
      "Epoch 37/40\n",
      "319/319 [==============================] - 1s 2ms/step - loss: 0.0261 - mse: 0.0261 - val_loss: 0.0553 - val_mse: 0.0553\n",
      "Epoch 38/40\n",
      "319/319 [==============================] - 1s 2ms/step - loss: 0.0277 - mse: 0.0277 - val_loss: 0.0611 - val_mse: 0.0611\n",
      "Epoch 39/40\n",
      "319/319 [==============================] - 1s 2ms/step - loss: 0.0454 - mse: 0.0454 - val_loss: 0.0878 - val_mse: 0.0878\n",
      "Epoch 40/40\n",
      "319/319 [==============================] - 1s 2ms/step - loss: 0.0390 - mse: 0.0390 - val_loss: 0.0584 - val_mse: 0.0584\n"
     ]
    },
    {
     "data": {
      "text/plain": [
       "<keras.callbacks.History at 0x197ba18f520>"
      ]
     },
     "execution_count": 31,
     "metadata": {},
     "output_type": "execute_result"
    }
   ],
   "source": [
    "model_class.fit(\n",
    "    X_train,  # Набор входных данных\n",
    "    y_train,  # Набор правильных ответов\n",
    "    validation_split=0.2,  # Этот параметр автоматически выделит часть обучающего набора на валидационные данные. В данном случа 20%\n",
    "    epochs=40,  # Процесс обучения завершится после 10 эпох\n",
    "    # Набор данных будет разбит на пакеты (батчи) по 8 элементов набора в каждом.\n",
    "    batch_size=2\n",
    ")\n"
   ]
  },
  {
   "cell_type": "code",
   "execution_count": 32,
   "metadata": {},
   "outputs": [
    {
     "name": "stdout",
     "output_type": "stream",
     "text": [
      "9/9 [==============================] - 0s 2ms/step\n"
     ]
    }
   ],
   "source": [
    "predict = model_class.predict(X_test)\n"
   ]
  },
  {
   "cell_type": "code",
   "execution_count": 33,
   "metadata": {},
   "outputs": [
    {
     "data": {
      "text/plain": [
       "0.05298755684476419"
      ]
     },
     "execution_count": 33,
     "metadata": {},
     "output_type": "execute_result"
    }
   ],
   "source": [
    "mean_squared_error(predict, y_test)\n"
   ]
  },
  {
   "cell_type": "code",
   "execution_count": 34,
   "metadata": {},
   "outputs": [
    {
     "name": "stdout",
     "output_type": "stream",
     "text": [
      "34/34 [==============================] - 0s 1ms/step\n",
      "Accuracy\n",
      "0.9586854460093897\n",
      "Confusion matrix\n",
      "[[324  34]\n",
      " [ 10 697]]\n",
      "Precision, Recall, F\n",
      "               precision    recall  f1-score   support\n",
      "\n",
      "           0       0.97      0.91      0.94       358\n",
      "           1       0.95      0.99      0.97       707\n",
      "\n",
      "    accuracy                           0.96      1065\n",
      "   macro avg       0.96      0.95      0.95      1065\n",
      "weighted avg       0.96      0.96      0.96      1065\n",
      "\n"
     ]
    }
   ],
   "source": [
    "predictA = model_class.predict(features)\n",
    "print('Accuracy')\n",
    "print(accuracy_score(labels, predictA > 0.5))\n",
    "print('Confusion matrix')\n",
    "print(confusion_matrix(labels, predictA > 0.5))\n",
    "print('Precision, Recall, F\\n', classification_report(\n",
    "    labels, predictA > 0.5))\n"
   ]
  },
  {
   "cell_type": "code",
   "execution_count": 35,
   "metadata": {},
   "outputs": [
    {
     "name": "stdout",
     "output_type": "stream",
     "text": [
      "Accuracy\n",
      "0.3595505617977528\n",
      "Confusion matrix\n",
      "[[ 96   0]\n",
      " [171   0]]\n",
      "Precision, Recall, F\n",
      "               precision    recall  f1-score   support\n",
      "\n",
      "           0       0.36      1.00      0.53        96\n",
      "           1       0.00      0.00      0.00       171\n",
      "\n",
      "    accuracy                           0.36       267\n",
      "   macro avg       0.18      0.50      0.26       267\n",
      "weighted avg       0.13      0.36      0.19       267\n",
      "\n"
     ]
    },
    {
     "name": "stderr",
     "output_type": "stream",
     "text": [
      "c:\\Users\\Mike\\Desktop\\ITS_project\\ITS_project\\lib\\site-packages\\sklearn\\metrics\\_classification.py:1344: UndefinedMetricWarning: Precision and F-score are ill-defined and being set to 0.0 in labels with no predicted samples. Use `zero_division` parameter to control this behavior.\n",
      "  _warn_prf(average, modifier, msg_start, len(result))\n",
      "c:\\Users\\Mike\\Desktop\\ITS_project\\ITS_project\\lib\\site-packages\\sklearn\\metrics\\_classification.py:1344: UndefinedMetricWarning: Precision and F-score are ill-defined and being set to 0.0 in labels with no predicted samples. Use `zero_division` parameter to control this behavior.\n",
      "  _warn_prf(average, modifier, msg_start, len(result))\n",
      "c:\\Users\\Mike\\Desktop\\ITS_project\\ITS_project\\lib\\site-packages\\sklearn\\metrics\\_classification.py:1344: UndefinedMetricWarning: Precision and F-score are ill-defined and being set to 0.0 in labels with no predicted samples. Use `zero_division` parameter to control this behavior.\n",
      "  _warn_prf(average, modifier, msg_start, len(result))\n"
     ]
    }
   ],
   "source": [
    "print('Accuracy')\n",
    "print(accuracy_score(y_test, predict > 0.98))\n",
    "print('Confusion matrix')\n",
    "print(confusion_matrix(y_test, predict > 0.98))\n",
    "print('Precision, Recall, F\\n', classification_report(\n",
    "    y_test, predict > 0.98))\n"
   ]
  },
  {
   "cell_type": "code",
   "execution_count": 36,
   "metadata": {},
   "outputs": [
    {
     "data": {
      "text/plain": [
       "(84, 12, 3, 168)"
      ]
     },
     "execution_count": 36,
     "metadata": {},
     "output_type": "execute_result"
    }
   ],
   "source": [
    "tn, fp, fn, tp = confusion_matrix(y_test, predict > 0.9).ravel()\n",
    "(tn, fp, fn, tp)\n"
   ]
  },
  {
   "cell_type": "code",
   "execution_count": 37,
   "metadata": {},
   "outputs": [
    {
     "name": "stdout",
     "output_type": "stream",
     "text": [
      "1/1 [==============================] - 0s 20ms/step\n"
     ]
    },
    {
     "data": {
      "text/plain": [
       "array([[0.9560471]], dtype=float32)"
      ]
     },
     "execution_count": 37,
     "metadata": {},
     "output_type": "execute_result"
    }
   ],
   "source": [
    "model_class.predict(np.array([nlp('рекомендации, чтобы поддерживать внутреннюю').vector]))\n"
   ]
  },
  {
   "cell_type": "code",
   "execution_count": 38,
   "metadata": {},
   "outputs": [
    {
     "name": "stdout",
     "output_type": "stream",
     "text": [
      "1/1 [==============================] - 0s 20ms/step\n"
     ]
    },
    {
     "data": {
      "text/plain": [
       "array([[0.9554036]], dtype=float32)"
      ]
     },
     "execution_count": 38,
     "metadata": {},
     "output_type": "execute_result"
    }
   ],
   "source": [
    "model_class.predict(\n",
    "    np.array([nlp('чтобы поддерживать внутреннюю').vector]))\n"
   ]
  },
  {
   "cell_type": "code",
   "execution_count": 39,
   "metadata": {},
   "outputs": [
    {
     "name": "stdout",
     "output_type": "stream",
     "text": [
      "1/1 [==============================] - 0s 18ms/step\n"
     ]
    },
    {
     "data": {
      "text/plain": [
       "array([[0.95606273]], dtype=float32)"
      ]
     },
     "execution_count": 39,
     "metadata": {},
     "output_type": "execute_result"
    }
   ],
   "source": [
    "model_class.predict(\n",
    "    np.array([nlp('поддерживать внутреннюю структуру').vector]))\n"
   ]
  },
  {
   "cell_type": "code",
   "execution_count": 40,
   "metadata": {},
   "outputs": [],
   "source": [
    "model_class.save('../../PipeLines/Classifications/checker_is_discriptor_spacy_vectorize.h5')\n"
   ]
  },
  {
   "cell_type": "code",
   "execution_count": null,
   "metadata": {},
   "outputs": [],
   "source": [
    "                                      "
   ]
  }
 ],
 "metadata": {
  "kernelspec": {
   "display_name": "ITS_project",
   "language": "python",
   "name": "python3"
  },
  "language_info": {
   "codemirror_mode": {
    "name": "ipython",
    "version": 3
   },
   "file_extension": ".py",
   "mimetype": "text/x-python",
   "name": "python",
   "nbconvert_exporter": "python",
   "pygments_lexer": "ipython3",
   "version": "3.9.2"
  },
  "orig_nbformat": 4
 },
 "nbformat": 4,
 "nbformat_minor": 2
}
