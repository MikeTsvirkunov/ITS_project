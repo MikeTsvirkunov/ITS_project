{
 "cells": [
  {
   "cell_type": "code",
   "execution_count": 18,
   "metadata": {},
   "outputs": [],
   "source": [
    "import numpy as np\n",
    "import pandas as pd\n",
    "import spacy\n",
    "nlp = spacy.load(\"ru_core_news_sm\")\n",
    "import tensorflow as tf\n",
    "from sklearn.model_selection import cross_val_score\n",
    "from sklearn.metrics import accuracy_score, confusion_matrix, classification_report, roc_curve, RocCurveDisplay, auc, mean_squared_error\n",
    "from sklearn.model_selection import train_test_split\n",
    "from json import load\n"
   ]
  },
  {
   "cell_type": "code",
   "execution_count": 19,
   "metadata": {},
   "outputs": [],
   "source": [
    "not_discriptors = list()\n",
    "with open('../../Data/Words/word_pairs_not_disc.txt', 'r', encoding='utf-8') as txt:\n",
    "    for i in txt:\n",
    "        not_discriptors.append(i.replace('\\n', ''))\n",
    "\n",
    "with open('../../Data/Events/type_of_events.json', 'r', encoding='utf-8') as js:\n",
    "    events = load(js)\n",
    "\n",
    "with open('../../Data/Datasets/data.json', 'r', encoding='utf-8') as js:\n",
    "    discriptors = load(js)\n"
   ]
  },
  {
   "cell_type": "code",
   "execution_count": 20,
   "metadata": {},
   "outputs": [],
   "source": [
    "dict_of_disc = {'expession': [], 'is_discr': []}\n",
    "for subject in discriptors.values():\n",
    "    for d in sum(subject.values(), []):\n",
    "        dict_of_disc['expession'].append(nlp(d).vector)\n",
    "        dict_of_disc['is_discr'].append(True)\n",
    "\n",
    "for subject in not_discriptors:\n",
    "    dict_of_disc['expession'].append(nlp(subject).vector)\n",
    "    dict_of_disc['is_discr'].append(False)\n",
    "\n"
   ]
  },
  {
   "cell_type": "code",
   "execution_count": 21,
   "metadata": {},
   "outputs": [],
   "source": [
    "features = np.array(dict_of_disc['expession'])\n",
    "labels = np.array(list(map(int, dict_of_disc['is_discr'])))\n"
   ]
  },
  {
   "cell_type": "code",
   "execution_count": 22,
   "metadata": {},
   "outputs": [],
   "source": [
    "X_train, X_test, y_train, y_test = train_test_split(features, labels, random_state=71)\n"
   ]
  },
  {
   "cell_type": "code",
   "execution_count": 23,
   "metadata": {},
   "outputs": [
    {
     "name": "stdout",
     "output_type": "stream",
     "text": [
      "Model: \"sequential_1\"\n",
      "_________________________________________________________________\n",
      " Layer (type)                Output Shape              Param #   \n",
      "=================================================================\n",
      " input (Dense)               (None, 144)               13968     \n",
      "                                                                 \n",
      " hidden_layer_2 (Dense)      (None, 192)               27840     \n",
      "                                                                 \n",
      " hidden_layer_3 (Dense)      (None, 288)               55584     \n",
      "                                                                 \n",
      " hidden_layer_4 (Dense)      (None, 192)               55488     \n",
      "                                                                 \n",
      " hidden_layer_5 (Dense)      (None, 144)               27792     \n",
      "                                                                 \n",
      " hidden_layer_6 (Dense)      (None, 48)                6960      \n",
      "                                                                 \n",
      " output (Dense)              (None, 1)                 49        \n",
      "                                                                 \n",
      "=================================================================\n",
      "Total params: 187,681\n",
      "Trainable params: 187,681\n",
      "Non-trainable params: 0\n",
      "_________________________________________________________________\n"
     ]
    }
   ],
   "source": [
    "import tensorflow as tf\n",
    "\n",
    "model_class = tf.keras.models.Sequential()\n",
    "model_class.add(tf.keras.layers.Dense(int(X_train[0].shape[0]*1.5), activation='relu',\n",
    "                                      input_shape=(X_train[0].shape[0],), name='input'))\n",
    "model_class.add(tf.keras.layers.Dense(\n",
    "    int(X_train[0].shape[0]*2), activation='relu', name='hidden_layer_2'))\n",
    "model_class.add(tf.keras.layers.Dense(\n",
    "    int(X_train[0].shape[0]*3), activation='relu', name='hidden_layer_3'))\n",
    "model_class.add(tf.keras.layers.Dense(\n",
    "    int(X_train[0].shape[0]*2), activation='sigmoid', name='hidden_layer_4', use_bias=True))\n",
    "model_class.add(tf.keras.layers.Dense(\n",
    "    int(X_train[0].shape[0]*1.5), activation='sigmoid', name='hidden_layer_5', use_bias=True))\n",
    "model_class.add(tf.keras.layers.Dense(\n",
    "    int(X_train[0].shape[0]*0.5), activation='sigmoid', name='hidden_layer_6', use_bias=True))\n",
    "model_class.add(tf.keras.layers.Dense(1, name='output'))\n",
    "model_class.summary()\n"
   ]
  },
  {
   "cell_type": "code",
   "execution_count": 24,
   "metadata": {},
   "outputs": [],
   "source": [
    "model_class.compile(\n",
    "    loss='mse',  # Функция потерь\n",
    "    optimizer='Adam',  # Оптимизатор\n",
    "    metrics=[  # Метрики\n",
    "        'mse',  # Если у объекта назначено имя, то можно вызвать объект с его помощью\n",
    "        # tf.keras.metrics.TrueNegatives\n",
    "        # tf.keras.metrics.Precision()\n",
    "    ]\n",
    ")\n"
   ]
  },
  {
   "cell_type": "code",
   "execution_count": 25,
   "metadata": {},
   "outputs": [
    {
     "name": "stdout",
     "output_type": "stream",
     "text": [
      "Epoch 1/40\n",
      "319/319 [==============================] - 2s 3ms/step - loss: 0.1288 - mse: 0.1288 - val_loss: 0.0642 - val_mse: 0.0642\n",
      "Epoch 2/40\n",
      "319/319 [==============================] - 1s 2ms/step - loss: 0.0645 - mse: 0.0645 - val_loss: 0.0752 - val_mse: 0.0752\n",
      "Epoch 3/40\n",
      "319/319 [==============================] - 1s 2ms/step - loss: 0.0428 - mse: 0.0428 - val_loss: 0.0530 - val_mse: 0.0530\n",
      "Epoch 4/40\n",
      "319/319 [==============================] - 1s 2ms/step - loss: 0.0312 - mse: 0.0312 - val_loss: 0.0512 - val_mse: 0.0512\n",
      "Epoch 5/40\n",
      "319/319 [==============================] - 1s 2ms/step - loss: 0.0197 - mse: 0.0197 - val_loss: 0.0451 - val_mse: 0.0451\n",
      "Epoch 6/40\n",
      "319/319 [==============================] - 1s 2ms/step - loss: 0.0239 - mse: 0.0239 - val_loss: 0.0431 - val_mse: 0.0431\n",
      "Epoch 7/40\n",
      "319/319 [==============================] - 1s 2ms/step - loss: 0.0259 - mse: 0.0259 - val_loss: 0.0511 - val_mse: 0.0511\n",
      "Epoch 8/40\n",
      "319/319 [==============================] - 1s 2ms/step - loss: 0.0160 - mse: 0.0160 - val_loss: 0.0552 - val_mse: 0.0552\n",
      "Epoch 9/40\n",
      "319/319 [==============================] - 1s 2ms/step - loss: 0.0113 - mse: 0.0113 - val_loss: 0.0501 - val_mse: 0.0501\n",
      "Epoch 10/40\n",
      "319/319 [==============================] - 1s 2ms/step - loss: 0.0102 - mse: 0.0102 - val_loss: 0.0523 - val_mse: 0.0523\n",
      "Epoch 11/40\n",
      "319/319 [==============================] - 1s 2ms/step - loss: 0.0148 - mse: 0.0148 - val_loss: 0.0670 - val_mse: 0.0670\n",
      "Epoch 12/40\n",
      "319/319 [==============================] - 1s 2ms/step - loss: 0.0164 - mse: 0.0164 - val_loss: 0.0494 - val_mse: 0.0494\n",
      "Epoch 13/40\n",
      "319/319 [==============================] - 1s 2ms/step - loss: 0.0196 - mse: 0.0196 - val_loss: 0.0466 - val_mse: 0.0466\n",
      "Epoch 14/40\n",
      "319/319 [==============================] - 1s 2ms/step - loss: 0.0065 - mse: 0.0065 - val_loss: 0.0619 - val_mse: 0.0619\n",
      "Epoch 15/40\n",
      "319/319 [==============================] - 1s 2ms/step - loss: 0.0234 - mse: 0.0234 - val_loss: 0.0421 - val_mse: 0.0421\n",
      "Epoch 16/40\n",
      "319/319 [==============================] - 1s 2ms/step - loss: 0.0059 - mse: 0.0059 - val_loss: 0.0516 - val_mse: 0.0516\n",
      "Epoch 17/40\n",
      "319/319 [==============================] - 1s 2ms/step - loss: 0.0200 - mse: 0.0200 - val_loss: 0.0625 - val_mse: 0.0625\n",
      "Epoch 18/40\n",
      "319/319 [==============================] - 1s 2ms/step - loss: 0.0152 - mse: 0.0152 - val_loss: 0.0382 - val_mse: 0.0382\n",
      "Epoch 19/40\n",
      "319/319 [==============================] - 1s 2ms/step - loss: 0.0151 - mse: 0.0151 - val_loss: 0.0602 - val_mse: 0.0602\n",
      "Epoch 20/40\n",
      "319/319 [==============================] - 1s 2ms/step - loss: 0.0051 - mse: 0.0051 - val_loss: 0.0499 - val_mse: 0.0499\n",
      "Epoch 21/40\n",
      "319/319 [==============================] - 1s 2ms/step - loss: 0.0189 - mse: 0.0189 - val_loss: 0.0557 - val_mse: 0.0557\n",
      "Epoch 22/40\n",
      "319/319 [==============================] - 1s 2ms/step - loss: 0.0048 - mse: 0.0048 - val_loss: 0.0615 - val_mse: 0.0615\n",
      "Epoch 23/40\n",
      "319/319 [==============================] - 1s 2ms/step - loss: 0.0077 - mse: 0.0077 - val_loss: 0.0437 - val_mse: 0.0437\n",
      "Epoch 24/40\n",
      "319/319 [==============================] - 1s 2ms/step - loss: 0.0071 - mse: 0.0071 - val_loss: 0.0278 - val_mse: 0.0278\n",
      "Epoch 25/40\n",
      "319/319 [==============================] - 1s 2ms/step - loss: 0.0039 - mse: 0.0039 - val_loss: 0.0352 - val_mse: 0.0352\n",
      "Epoch 26/40\n",
      "319/319 [==============================] - 1s 2ms/step - loss: 0.0016 - mse: 0.0016 - val_loss: 0.0378 - val_mse: 0.0378\n",
      "Epoch 27/40\n",
      "319/319 [==============================] - 1s 2ms/step - loss: 0.0023 - mse: 0.0023 - val_loss: 0.0349 - val_mse: 0.0349\n",
      "Epoch 28/40\n",
      "319/319 [==============================] - 1s 2ms/step - loss: 0.0020 - mse: 0.0020 - val_loss: 0.0349 - val_mse: 0.0349\n",
      "Epoch 29/40\n",
      "319/319 [==============================] - 1s 2ms/step - loss: 0.0021 - mse: 0.0021 - val_loss: 0.0353 - val_mse: 0.0353\n",
      "Epoch 30/40\n",
      "319/319 [==============================] - 1s 2ms/step - loss: 0.0020 - mse: 0.0020 - val_loss: 0.0350 - val_mse: 0.0350\n",
      "Epoch 31/40\n",
      "319/319 [==============================] - 1s 2ms/step - loss: 0.0021 - mse: 0.0021 - val_loss: 0.0353 - val_mse: 0.0353\n",
      "Epoch 32/40\n",
      "319/319 [==============================] - 1s 2ms/step - loss: 0.0021 - mse: 0.0021 - val_loss: 0.0352 - val_mse: 0.0352\n",
      "Epoch 33/40\n",
      "319/319 [==============================] - 1s 2ms/step - loss: 0.0022 - mse: 0.0022 - val_loss: 0.0345 - val_mse: 0.0345\n",
      "Epoch 34/40\n",
      "319/319 [==============================] - 1s 2ms/step - loss: 0.0021 - mse: 0.0021 - val_loss: 0.0347 - val_mse: 0.0347\n",
      "Epoch 35/40\n",
      "319/319 [==============================] - 1s 2ms/step - loss: 0.0020 - mse: 0.0020 - val_loss: 0.0347 - val_mse: 0.0347\n",
      "Epoch 36/40\n",
      "319/319 [==============================] - 1s 2ms/step - loss: 0.0022 - mse: 0.0022 - val_loss: 0.0353 - val_mse: 0.0353\n",
      "Epoch 37/40\n",
      "319/319 [==============================] - 1s 2ms/step - loss: 0.0022 - mse: 0.0022 - val_loss: 0.0353 - val_mse: 0.0353\n",
      "Epoch 38/40\n",
      "319/319 [==============================] - 1s 2ms/step - loss: 0.0020 - mse: 0.0020 - val_loss: 0.0354 - val_mse: 0.0354\n",
      "Epoch 39/40\n",
      "319/319 [==============================] - 1s 2ms/step - loss: 0.0022 - mse: 0.0022 - val_loss: 0.0357 - val_mse: 0.0357\n",
      "Epoch 40/40\n",
      "319/319 [==============================] - 1s 2ms/step - loss: 0.0021 - mse: 0.0021 - val_loss: 0.0357 - val_mse: 0.0357\n"
     ]
    },
    {
     "data": {
      "text/plain": [
       "<keras.callbacks.History at 0x13687682100>"
      ]
     },
     "execution_count": 25,
     "metadata": {},
     "output_type": "execute_result"
    }
   ],
   "source": [
    "model_class.fit(\n",
    "    X_train,  # Набор входных данных\n",
    "    y_train,  # Набор правильных ответов\n",
    "    validation_split=0.2,  # Этот параметр автоматически выделит часть обучающего набора на валидационные данные. В данном случа 20%\n",
    "    epochs=40,  # Процесс обучения завершится после 10 эпох\n",
    "    # Набор данных будет разбит на пакеты (батчи) по 8 элементов набора в каждом.\n",
    "    batch_size=2\n",
    ")\n"
   ]
  },
  {
   "cell_type": "code",
   "execution_count": 26,
   "metadata": {},
   "outputs": [
    {
     "name": "stdout",
     "output_type": "stream",
     "text": [
      "9/9 [==============================] - 0s 1ms/step\n"
     ]
    }
   ],
   "source": [
    "predict = model_class.predict(X_test)\n"
   ]
  },
  {
   "cell_type": "code",
   "execution_count": 27,
   "metadata": {},
   "outputs": [
    {
     "data": {
      "text/plain": [
       "0.04263766919176076"
      ]
     },
     "execution_count": 27,
     "metadata": {},
     "output_type": "execute_result"
    }
   ],
   "source": [
    "mean_squared_error(predict, y_test)\n"
   ]
  },
  {
   "cell_type": "code",
   "execution_count": 28,
   "metadata": {},
   "outputs": [
    {
     "name": "stdout",
     "output_type": "stream",
     "text": [
      "34/34 [==============================] - 0s 1ms/step\n",
      "Accuracy\n",
      "0.9812206572769953\n",
      "Confusion matrix\n",
      "[[346  12]\n",
      " [  8 699]]\n",
      "Precision, Recall, F\n",
      "               precision    recall  f1-score   support\n",
      "\n",
      "           0       0.98      0.97      0.97       358\n",
      "           1       0.98      0.99      0.99       707\n",
      "\n",
      "    accuracy                           0.98      1065\n",
      "   macro avg       0.98      0.98      0.98      1065\n",
      "weighted avg       0.98      0.98      0.98      1065\n",
      "\n"
     ]
    }
   ],
   "source": [
    "predictA = model_class.predict(features)\n",
    "print('Accuracy')\n",
    "print(accuracy_score(labels, predictA > 0.5))\n",
    "print('Confusion matrix')\n",
    "print(confusion_matrix(labels, predictA > 0.5))\n",
    "print('Precision, Recall, F\\n', classification_report(\n",
    "    labels, predictA > 0.5))\n"
   ]
  },
  {
   "cell_type": "code",
   "execution_count": 29,
   "metadata": {},
   "outputs": [
    {
     "name": "stdout",
     "output_type": "stream",
     "text": [
      "Accuracy\n",
      "0.9588014981273408\n",
      "Confusion matrix\n",
      "[[ 92   4]\n",
      " [  7 164]]\n",
      "Precision, Recall, F\n",
      "               precision    recall  f1-score   support\n",
      "\n",
      "           0       0.93      0.96      0.94        96\n",
      "           1       0.98      0.96      0.97       171\n",
      "\n",
      "    accuracy                           0.96       267\n",
      "   macro avg       0.95      0.96      0.96       267\n",
      "weighted avg       0.96      0.96      0.96       267\n",
      "\n"
     ]
    }
   ],
   "source": [
    "print('Accuracy')\n",
    "print(accuracy_score(y_test, predict > 0.98))\n",
    "print('Confusion matrix')\n",
    "print(confusion_matrix(y_test, predict > 0.98))\n",
    "print('Precision, Recall, F\\n', classification_report(\n",
    "    y_test, predict > 0.98))\n"
   ]
  },
  {
   "cell_type": "code",
   "execution_count": 30,
   "metadata": {},
   "outputs": [
    {
     "data": {
      "text/plain": [
       "(92, 4, 6, 165)"
      ]
     },
     "execution_count": 30,
     "metadata": {},
     "output_type": "execute_result"
    }
   ],
   "source": [
    "tn, fp, fn, tp = confusion_matrix(y_test, predict > 0.9).ravel()\n",
    "(tn, fp, fn, tp)\n"
   ]
  },
  {
   "cell_type": "code",
   "execution_count": 31,
   "metadata": {},
   "outputs": [
    {
     "name": "stdout",
     "output_type": "stream",
     "text": [
      "1/1 [==============================] - 0s 19ms/step\n"
     ]
    },
    {
     "data": {
      "text/plain": [
       "array([[0.9998925]], dtype=float32)"
      ]
     },
     "execution_count": 31,
     "metadata": {},
     "output_type": "execute_result"
    }
   ],
   "source": [
    "model_class.predict(np.array([nlp('рекомендации, чтобы поддерживать внутреннюю').vector]))\n"
   ]
  },
  {
   "cell_type": "code",
   "execution_count": 32,
   "metadata": {},
   "outputs": [
    {
     "name": "stdout",
     "output_type": "stream",
     "text": [
      "1/1 [==============================] - 0s 17ms/step\n"
     ]
    },
    {
     "data": {
      "text/plain": [
       "array([[0.9989486]], dtype=float32)"
      ]
     },
     "execution_count": 32,
     "metadata": {},
     "output_type": "execute_result"
    }
   ],
   "source": [
    "model_class.predict(\n",
    "    np.array([nlp('чтобы поддерживать внутреннюю').vector]))\n"
   ]
  },
  {
   "cell_type": "code",
   "execution_count": 33,
   "metadata": {},
   "outputs": [
    {
     "name": "stdout",
     "output_type": "stream",
     "text": [
      "1/1 [==============================] - 0s 18ms/step\n"
     ]
    },
    {
     "data": {
      "text/plain": [
       "array([[0.9999097]], dtype=float32)"
      ]
     },
     "execution_count": 33,
     "metadata": {},
     "output_type": "execute_result"
    }
   ],
   "source": [
    "model_class.predict(\n",
    "    np.array([nlp('поддерживать внутреннюю структуру').vector]))\n"
   ]
  },
  {
   "cell_type": "code",
   "execution_count": 34,
   "metadata": {},
   "outputs": [],
   "source": [
    "model_class.save('../../PipeLines/Classifications/checker_is_discriptor_spacy_vectorize.h5')\n"
   ]
  },
  {
   "cell_type": "code",
   "execution_count": null,
   "metadata": {},
   "outputs": [],
   "source": [
    "                                      "
   ]
  }
 ],
 "metadata": {
  "kernelspec": {
   "display_name": "ITS_project",
   "language": "python",
   "name": "python3"
  },
  "language_info": {
   "codemirror_mode": {
    "name": "ipython",
    "version": 3
   },
   "file_extension": ".py",
   "mimetype": "text/x-python",
   "name": "python",
   "nbconvert_exporter": "python",
   "pygments_lexer": "ipython3",
   "version": "3.9.2"
  },
  "orig_nbformat": 4
 },
 "nbformat": 4,
 "nbformat_minor": 2
}
