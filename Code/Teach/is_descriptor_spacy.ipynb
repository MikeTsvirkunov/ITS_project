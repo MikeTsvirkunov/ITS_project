{
 "cells": [
  {
   "cell_type": "code",
   "execution_count": 1,
   "metadata": {},
   "outputs": [],
   "source": [
    "import numpy as np\n",
    "import pandas as pd\n",
    "import spacy\n",
    "nlp = spacy.load(\"ru_core_news_sm\")\n",
    "import tensorflow as tf\n",
    "from sklearn.model_selection import cross_val_score\n",
    "from sklearn.metrics import accuracy_score, confusion_matrix, classification_report, roc_curve, RocCurveDisplay, auc, mean_squared_error\n",
    "from sklearn.model_selection import train_test_split\n",
    "from json import load\n"
   ]
  },
  {
   "cell_type": "code",
   "execution_count": 2,
   "metadata": {},
   "outputs": [],
   "source": [
    "not_discriptors = list()\n",
    "with open('../../Data/Words/word_pairs_not_disc.txt', 'r', encoding='utf-8') as txt:\n",
    "    for i in txt:\n",
    "        not_discriptors.append(i.replace('\\n', ''))\n",
    "\n",
    "with open('../../Data/Events/type_of_events.json', 'r', encoding='utf-8') as js:\n",
    "    events = load(js)\n",
    "\n",
    "with open('../../Data/Datasets/data.json', 'r', encoding='utf-8') as js:\n",
    "    discriptors = load(js)\n"
   ]
  },
  {
   "cell_type": "code",
   "execution_count": 12,
   "metadata": {},
   "outputs": [],
   "source": [
    "dict_of_disc = {'expession': [], 'is_discr': []}\n",
    "for subject in discriptors.values():\n",
    "    for d in sum(subject.values(), []):\n",
    "        dict_of_disc['expession'].append(nlp(d).vector)\n",
    "        dict_of_disc['is_discr'].append(True)\n",
    "\n",
    "for subject in not_discriptors:\n",
    "    dict_of_disc['expession'].append(nlp(subject).vector)\n",
    "    dict_of_disc['is_discr'].append(False)\n",
    "\n"
   ]
  },
  {
   "cell_type": "code",
   "execution_count": 17,
   "metadata": {},
   "outputs": [],
   "source": [
    "features = np.array(dict_of_disc['expession'])\n",
    "labels = np.array(list(map(int, dict_of_disc['is_discr'])))\n"
   ]
  },
  {
   "cell_type": "code",
   "execution_count": 19,
   "metadata": {},
   "outputs": [],
   "source": [
    "X_train, X_test, y_train, y_test = train_test_split(features, labels, random_state=71)\n"
   ]
  },
  {
   "cell_type": "code",
   "execution_count": 20,
   "metadata": {},
   "outputs": [
    {
     "name": "stdout",
     "output_type": "stream",
     "text": [
      "Model: \"sequential\"\n",
      "_________________________________________________________________\n",
      " Layer (type)                Output Shape              Param #   \n",
      "=================================================================\n",
      " input (Dense)               (None, 144)               13968     \n",
      "                                                                 \n",
      " hidden_layer_2 (Dense)      (None, 192)               27840     \n",
      "                                                                 \n",
      " hidden_layer_3 (Dense)      (None, 144)               27792     \n",
      "                                                                 \n",
      " hidden_layer_4 (Dense)      (None, 48)                6960      \n",
      "                                                                 \n",
      " output (Dense)              (None, 1)                 49        \n",
      "                                                                 \n",
      "=================================================================\n",
      "Total params: 76,609\n",
      "Trainable params: 76,609\n",
      "Non-trainable params: 0\n",
      "_________________________________________________________________\n"
     ]
    }
   ],
   "source": [
    "import tensorflow as tf\n",
    "\n",
    "model_class = tf.keras.models.Sequential()\n",
    "model_class.add(tf.keras.layers.Dense(int(X_train[0].shape[0]*1.5), activation='softmax',\n",
    "                                      input_shape=(X_train[0].shape[0],), name='input'))\n",
    "model_class.add(tf.keras.layers.Dense(\n",
    "    int(X_train[0].shape[0]*2), activation='relu', name='hidden_layer_2'))\n",
    "model_class.add(tf.keras.layers.Dense(\n",
    "    int(X_train[0].shape[0]*1.5), activation='relu', name='hidden_layer_3'))\n",
    "model_class.add(tf.keras.layers.Dense(\n",
    "    int(X_train[0].shape[0]*0.5), activation='relu', name='hidden_layer_4'))\n",
    "model_class.add(tf.keras.layers.Dense(1, name='output'))\n",
    "model_class.summary()\n"
   ]
  },
  {
   "cell_type": "code",
   "execution_count": 21,
   "metadata": {},
   "outputs": [],
   "source": [
    "model_class.compile(\n",
    "    loss='mse',  # Функция потерь\n",
    "    optimizer='Adam',  # Оптимизатор\n",
    "    metrics=[  # Метрики\n",
    "        'mse',  # Если у объекта назначено имя, то можно вызвать объект с его помощью\n",
    "        # tf.keras.metrics.Precision()\n",
    "    ]\n",
    ")\n"
   ]
  },
  {
   "cell_type": "code",
   "execution_count": 23,
   "metadata": {},
   "outputs": [
    {
     "name": "stdout",
     "output_type": "stream",
     "text": [
      "Epoch 1/40\n",
      "238/238 [==============================] - 2s 3ms/step - loss: 0.1558 - mse: 0.1558 - val_loss: 0.0976 - val_mse: 0.0976\n",
      "Epoch 2/40\n",
      "238/238 [==============================] - 1s 2ms/step - loss: 0.0514 - mse: 0.0514 - val_loss: 0.0611 - val_mse: 0.0611\n",
      "Epoch 3/40\n",
      "238/238 [==============================] - 1s 2ms/step - loss: 0.0318 - mse: 0.0318 - val_loss: 0.0409 - val_mse: 0.0409\n",
      "Epoch 4/40\n",
      "238/238 [==============================] - 1s 2ms/step - loss: 0.0209 - mse: 0.0209 - val_loss: 0.0400 - val_mse: 0.0400\n",
      "Epoch 5/40\n",
      "238/238 [==============================] - 1s 2ms/step - loss: 0.0141 - mse: 0.0141 - val_loss: 0.0377 - val_mse: 0.0377\n",
      "Epoch 6/40\n",
      "238/238 [==============================] - 1s 2ms/step - loss: 0.0100 - mse: 0.0100 - val_loss: 0.0329 - val_mse: 0.0329\n",
      "Epoch 7/40\n",
      "238/238 [==============================] - 1s 2ms/step - loss: 0.0060 - mse: 0.0060 - val_loss: 0.0579 - val_mse: 0.0579\n",
      "Epoch 8/40\n",
      "238/238 [==============================] - 1s 2ms/step - loss: 0.0048 - mse: 0.0048 - val_loss: 0.0348 - val_mse: 0.0348\n",
      "Epoch 9/40\n",
      "238/238 [==============================] - 1s 2ms/step - loss: 0.0019 - mse: 0.0019 - val_loss: 0.0335 - val_mse: 0.0335\n",
      "Epoch 10/40\n",
      "238/238 [==============================] - 1s 2ms/step - loss: 8.1406e-04 - mse: 8.1406e-04 - val_loss: 0.0362 - val_mse: 0.0362\n",
      "Epoch 11/40\n",
      "238/238 [==============================] - 1s 2ms/step - loss: 6.2511e-04 - mse: 6.2511e-04 - val_loss: 0.0399 - val_mse: 0.0399\n",
      "Epoch 12/40\n",
      "238/238 [==============================] - 1s 2ms/step - loss: 0.0100 - mse: 0.0100 - val_loss: 0.0518 - val_mse: 0.0518\n",
      "Epoch 13/40\n",
      "238/238 [==============================] - 1s 2ms/step - loss: 0.0013 - mse: 0.0013 - val_loss: 0.0359 - val_mse: 0.0359\n",
      "Epoch 14/40\n",
      "238/238 [==============================] - 1s 2ms/step - loss: 1.1326e-04 - mse: 1.1326e-04 - val_loss: 0.0367 - val_mse: 0.0367\n",
      "Epoch 15/40\n",
      "238/238 [==============================] - 1s 2ms/step - loss: 6.0641e-05 - mse: 6.0641e-05 - val_loss: 0.0375 - val_mse: 0.0375\n",
      "Epoch 16/40\n",
      "238/238 [==============================] - 1s 2ms/step - loss: 4.8684e-05 - mse: 4.8684e-05 - val_loss: 0.0382 - val_mse: 0.0382\n",
      "Epoch 17/40\n",
      "238/238 [==============================] - 1s 2ms/step - loss: 3.2562e-05 - mse: 3.2562e-05 - val_loss: 0.0379 - val_mse: 0.0379\n",
      "Epoch 18/40\n",
      "238/238 [==============================] - 1s 3ms/step - loss: 3.4012e-05 - mse: 3.4012e-05 - val_loss: 0.0376 - val_mse: 0.0376\n",
      "Epoch 19/40\n",
      "238/238 [==============================] - 1s 3ms/step - loss: 3.0568e-05 - mse: 3.0568e-05 - val_loss: 0.0377 - val_mse: 0.0377\n",
      "Epoch 20/40\n",
      "238/238 [==============================] - 1s 2ms/step - loss: 1.1118e-04 - mse: 1.1118e-04 - val_loss: 0.0383 - val_mse: 0.0383\n",
      "Epoch 21/40\n",
      "238/238 [==============================] - 1s 2ms/step - loss: 4.2307e-05 - mse: 4.2307e-05 - val_loss: 0.0382 - val_mse: 0.0382\n",
      "Epoch 22/40\n",
      "238/238 [==============================] - 1s 2ms/step - loss: 2.0360e-05 - mse: 2.0360e-05 - val_loss: 0.0389 - val_mse: 0.0389\n",
      "Epoch 23/40\n",
      "238/238 [==============================] - 1s 2ms/step - loss: 1.2128e-04 - mse: 1.2128e-04 - val_loss: 0.0379 - val_mse: 0.0379\n",
      "Epoch 24/40\n",
      "238/238 [==============================] - 1s 2ms/step - loss: 4.2156e-05 - mse: 4.2156e-05 - val_loss: 0.0371 - val_mse: 0.0371\n",
      "Epoch 25/40\n",
      "238/238 [==============================] - 1s 2ms/step - loss: 5.9800e-05 - mse: 5.9800e-05 - val_loss: 0.0367 - val_mse: 0.0367\n",
      "Epoch 26/40\n",
      "238/238 [==============================] - 1s 2ms/step - loss: 6.6900e-05 - mse: 6.6900e-05 - val_loss: 0.0382 - val_mse: 0.0382\n",
      "Epoch 27/40\n",
      "238/238 [==============================] - 1s 2ms/step - loss: 5.5104e-04 - mse: 5.5104e-04 - val_loss: 0.0333 - val_mse: 0.0333\n",
      "Epoch 28/40\n",
      "238/238 [==============================] - 1s 2ms/step - loss: 8.9103e-05 - mse: 8.9103e-05 - val_loss: 0.0361 - val_mse: 0.0361\n",
      "Epoch 29/40\n",
      "238/238 [==============================] - 1s 3ms/step - loss: 6.5871e-05 - mse: 6.5871e-05 - val_loss: 0.0343 - val_mse: 0.0343\n",
      "Epoch 30/40\n",
      "238/238 [==============================] - 1s 3ms/step - loss: 4.2590e-05 - mse: 4.2590e-05 - val_loss: 0.0359 - val_mse: 0.0359\n",
      "Epoch 31/40\n",
      "238/238 [==============================] - 1s 2ms/step - loss: 6.8038e-05 - mse: 6.8038e-05 - val_loss: 0.0359 - val_mse: 0.0359\n",
      "Epoch 32/40\n",
      "238/238 [==============================] - 1s 2ms/step - loss: 2.9725e-04 - mse: 2.9725e-04 - val_loss: 0.0363 - val_mse: 0.0363\n",
      "Epoch 33/40\n",
      "238/238 [==============================] - 1s 3ms/step - loss: 1.0459e-04 - mse: 1.0459e-04 - val_loss: 0.0350 - val_mse: 0.0350\n",
      "Epoch 34/40\n",
      "238/238 [==============================] - 1s 3ms/step - loss: 3.7339e-04 - mse: 3.7339e-04 - val_loss: 0.0386 - val_mse: 0.0386\n",
      "Epoch 35/40\n",
      "238/238 [==============================] - 1s 2ms/step - loss: 0.0208 - mse: 0.0208 - val_loss: 0.0376 - val_mse: 0.0376\n",
      "Epoch 36/40\n",
      "238/238 [==============================] - 1s 2ms/step - loss: 0.0021 - mse: 0.0021 - val_loss: 0.0353 - val_mse: 0.0353\n",
      "Epoch 37/40\n",
      "238/238 [==============================] - 1s 2ms/step - loss: 4.3412e-04 - mse: 4.3412e-04 - val_loss: 0.0342 - val_mse: 0.0342\n",
      "Epoch 38/40\n",
      "238/238 [==============================] - 1s 2ms/step - loss: 1.5493e-04 - mse: 1.5493e-04 - val_loss: 0.0408 - val_mse: 0.0408\n",
      "Epoch 39/40\n",
      "238/238 [==============================] - 1s 2ms/step - loss: 2.4673e-05 - mse: 2.4673e-05 - val_loss: 0.0393 - val_mse: 0.0393\n",
      "Epoch 40/40\n",
      "238/238 [==============================] - 1s 3ms/step - loss: 2.8256e-05 - mse: 2.8256e-05 - val_loss: 0.0394 - val_mse: 0.0394\n"
     ]
    },
    {
     "data": {
      "text/plain": [
       "<keras.callbacks.History at 0x25b466f5bb0>"
      ]
     },
     "execution_count": 23,
     "metadata": {},
     "output_type": "execute_result"
    }
   ],
   "source": [
    "model_class.fit(\n",
    "    X_train,  # Набор входных данных\n",
    "    y_train,  # Набор правильных ответов\n",
    "    validation_split=0.4,  # Этот параметр автоматически выделит часть обучающего набора на валидационные данные. В данном случа 20%\n",
    "    epochs=40,  # Процесс обучения завершится после 10 эпох\n",
    "    # Набор данных будет разбит на пакеты (батчи) по 8 элементов набора в каждом.\n",
    "    batch_size=2\n",
    ")\n"
   ]
  },
  {
   "cell_type": "code",
   "execution_count": 24,
   "metadata": {},
   "outputs": [
    {
     "name": "stdout",
     "output_type": "stream",
     "text": [
      "9/9 [==============================] - 0s 1ms/step\n"
     ]
    }
   ],
   "source": [
    "predict = model_class.predict(X_test)\n"
   ]
  },
  {
   "cell_type": "code",
   "execution_count": 25,
   "metadata": {},
   "outputs": [
    {
     "data": {
      "text/plain": [
       "0.056950731650575605"
      ]
     },
     "execution_count": 25,
     "metadata": {},
     "output_type": "execute_result"
    }
   ],
   "source": [
    "mean_squared_error(predict, y_test)\n"
   ]
  },
  {
   "cell_type": "code",
   "execution_count": 26,
   "metadata": {},
   "outputs": [
    {
     "name": "stdout",
     "output_type": "stream",
     "text": [
      "33/33 [==============================] - 0s 1ms/step\n",
      "Accuracy\n",
      "0.9678030303030303\n",
      "Confusion matrix\n",
      "[[322  27]\n",
      " [  7 700]]\n",
      "Precision, Recall, F\n",
      "               precision    recall  f1-score   support\n",
      "\n",
      "           0       0.98      0.92      0.95       349\n",
      "           1       0.96      0.99      0.98       707\n",
      "\n",
      "    accuracy                           0.97      1056\n",
      "   macro avg       0.97      0.96      0.96      1056\n",
      "weighted avg       0.97      0.97      0.97      1056\n",
      "\n"
     ]
    }
   ],
   "source": [
    "predictA = model_class.predict(features)\n",
    "print('Accuracy')\n",
    "print(accuracy_score(labels, predictA > 0.5))\n",
    "print('Confusion matrix')\n",
    "print(confusion_matrix(labels, predictA > 0.5))\n",
    "print('Precision, Recall, F\\n', classification_report(\n",
    "    labels, predictA > 0.5))\n"
   ]
  },
  {
   "cell_type": "code",
   "execution_count": 27,
   "metadata": {},
   "outputs": [
    {
     "name": "stdout",
     "output_type": "stream",
     "text": [
      "Accuracy\n",
      "0.928030303030303\n",
      "Confusion matrix\n",
      "[[ 85  13]\n",
      " [  6 160]]\n",
      "Precision, Recall, F\n",
      "               precision    recall  f1-score   support\n",
      "\n",
      "           0       0.93      0.87      0.90        98\n",
      "           1       0.92      0.96      0.94       166\n",
      "\n",
      "    accuracy                           0.93       264\n",
      "   macro avg       0.93      0.92      0.92       264\n",
      "weighted avg       0.93      0.93      0.93       264\n",
      "\n"
     ]
    }
   ],
   "source": [
    "print('Accuracy')\n",
    "print(accuracy_score(y_test, predict > 0.5))\n",
    "print('Confusion matrix')\n",
    "print(confusion_matrix(y_test, predict > 0.5))\n",
    "print('Precision, Recall, F\\n', classification_report(\n",
    "    y_test, predict > 0.5))\n"
   ]
  },
  {
   "cell_type": "code",
   "execution_count": 28,
   "metadata": {},
   "outputs": [
    {
     "name": "stderr",
     "output_type": "stream",
     "text": [
      "WARNING:absl:Found untraced functions such as _update_step_xla while saving (showing 1 of 1). These functions will not be directly callable after loading.\n"
     ]
    },
    {
     "name": "stdout",
     "output_type": "stream",
     "text": [
      "INFO:tensorflow:Assets written to: ../../PipeLines/Classifications/checker_is_discriptor_spacy_vectorize\\assets\n"
     ]
    },
    {
     "name": "stderr",
     "output_type": "stream",
     "text": [
      "INFO:tensorflow:Assets written to: ../../PipeLines/Classifications/checker_is_discriptor_spacy_vectorize\\assets\n"
     ]
    }
   ],
   "source": [
    "model_class.save('../../PipeLines/Classifications/checker_is_discriptor_spacy_vectorize')\n"
   ]
  },
  {
   "cell_type": "code",
   "execution_count": null,
   "metadata": {},
   "outputs": [],
   "source": [
    "                                      "
   ]
  }
 ],
 "metadata": {
  "kernelspec": {
   "display_name": "ITS_project",
   "language": "python",
   "name": "python3"
  },
  "language_info": {
   "codemirror_mode": {
    "name": "ipython",
    "version": 3
   },
   "file_extension": ".py",
   "mimetype": "text/x-python",
   "name": "python",
   "nbconvert_exporter": "python",
   "pygments_lexer": "ipython3",
   "version": "3.9.2"
  },
  "orig_nbformat": 4
 },
 "nbformat": 4,
 "nbformat_minor": 2
}
