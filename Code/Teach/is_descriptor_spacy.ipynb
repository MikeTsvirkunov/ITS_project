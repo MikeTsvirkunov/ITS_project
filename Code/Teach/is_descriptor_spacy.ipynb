{
 "cells": [
  {
   "cell_type": "code",
   "execution_count": 1,
   "metadata": {},
   "outputs": [],
   "source": [
    "import numpy as np\n",
    "import pandas as pd\n",
    "import spacy\n",
    "nlp = spacy.load(\"ru_core_news_sm\")\n",
    "import tensorflow as tf\n",
    "from sklearn.model_selection import cross_val_score\n",
    "from sklearn.metrics import accuracy_score, confusion_matrix, classification_report, roc_curve, RocCurveDisplay, auc, mean_squared_error\n",
    "from sklearn.model_selection import train_test_split\n",
    "from json import load\n"
   ]
  },
  {
   "cell_type": "code",
   "execution_count": 7,
   "metadata": {},
   "outputs": [],
   "source": [
    "not_discriptors = list()\n",
    "with open('../../Data/Words/word_pairs_not_disc.txt', 'r', encoding='utf-8') as txt:\n",
    "    for i in txt:\n",
    "        not_discriptors.append(i.replace('\\n', ''))\n",
    "\n",
    "with open('../../Data/Events/type_of_events.json', 'r', encoding='utf-8') as js:\n",
    "    events = load(js)\n",
    "\n",
    "with open('../../Data/Datasets/data.json', 'r', encoding='utf-8') as js:\n",
    "    discriptors = load(js)\n"
   ]
  },
  {
   "cell_type": "code",
   "execution_count": 8,
   "metadata": {},
   "outputs": [],
   "source": [
    "dict_of_disc = {'expession': [], 'is_discr': []}\n",
    "for subject in discriptors.values():\n",
    "    for d in sum(subject.values(), []):\n",
    "        dict_of_disc['expession'].append(nlp(d).vector)\n",
    "        dict_of_disc['is_discr'].append(True)\n",
    "\n",
    "for subject in not_discriptors:\n",
    "    dict_of_disc['expession'].append(nlp(subject).vector)\n",
    "    dict_of_disc['is_discr'].append(False)\n",
    "\n"
   ]
  },
  {
   "cell_type": "code",
   "execution_count": 13,
   "metadata": {},
   "outputs": [],
   "source": [
    "features = np.array(dict_of_disc['expession'])\n",
    "labels = np.array(list(map(int, dict_of_disc['is_discr'])))\n"
   ]
  },
  {
   "cell_type": "code",
   "execution_count": 5,
   "metadata": {},
   "outputs": [],
   "source": [
    "X_train, X_test, y_train, y_test = train_test_split(features, labels, random_state=71)\n"
   ]
  },
  {
   "cell_type": "code",
   "execution_count": 6,
   "metadata": {},
   "outputs": [
    {
     "name": "stdout",
     "output_type": "stream",
     "text": [
      "Model: \"sequential\"\n",
      "_________________________________________________________________\n",
      " Layer (type)                Output Shape              Param #   \n",
      "=================================================================\n",
      " input (Dense)               (None, 144)               13968     \n",
      "                                                                 \n",
      " hidden_layer_2 (Dense)      (None, 192)               27840     \n",
      "                                                                 \n",
      " hidden_layer_3 (Dense)      (None, 144)               27792     \n",
      "                                                                 \n",
      " hidden_layer_4 (Dense)      (None, 48)                6960      \n",
      "                                                                 \n",
      " output (Dense)              (None, 1)                 49        \n",
      "                                                                 \n",
      "=================================================================\n",
      "Total params: 76,609\n",
      "Trainable params: 76,609\n",
      "Non-trainable params: 0\n",
      "_________________________________________________________________\n"
     ]
    }
   ],
   "source": [
    "import tensorflow as tf\n",
    "\n",
    "model_class = tf.keras.models.Sequential()\n",
    "model_class.add(tf.keras.layers.Dense(int(X_train[0].shape[0]*1.5), activation='softmax',\n",
    "                                      input_shape=(X_train[0].shape[0],), name='input'))\n",
    "model_class.add(tf.keras.layers.Dense(\n",
    "    int(X_train[0].shape[0]*2), activation='relu', name='hidden_layer_2'))\n",
    "model_class.add(tf.keras.layers.Dense(\n",
    "    int(X_train[0].shape[0]*1.5), activation='relu', name='hidden_layer_3'))\n",
    "model_class.add(tf.keras.layers.Dense(\n",
    "    int(X_train[0].shape[0]*0.5), activation='relu', name='hidden_layer_4'))\n",
    "model_class.add(tf.keras.layers.Dense(1, name='output'))\n",
    "model_class.summary()\n"
   ]
  },
  {
   "cell_type": "code",
   "execution_count": 7,
   "metadata": {},
   "outputs": [],
   "source": [
    "model_class.compile(\n",
    "    loss='mse',  # Функция потерь\n",
    "    optimizer='Adam',  # Оптимизатор\n",
    "    metrics=[  # Метрики\n",
    "        'mse',  # Если у объекта назначено имя, то можно вызвать объект с его помощью\n",
    "        # tf.keras.metrics.Precision()\n",
    "    ]\n",
    ")\n"
   ]
  },
  {
   "cell_type": "code",
   "execution_count": 8,
   "metadata": {},
   "outputs": [
    {
     "name": "stdout",
     "output_type": "stream",
     "text": [
      "Epoch 1/40\n",
      "238/238 [==============================] - 4s 3ms/step - loss: 0.1503 - mse: 0.1503 - val_loss: 0.0750 - val_mse: 0.0750\n",
      "Epoch 2/40\n",
      "238/238 [==============================] - 0s 2ms/step - loss: 0.0491 - mse: 0.0491 - val_loss: 0.0583 - val_mse: 0.0583\n",
      "Epoch 3/40\n",
      "238/238 [==============================] - 1s 2ms/step - loss: 0.0321 - mse: 0.0321 - val_loss: 0.0434 - val_mse: 0.0434\n",
      "Epoch 4/40\n",
      "238/238 [==============================] - 1s 2ms/step - loss: 0.0241 - mse: 0.0241 - val_loss: 0.0451 - val_mse: 0.0451\n",
      "Epoch 5/40\n",
      "238/238 [==============================] - 1s 3ms/step - loss: 0.0211 - mse: 0.0211 - val_loss: 0.0536 - val_mse: 0.0536\n",
      "Epoch 6/40\n",
      "238/238 [==============================] - 0s 2ms/step - loss: 0.0095 - mse: 0.0095 - val_loss: 0.0368 - val_mse: 0.0368\n",
      "Epoch 7/40\n",
      "238/238 [==============================] - 1s 2ms/step - loss: 0.0070 - mse: 0.0070 - val_loss: 0.0384 - val_mse: 0.0384\n",
      "Epoch 8/40\n",
      "238/238 [==============================] - 0s 2ms/step - loss: 0.0036 - mse: 0.0036 - val_loss: 0.0361 - val_mse: 0.0361\n",
      "Epoch 9/40\n",
      "238/238 [==============================] - 0s 2ms/step - loss: 0.0027 - mse: 0.0027 - val_loss: 0.0448 - val_mse: 0.0448\n",
      "Epoch 10/40\n",
      "238/238 [==============================] - 1s 2ms/step - loss: 0.0064 - mse: 0.0064 - val_loss: 0.0557 - val_mse: 0.0557\n",
      "Epoch 11/40\n",
      "238/238 [==============================] - 0s 2ms/step - loss: 0.0010 - mse: 0.0010 - val_loss: 0.0446 - val_mse: 0.0446\n",
      "Epoch 12/40\n",
      "238/238 [==============================] - 1s 2ms/step - loss: 2.8806e-04 - mse: 2.8806e-04 - val_loss: 0.0526 - val_mse: 0.0526\n",
      "Epoch 13/40\n",
      "238/238 [==============================] - 1s 2ms/step - loss: 0.0012 - mse: 0.0012 - val_loss: 0.0449 - val_mse: 0.0449\n",
      "Epoch 14/40\n",
      "238/238 [==============================] - 1s 2ms/step - loss: 3.1869e-04 - mse: 3.1869e-04 - val_loss: 0.0445 - val_mse: 0.0445\n",
      "Epoch 15/40\n",
      "238/238 [==============================] - 1s 3ms/step - loss: 7.5274e-05 - mse: 7.5274e-05 - val_loss: 0.0446 - val_mse: 0.0446\n",
      "Epoch 16/40\n",
      "238/238 [==============================] - 1s 3ms/step - loss: 8.5841e-05 - mse: 8.5841e-05 - val_loss: 0.0440 - val_mse: 0.0440\n",
      "Epoch 17/40\n",
      "238/238 [==============================] - 0s 2ms/step - loss: 4.1778e-05 - mse: 4.1778e-05 - val_loss: 0.0443 - val_mse: 0.0443\n",
      "Epoch 18/40\n",
      "238/238 [==============================] - 0s 2ms/step - loss: 5.7626e-05 - mse: 5.7626e-05 - val_loss: 0.0448 - val_mse: 0.0448\n",
      "Epoch 19/40\n",
      "238/238 [==============================] - 1s 3ms/step - loss: 1.3800e-04 - mse: 1.3800e-04 - val_loss: 0.0444 - val_mse: 0.0444\n",
      "Epoch 20/40\n",
      "238/238 [==============================] - 1s 2ms/step - loss: 3.4406e-05 - mse: 3.4406e-05 - val_loss: 0.0444 - val_mse: 0.0444\n",
      "Epoch 21/40\n",
      "238/238 [==============================] - 1s 2ms/step - loss: 2.9211e-05 - mse: 2.9211e-05 - val_loss: 0.0444 - val_mse: 0.0444\n",
      "Epoch 22/40\n",
      "238/238 [==============================] - 1s 2ms/step - loss: 2.7468e-04 - mse: 2.7468e-04 - val_loss: 0.0445 - val_mse: 0.0445\n",
      "Epoch 23/40\n",
      "238/238 [==============================] - 1s 3ms/step - loss: 1.2042e-04 - mse: 1.2042e-04 - val_loss: 0.0443 - val_mse: 0.0443\n",
      "Epoch 24/40\n",
      "238/238 [==============================] - 1s 2ms/step - loss: 1.7592e-04 - mse: 1.7592e-04 - val_loss: 0.0438 - val_mse: 0.0438\n",
      "Epoch 25/40\n",
      "238/238 [==============================] - 1s 2ms/step - loss: 1.7866e-04 - mse: 1.7866e-04 - val_loss: 0.0442 - val_mse: 0.0442\n",
      "Epoch 26/40\n",
      "238/238 [==============================] - 1s 2ms/step - loss: 7.7778e-05 - mse: 7.7778e-05 - val_loss: 0.0438 - val_mse: 0.0438\n",
      "Epoch 27/40\n",
      "238/238 [==============================] - 1s 2ms/step - loss: 1.1313e-04 - mse: 1.1313e-04 - val_loss: 0.0434 - val_mse: 0.0434\n",
      "Epoch 28/40\n",
      "238/238 [==============================] - 1s 2ms/step - loss: 0.0155 - mse: 0.0155 - val_loss: 0.0461 - val_mse: 0.0461\n",
      "Epoch 29/40\n",
      "238/238 [==============================] - 1s 2ms/step - loss: 0.0125 - mse: 0.0125 - val_loss: 0.0401 - val_mse: 0.0401\n",
      "Epoch 30/40\n",
      "238/238 [==============================] - 1s 2ms/step - loss: 0.0033 - mse: 0.0033 - val_loss: 0.0373 - val_mse: 0.0373\n",
      "Epoch 31/40\n",
      "238/238 [==============================] - 1s 2ms/step - loss: 7.6086e-04 - mse: 7.6086e-04 - val_loss: 0.0381 - val_mse: 0.0381\n",
      "Epoch 32/40\n",
      "238/238 [==============================] - 1s 2ms/step - loss: 4.7481e-04 - mse: 4.7481e-04 - val_loss: 0.0357 - val_mse: 0.0357\n",
      "Epoch 33/40\n",
      "238/238 [==============================] - 1s 2ms/step - loss: 3.1026e-05 - mse: 3.1026e-05 - val_loss: 0.0363 - val_mse: 0.0363\n",
      "Epoch 34/40\n",
      "238/238 [==============================] - 1s 2ms/step - loss: 2.2041e-05 - mse: 2.2041e-05 - val_loss: 0.0358 - val_mse: 0.0358\n",
      "Epoch 35/40\n",
      "238/238 [==============================] - 1s 2ms/step - loss: 1.9563e-05 - mse: 1.9563e-05 - val_loss: 0.0360 - val_mse: 0.0360\n",
      "Epoch 36/40\n",
      "238/238 [==============================] - 0s 2ms/step - loss: 2.0319e-05 - mse: 2.0319e-05 - val_loss: 0.0357 - val_mse: 0.0357\n",
      "Epoch 37/40\n",
      "238/238 [==============================] - 1s 2ms/step - loss: 1.5889e-05 - mse: 1.5889e-05 - val_loss: 0.0361 - val_mse: 0.0361\n",
      "Epoch 38/40\n",
      "238/238 [==============================] - 1s 2ms/step - loss: 3.6900e-05 - mse: 3.6900e-05 - val_loss: 0.0363 - val_mse: 0.0363\n",
      "Epoch 39/40\n",
      "238/238 [==============================] - 1s 2ms/step - loss: 6.5677e-05 - mse: 6.5677e-05 - val_loss: 0.0361 - val_mse: 0.0361\n",
      "Epoch 40/40\n",
      "238/238 [==============================] - 1s 2ms/step - loss: 1.8217e-05 - mse: 1.8217e-05 - val_loss: 0.0363 - val_mse: 0.0363\n"
     ]
    },
    {
     "data": {
      "text/plain": [
       "<keras.callbacks.History at 0x19884f11ba0>"
      ]
     },
     "execution_count": 8,
     "metadata": {},
     "output_type": "execute_result"
    }
   ],
   "source": [
    "model_class.fit(\n",
    "    X_train,  # Набор входных данных\n",
    "    y_train,  # Набор правильных ответов\n",
    "    validation_split=0.4,  # Этот параметр автоматически выделит часть обучающего набора на валидационные данные. В данном случа 20%\n",
    "    epochs=40,  # Процесс обучения завершится после 10 эпох\n",
    "    # Набор данных будет разбит на пакеты (батчи) по 8 элементов набора в каждом.\n",
    "    batch_size=2\n",
    ")\n"
   ]
  },
  {
   "cell_type": "code",
   "execution_count": 9,
   "metadata": {},
   "outputs": [
    {
     "name": "stdout",
     "output_type": "stream",
     "text": [
      "9/9 [==============================] - 0s 2ms/step\n"
     ]
    }
   ],
   "source": [
    "predict = model_class.predict(X_test)\n"
   ]
  },
  {
   "cell_type": "code",
   "execution_count": 10,
   "metadata": {},
   "outputs": [
    {
     "data": {
      "text/plain": [
       "0.0580643455770958"
      ]
     },
     "execution_count": 10,
     "metadata": {},
     "output_type": "execute_result"
    }
   ],
   "source": [
    "mean_squared_error(predict, y_test)\n"
   ]
  },
  {
   "cell_type": "code",
   "execution_count": 11,
   "metadata": {},
   "outputs": [
    {
     "name": "stdout",
     "output_type": "stream",
     "text": [
      "33/33 [==============================] - 0s 1ms/step\n",
      "Accuracy\n",
      "0.96875\n",
      "Confusion matrix\n",
      "[[327  22]\n",
      " [ 11 696]]\n",
      "Precision, Recall, F\n",
      "               precision    recall  f1-score   support\n",
      "\n",
      "           0       0.97      0.94      0.95       349\n",
      "           1       0.97      0.98      0.98       707\n",
      "\n",
      "    accuracy                           0.97      1056\n",
      "   macro avg       0.97      0.96      0.96      1056\n",
      "weighted avg       0.97      0.97      0.97      1056\n",
      "\n"
     ]
    }
   ],
   "source": [
    "predictA = model_class.predict(features)\n",
    "print('Accuracy')\n",
    "print(accuracy_score(labels, predictA > 0.5))\n",
    "print('Confusion matrix')\n",
    "print(confusion_matrix(labels, predictA > 0.5))\n",
    "print('Precision, Recall, F\\n', classification_report(\n",
    "    labels, predictA > 0.5))\n"
   ]
  },
  {
   "cell_type": "code",
   "execution_count": 12,
   "metadata": {},
   "outputs": [
    {
     "name": "stdout",
     "output_type": "stream",
     "text": [
      "Accuracy\n",
      "0.9242424242424242\n",
      "Confusion matrix\n",
      "[[ 86  12]\n",
      " [  8 158]]\n",
      "Precision, Recall, F\n",
      "               precision    recall  f1-score   support\n",
      "\n",
      "           0       0.91      0.88      0.90        98\n",
      "           1       0.93      0.95      0.94       166\n",
      "\n",
      "    accuracy                           0.92       264\n",
      "   macro avg       0.92      0.91      0.92       264\n",
      "weighted avg       0.92      0.92      0.92       264\n",
      "\n"
     ]
    }
   ],
   "source": [
    "print('Accuracy')\n",
    "print(accuracy_score(y_test, predict > 0.5))\n",
    "print('Confusion matrix')\n",
    "print(confusion_matrix(y_test, predict > 0.5))\n",
    "print('Precision, Recall, F\\n', classification_report(\n",
    "    y_test, predict > 0.5))\n"
   ]
  },
  {
   "cell_type": "code",
   "execution_count": 13,
   "metadata": {},
   "outputs": [],
   "source": [
    "model_class.save('../../PipeLines/Classifications/checker_is_discriptor_spacy_vectorize.h5')\n"
   ]
  },
  {
   "cell_type": "code",
   "execution_count": null,
   "metadata": {},
   "outputs": [],
   "source": [
    "                                      "
   ]
  }
 ],
 "metadata": {
  "kernelspec": {
   "display_name": "Python 3.10.4 ('nlp_venv': venv)",
   "language": "python",
   "name": "python3"
  },
  "language_info": {
   "codemirror_mode": {
    "name": "ipython",
    "version": 3
   },
   "file_extension": ".py",
   "mimetype": "text/x-python",
   "name": "python",
   "nbconvert_exporter": "python",
   "pygments_lexer": "ipython3",
   "version": "3.10.4"
  },
  "orig_nbformat": 4,
  "vscode": {
   "interpreter": {
    "hash": "451f605c58fa7f82d1d484da5a7eef3d214b63567dc0911e0bf409faa3ae9cbb"
   }
  }
 },
 "nbformat": 4,
 "nbformat_minor": 2
}
