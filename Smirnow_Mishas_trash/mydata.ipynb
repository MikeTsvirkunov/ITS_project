{
 "cells": [
  {
   "cell_type": "code",
   "execution_count": 55,
   "metadata": {},
   "outputs": [],
   "source": [
    "import pandas as pd"
   ]
  },
  {
   "cell_type": "code",
   "execution_count": 56,
   "metadata": {},
   "outputs": [],
   "source": [
    "import requests\n",
    "from bs4 import BeautifulSoup as bs\n",
    "import pandas as pd"
   ]
  },
  {
   "cell_type": "code",
   "execution_count": 57,
   "metadata": {},
   "outputs": [
    {
     "name": "stdout",
     "output_type": "stream",
     "text": [
      "200\n"
     ]
    }
   ],
   "source": [
    "URL_TEMPLATE = \"https://leader-id.ru/events/?actual=1&cityId=881&registrationActual=1&sort=date\"\n",
    "r = requests.get(URL_TEMPLATE)\n",
    "print(r.status_code)"
   ]
  },
  {
   "cell_type": "code",
   "execution_count": 58,
   "metadata": {},
   "outputs": [
    {
     "name": "stdout",
     "output_type": "stream",
     "text": [
      " Технологические аспекты выращивания зерновых культур \n",
      " Модели сопровождения проектов от стадии идеи до всероссийских инициатив. Опыт Агентства стратегических инициатив \n",
      " Разговоры о важном: расстановка приоритетов. Волонтерство. \n",
      " Ветеринарное образование в странах ЕврАзЭС - Киргизская Республика \n",
      " Стартовый интенсив \n",
      " IV Всероссийский Фестиваль неравнодушных людей МГППУ // 17–21 АПРЕЛЯ 2023 ГОДА \n",
      " Стигматизация людей с ментальной инвалидностью // Открытое шоссе, МГППУ \n",
      " Наставничество – образ жизни // Точка кипения МГППУ \n",
      " Защита основных сельскохозяйственных культур и антирезистентная стратегия \n",
      " Стартовый интенсив \n",
      " Молодежь в цифровом мире: как остаться человеком? \n",
      " Круглый-стол «Хорошо ли вы разбираетесь в экотрендах и осознанном потреблении» \n",
      " Путь донации // Точка кипения МГППУ \n",
      " Фонд «Даунсайд Ап»: особенности работы // Открытое шоссе, МГППУ \n",
      " Научно-исследовательский семинар «Научная публикация глазами автора и издателя: как написать статью, чтобы тебя издали» \n",
      " ТехноЛюди. Ашхен Овсепян \n",
      " Препараты линейки компании Иннагро на основе микробного синтеза и коллоидного серебра \n",
      " Как хакнуть свой мозг на 4 шага или коротко о том, как заботиться о своём ментальном здоровье \n"
     ]
    }
   ],
   "source": [
    "soup = bs(r.text, \"html.parser\")\n",
    "vacancies_names = soup.find_all('h4', class_='app-card-event__title app-heading-4')\n",
    "for name in vacancies_names:\n",
    "    print(name.text)"
   ]
  },
  {
   "cell_type": "code",
   "execution_count": 61,
   "metadata": {},
   "outputs": [],
   "source": [
    "from bs4 import BeautifulSoup"
   ]
  },
  {
   "cell_type": "code",
   "execution_count": 62,
   "metadata": {},
   "outputs": [],
   "source": [
    "url = 'https://leader-id.ru/events/'\n",
    "response = requests.get(url)\n",
    "soup = bs(response.text)\n",
    "items = soup.find_all('div', class_='el-col el-col-24 el-col-md-16')\n",
    "# print(items)"
   ]
  },
  {
   "cell_type": "code",
   "execution_count": 63,
   "metadata": {},
   "outputs": [],
   "source": [
    "for n, i in enumerate(items, start=1):\n",
    "    itemPrice = i.find('p').text\n",
    "    print(f'{n}: {itemPrice}')"
   ]
  },
  {
   "cell_type": "code",
   "execution_count": null,
   "metadata": {},
   "outputs": [],
   "source": []
  },
  {
   "cell_type": "code",
   "execution_count": 150,
   "metadata": {},
   "outputs": [],
   "source": [
    "URL_TEMPLATE2 = \"https://leader-id.ru/events/\"\n",
    "r2 = requests.get(URL_TEMPLATE2)"
   ]
  },
  {
   "cell_type": "code",
   "execution_count": 151,
   "metadata": {},
   "outputs": [
    {
     "name": "stdout",
     "output_type": "stream",
     "text": [
      "200\n"
     ]
    }
   ],
   "source": [
    "print(r2.status_code)"
   ]
  },
  {
   "cell_type": "code",
   "execution_count": 152,
   "metadata": {},
   "outputs": [
    {
     "name": "stdout",
     "output_type": "stream",
     "text": [
      "[]\n"
     ]
    }
   ],
   "source": [
    "# soup2 = bs(r2.text, \"html.parser\")\n",
    "# vacancies_info2 = soup2.find_all('h2', class_='app-heading-2')\n",
    "# for name2 in vacancies_info2:\n",
    "#     print(name2.text)\n",
    "\n",
    "\n",
    "soup2 = bs(r2.text, \"html.parser\")\n",
    "vacancies_info2 = soup2.find_all([\"b\"])\n",
    "print(vacancies_info2)\n",
    "n = 0\n",
    "for name2 in vacancies_info2:\n",
    "    n+=1\n",
    "    print(n)\n",
    "    print(name2.text)\n",
    "\n",
    "\n",
    "# soup2 = bs(r2.text, \"html.parser\")\n",
    "# items2 = soup2.find_all('div', class_='event-about')\n",
    "# for name2 in items2:\n",
    "#     itemPrice = name2.find('p').text\n",
    "#     print(itemPrice)"
   ]
  },
  {
   "cell_type": "code",
   "execution_count": null,
   "metadata": {},
   "outputs": [],
   "source": []
  }
 ],
 "metadata": {
  "kernelspec": {
   "display_name": "Python 3.10.4 ('nlp_venv': venv)",
   "language": "python",
   "name": "python3"
  },
  "language_info": {
   "codemirror_mode": {
    "name": "ipython",
    "version": 3
   },
   "file_extension": ".py",
   "mimetype": "text/x-python",
   "name": "python",
   "nbconvert_exporter": "python",
   "pygments_lexer": "ipython3",
   "version": "3.10.4"
  },
  "orig_nbformat": 4,
  "vscode": {
   "interpreter": {
    "hash": "451f605c58fa7f82d1d484da5a7eef3d214b63567dc0911e0bf409faa3ae9cbb"
   }
  }
 },
 "nbformat": 4,
 "nbformat_minor": 2
}
